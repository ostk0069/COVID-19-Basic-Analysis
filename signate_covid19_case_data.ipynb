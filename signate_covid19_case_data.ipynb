{
  "nbformat": 4,
  "nbformat_minor": 0,
  "metadata": {
    "colab": {
      "name": "signate_covid19_case_data.ipynb",
      "provenance": [],
      "collapsed_sections": [],
      "include_colab_link": true
    },
    "kernelspec": {
      "name": "python3",
      "display_name": "Python 3"
    },
    "accelerator": "TPU"
  },
  "cells": [
    {
      "cell_type": "markdown",
      "metadata": {
        "id": "view-in-github",
        "colab_type": "text"
      },
      "source": [
        "<a href=\"https://colab.research.google.com/github/takumaosada/COVID-19-Basic-Analysis/blob/master/signate_covid19_case_data.ipynb\" target=\"_parent\"><img src=\"https://colab.research.google.com/assets/colab-badge.svg\" alt=\"Open In Colab\"/></a>"
      ]
    },
    {
      "cell_type": "markdown",
      "metadata": {
        "id": "fpB-BBfORx0E",
        "colab_type": "text"
      },
      "source": [
        "# データの読み込み"
      ]
    },
    {
      "cell_type": "code",
      "metadata": {
        "id": "9YHwYlTy6t0e",
        "colab_type": "code",
        "colab": {}
      },
      "source": [
        "import pandas as pd\n",
        "import numpy as np \n",
        "import matplotlib.pyplot as plt\n",
        "import seaborn as sns\n",
        "%matplotlib inline\n",
        "!pip install japanize_matplotlib\n",
        "!pip install category_encoders\n",
        "import japanize_matplotlib\n",
        "import category_encoders as ce\n",
        "import gspread\n",
        "from oauth2client.client import GoogleCredentials\n",
        "from google.colab import auth\n",
        "auth.authenticate_user()"
      ],
      "execution_count": 0,
      "outputs": []
    },
    {
      "cell_type": "code",
      "metadata": {
        "id": "Mr2Pj73q69xp",
        "colab_type": "code",
        "colab": {}
      },
      "source": [
        "gc = gspread.authorize(GoogleCredentials.get_application_default())"
      ],
      "execution_count": 0,
      "outputs": []
    },
    {
      "cell_type": "code",
      "metadata": {
        "id": "eIMlXaj-7GOe",
        "colab_type": "code",
        "colab": {}
      },
      "source": [
        "singatecasefilelink='https://docs.google.com/spreadsheets/d/1VLSA8q2zPCbaTDXXcMsxK0HRZlFRVH7_x0rLd4Z7Jk8/edit#gid=960903158'\n",
        "book = gc.open_by_url(singatecasefilelink)\n",
        "casedata = book.worksheet('罹患者').get_all_values()\n",
        "casedf = pd.DataFrame(casedata)"
      ],
      "execution_count": 0,
      "outputs": []
    },
    {
      "cell_type": "code",
      "metadata": {
        "id": "3cJajGPe7Vdt",
        "colab_type": "code",
        "colab": {
          "base_uri": "https://localhost:8080/",
          "height": 714
        },
        "outputId": "1708db8b-7293-4596-d968-899ec1475115"
      },
      "source": [
        "#データフレームを整理していく\n",
        "area_dict = dict(zip(casedf.index, casedf.iloc[0]))\n",
        "renamed_df = casedf.rename(columns=area_dict)\n",
        "df = renamed_df.drop(0)\n",
        "df =df.drop_duplicates()\n",
        "df.drop(df.index[-1]).tail()"
      ],
      "execution_count": 4,
      "outputs": [
        {
          "output_type": "execute_result",
          "data": {
            "text/html": [
              "<div>\n",
              "<style scoped>\n",
              "    .dataframe tbody tr th:only-of-type {\n",
              "        vertical-align: middle;\n",
              "    }\n",
              "\n",
              "    .dataframe tbody tr th {\n",
              "        vertical-align: top;\n",
              "    }\n",
              "\n",
              "    .dataframe thead th {\n",
              "        text-align: right;\n",
              "    }\n",
              "</style>\n",
              "<table border=\"1\" class=\"dataframe\">\n",
              "  <thead>\n",
              "    <tr style=\"text-align: right;\">\n",
              "      <th></th>\n",
              "      <th>都道府県コード</th>\n",
              "      <th>症例番号</th>\n",
              "      <th>都道府県症例番号</th>\n",
              "      <th>発症日</th>\n",
              "      <th>確定日</th>\n",
              "      <th>公表日</th>\n",
              "      <th>受診都道府県</th>\n",
              "      <th>居住都道府県</th>\n",
              "      <th>居住市区町村</th>\n",
              "      <th>年代</th>\n",
              "      <th>性別</th>\n",
              "      <th>職業</th>\n",
              "      <th>ステータス</th>\n",
              "      <th>退院済ﾌﾗｸﾞ</th>\n",
              "      <th>基礎疾患ﾌﾗｸﾞ</th>\n",
              "      <th>症状・経過</th>\n",
              "      <th>症状一覧</th>\n",
              "      <th>行動歴</th>\n",
              "      <th>濃厚接触者状況</th>\n",
              "      <th>濃厚接触場所</th>\n",
              "      <th>海外渡航歴ﾌﾗｸﾞ</th>\n",
              "      <th>ﾀﾞｲﾔﾓﾝﾄﾞﾌﾟﾘﾝｾｽ号乗船ﾌﾗｸﾞ</th>\n",
              "      <th>情報源</th>\n",
              "      <th>備考</th>\n",
              "      <th>罹患者関係_記入済ﾌﾗｸﾞ</th>\n",
              "      <th>罹患者トランザクション_記入済ﾌﾗｸﾞ</th>\n",
              "      <th>Relation1</th>\n",
              "      <th>Relation2</th>\n",
              "      <th>Transaction</th>\n",
              "    </tr>\n",
              "  </thead>\n",
              "  <tbody>\n",
              "    <tr>\n",
              "      <th>16156</th>\n",
              "      <td>50</td>\n",
              "      <td>1</td>\n",
              "      <td>50-1</td>\n",
              "      <td></td>\n",
              "      <td></td>\n",
              "      <td></td>\n",
              "      <td>中部国際空港</td>\n",
              "      <td></td>\n",
              "      <td></td>\n",
              "      <td></td>\n",
              "      <td></td>\n",
              "      <td></td>\n",
              "      <td></td>\n",
              "      <td></td>\n",
              "      <td></td>\n",
              "      <td></td>\n",
              "      <td></td>\n",
              "      <td></td>\n",
              "      <td></td>\n",
              "      <td></td>\n",
              "      <td></td>\n",
              "      <td></td>\n",
              "      <td></td>\n",
              "      <td></td>\n",
              "      <td>0</td>\n",
              "      <td>0</td>\n",
              "      <td></td>\n",
              "      <td></td>\n",
              "      <td></td>\n",
              "    </tr>\n",
              "    <tr>\n",
              "      <th>16157</th>\n",
              "      <td>51</td>\n",
              "      <td>27</td>\n",
              "      <td>51-27</td>\n",
              "      <td></td>\n",
              "      <td>2020/03/27</td>\n",
              "      <td></td>\n",
              "      <td>関西国際空港</td>\n",
              "      <td>不明</td>\n",
              "      <td></td>\n",
              "      <td>20 - 29</td>\n",
              "      <td>男性</td>\n",
              "      <td></td>\n",
              "      <td>無症状</td>\n",
              "      <td>0</td>\n",
              "      <td></td>\n",
              "      <td></td>\n",
              "      <td></td>\n",
              "      <td></td>\n",
              "      <td></td>\n",
              "      <td></td>\n",
              "      <td></td>\n",
              "      <td></td>\n",
              "      <td>https://www.mhlw.go.jp/stf/newpage_10539.html</td>\n",
              "      <td></td>\n",
              "      <td>0</td>\n",
              "      <td>0</td>\n",
              "      <td></td>\n",
              "      <td></td>\n",
              "      <td></td>\n",
              "    </tr>\n",
              "    <tr>\n",
              "      <th>16158</th>\n",
              "      <td>51</td>\n",
              "      <td>28</td>\n",
              "      <td>51-28</td>\n",
              "      <td></td>\n",
              "      <td>2020/03/27</td>\n",
              "      <td></td>\n",
              "      <td>関西国際空港</td>\n",
              "      <td>兵庫県</td>\n",
              "      <td></td>\n",
              "      <td>非公表</td>\n",
              "      <td>男性</td>\n",
              "      <td></td>\n",
              "      <td>無症状</td>\n",
              "      <td>0</td>\n",
              "      <td></td>\n",
              "      <td></td>\n",
              "      <td></td>\n",
              "      <td></td>\n",
              "      <td></td>\n",
              "      <td></td>\n",
              "      <td></td>\n",
              "      <td></td>\n",
              "      <td>https://www.mhlw.go.jp/stf/newpage_10539.html</td>\n",
              "      <td></td>\n",
              "      <td>0</td>\n",
              "      <td>0</td>\n",
              "      <td></td>\n",
              "      <td></td>\n",
              "      <td></td>\n",
              "    </tr>\n",
              "    <tr>\n",
              "      <th>16159</th>\n",
              "      <td>51</td>\n",
              "      <td>52</td>\n",
              "      <td>51-52</td>\n",
              "      <td></td>\n",
              "      <td>2020/03/30</td>\n",
              "      <td></td>\n",
              "      <td>関西国際空港</td>\n",
              "      <td>不明</td>\n",
              "      <td></td>\n",
              "      <td>30 - 39</td>\n",
              "      <td>男性</td>\n",
              "      <td></td>\n",
              "      <td>無症状</td>\n",
              "      <td>0</td>\n",
              "      <td></td>\n",
              "      <td></td>\n",
              "      <td></td>\n",
              "      <td></td>\n",
              "      <td></td>\n",
              "      <td></td>\n",
              "      <td></td>\n",
              "      <td></td>\n",
              "      <td>https://www.mhlw.go.jp/stf/newpage_10638.html</td>\n",
              "      <td>3/29ドイツから帰国</td>\n",
              "      <td>0</td>\n",
              "      <td>0</td>\n",
              "      <td></td>\n",
              "      <td></td>\n",
              "      <td></td>\n",
              "    </tr>\n",
              "    <tr>\n",
              "      <th>16160</th>\n",
              "      <td>51</td>\n",
              "      <td>53</td>\n",
              "      <td>51-53</td>\n",
              "      <td></td>\n",
              "      <td>2020/03/30</td>\n",
              "      <td></td>\n",
              "      <td>関西国際空港</td>\n",
              "      <td>不明</td>\n",
              "      <td></td>\n",
              "      <td>40 - 49</td>\n",
              "      <td>男性</td>\n",
              "      <td></td>\n",
              "      <td>無症状</td>\n",
              "      <td>0</td>\n",
              "      <td></td>\n",
              "      <td></td>\n",
              "      <td></td>\n",
              "      <td></td>\n",
              "      <td></td>\n",
              "      <td></td>\n",
              "      <td></td>\n",
              "      <td></td>\n",
              "      <td>https://www.mhlw.go.jp/stf/newpage_10638.html</td>\n",
              "      <td>3/29オランダから帰国</td>\n",
              "      <td>0</td>\n",
              "      <td>0</td>\n",
              "      <td></td>\n",
              "      <td></td>\n",
              "      <td></td>\n",
              "    </tr>\n",
              "  </tbody>\n",
              "</table>\n",
              "</div>"
            ],
            "text/plain": [
              "      都道府県コード 症例番号 都道府県症例番号  ... Relation1 Relation2 Transaction\n",
              "16156      50    1     50-1  ...                                \n",
              "16157      51   27    51-27  ...                                \n",
              "16158      51   28    51-28  ...                                \n",
              "16159      51   52    51-52  ...                                \n",
              "16160      51   53    51-53  ...                                \n",
              "\n",
              "[5 rows x 29 columns]"
            ]
          },
          "metadata": {
            "tags": []
          },
          "execution_count": 4
        }
      ]
    },
    {
      "cell_type": "markdown",
      "metadata": {
        "id": "m7Y4Y7zARRJ8",
        "colab_type": "text"
      },
      "source": [
        "# データの確認"
      ]
    },
    {
      "cell_type": "code",
      "metadata": {
        "id": "VC8p_XOR9tpy",
        "colab_type": "code",
        "outputId": "6ac3273a-6c5d-4700-a773-70077251156d",
        "colab": {
          "base_uri": "https://localhost:8080/",
          "height": 295
        }
      },
      "source": [
        "df.describe()"
      ],
      "execution_count": 5,
      "outputs": [
        {
          "output_type": "execute_result",
          "data": {
            "text/html": [
              "<div>\n",
              "<style scoped>\n",
              "    .dataframe tbody tr th:only-of-type {\n",
              "        vertical-align: middle;\n",
              "    }\n",
              "\n",
              "    .dataframe tbody tr th {\n",
              "        vertical-align: top;\n",
              "    }\n",
              "\n",
              "    .dataframe thead th {\n",
              "        text-align: right;\n",
              "    }\n",
              "</style>\n",
              "<table border=\"1\" class=\"dataframe\">\n",
              "  <thead>\n",
              "    <tr style=\"text-align: right;\">\n",
              "      <th></th>\n",
              "      <th>都道府県コード</th>\n",
              "      <th>症例番号</th>\n",
              "      <th>都道府県症例番号</th>\n",
              "      <th>発症日</th>\n",
              "      <th>確定日</th>\n",
              "      <th>公表日</th>\n",
              "      <th>受診都道府県</th>\n",
              "      <th>居住都道府県</th>\n",
              "      <th>居住市区町村</th>\n",
              "      <th>年代</th>\n",
              "      <th>性別</th>\n",
              "      <th>職業</th>\n",
              "      <th>ステータス</th>\n",
              "      <th>退院済ﾌﾗｸﾞ</th>\n",
              "      <th>基礎疾患ﾌﾗｸﾞ</th>\n",
              "      <th>症状・経過</th>\n",
              "      <th>症状一覧</th>\n",
              "      <th>行動歴</th>\n",
              "      <th>濃厚接触者状況</th>\n",
              "      <th>濃厚接触場所</th>\n",
              "      <th>海外渡航歴ﾌﾗｸﾞ</th>\n",
              "      <th>ﾀﾞｲﾔﾓﾝﾄﾞﾌﾟﾘﾝｾｽ号乗船ﾌﾗｸﾞ</th>\n",
              "      <th>情報源</th>\n",
              "      <th>備考</th>\n",
              "      <th>罹患者関係_記入済ﾌﾗｸﾞ</th>\n",
              "      <th>罹患者トランザクション_記入済ﾌﾗｸﾞ</th>\n",
              "      <th>Relation1</th>\n",
              "      <th>Relation2</th>\n",
              "      <th>Transaction</th>\n",
              "    </tr>\n",
              "  </thead>\n",
              "  <tbody>\n",
              "    <tr>\n",
              "      <th>count</th>\n",
              "      <td>16161</td>\n",
              "      <td>16161</td>\n",
              "      <td>16161</td>\n",
              "      <td>16161</td>\n",
              "      <td>16161</td>\n",
              "      <td>16161</td>\n",
              "      <td>16161</td>\n",
              "      <td>16161</td>\n",
              "      <td>16161</td>\n",
              "      <td>16161</td>\n",
              "      <td>16161</td>\n",
              "      <td>16161</td>\n",
              "      <td>16161</td>\n",
              "      <td>16161</td>\n",
              "      <td>16161</td>\n",
              "      <td>16161</td>\n",
              "      <td>16161</td>\n",
              "      <td>16161</td>\n",
              "      <td>16161</td>\n",
              "      <td>16161</td>\n",
              "      <td>16161</td>\n",
              "      <td>16161</td>\n",
              "      <td>16161</td>\n",
              "      <td>16161</td>\n",
              "      <td>16161</td>\n",
              "      <td>16161</td>\n",
              "      <td>16161</td>\n",
              "      <td>16161</td>\n",
              "      <td>16161</td>\n",
              "    </tr>\n",
              "    <tr>\n",
              "      <th>unique</th>\n",
              "      <td>51</td>\n",
              "      <td>5175</td>\n",
              "      <td>16158</td>\n",
              "      <td>218</td>\n",
              "      <td>176</td>\n",
              "      <td>178</td>\n",
              "      <td>51</td>\n",
              "      <td>73</td>\n",
              "      <td>791</td>\n",
              "      <td>12</td>\n",
              "      <td>6</td>\n",
              "      <td>121</td>\n",
              "      <td>8</td>\n",
              "      <td>6</td>\n",
              "      <td>6</td>\n",
              "      <td>5995</td>\n",
              "      <td>1812</td>\n",
              "      <td>2907</td>\n",
              "      <td>3984</td>\n",
              "      <td>226</td>\n",
              "      <td>9</td>\n",
              "      <td>4</td>\n",
              "      <td>3232</td>\n",
              "      <td>1336</td>\n",
              "      <td>2</td>\n",
              "      <td>2</td>\n",
              "      <td>1792</td>\n",
              "      <td>3141</td>\n",
              "      <td>229</td>\n",
              "    </tr>\n",
              "    <tr>\n",
              "      <th>top</th>\n",
              "      <td>13</td>\n",
              "      <td>1</td>\n",
              "      <td>12-621</td>\n",
              "      <td>非公表</td>\n",
              "      <td></td>\n",
              "      <td>2020/04/11</td>\n",
              "      <td>東京都</td>\n",
              "      <td>東京都</td>\n",
              "      <td></td>\n",
              "      <td>50 - 59</td>\n",
              "      <td>男性</td>\n",
              "      <td></td>\n",
              "      <td></td>\n",
              "      <td></td>\n",
              "      <td></td>\n",
              "      <td></td>\n",
              "      <td></td>\n",
              "      <td></td>\n",
              "      <td></td>\n",
              "      <td></td>\n",
              "      <td></td>\n",
              "      <td></td>\n",
              "      <td></td>\n",
              "      <td></td>\n",
              "      <td>0</td>\n",
              "      <td>0</td>\n",
              "      <td></td>\n",
              "      <td></td>\n",
              "      <td></td>\n",
              "    </tr>\n",
              "    <tr>\n",
              "      <th>freq</th>\n",
              "      <td>5162</td>\n",
              "      <td>47</td>\n",
              "      <td>2</td>\n",
              "      <td>5205</td>\n",
              "      <td>4784</td>\n",
              "      <td>674</td>\n",
              "      <td>5162</td>\n",
              "      <td>3836</td>\n",
              "      <td>4638</td>\n",
              "      <td>2636</td>\n",
              "      <td>8682</td>\n",
              "      <td>6541</td>\n",
              "      <td>9412</td>\n",
              "      <td>8836</td>\n",
              "      <td>11928</td>\n",
              "      <td>8179</td>\n",
              "      <td>10814</td>\n",
              "      <td>9974</td>\n",
              "      <td>8403</td>\n",
              "      <td>12728</td>\n",
              "      <td>10125</td>\n",
              "      <td>10885</td>\n",
              "      <td>4091</td>\n",
              "      <td>12960</td>\n",
              "      <td>11874</td>\n",
              "      <td>15934</td>\n",
              "      <td>12368</td>\n",
              "      <td>12369</td>\n",
              "      <td>13890</td>\n",
              "    </tr>\n",
              "  </tbody>\n",
              "</table>\n",
              "</div>"
            ],
            "text/plain": [
              "       都道府県コード   症例番号 都道府県症例番号  ... Relation1 Relation2 Transaction\n",
              "count    16161  16161    16161  ...     16161     16161       16161\n",
              "unique      51   5175    16158  ...      1792      3141         229\n",
              "top         13      1   12-621  ...                                \n",
              "freq      5162     47        2  ...     12368     12369       13890\n",
              "\n",
              "[4 rows x 29 columns]"
            ]
          },
          "metadata": {
            "tags": []
          },
          "execution_count": 5
        }
      ]
    },
    {
      "cell_type": "code",
      "metadata": {
        "id": "F2za_CKB-_Ny",
        "colab_type": "code",
        "outputId": "36bdfb1b-3fa0-4bb5-9ad8-99d1b377a490",
        "colab": {
          "base_uri": "https://localhost:8080/",
          "height": 527
        }
      },
      "source": [
        "# nullの値があるかどうか確認\n",
        "df.isnull().sum()"
      ],
      "execution_count": 6,
      "outputs": [
        {
          "output_type": "execute_result",
          "data": {
            "text/plain": [
              "都道府県コード                  0\n",
              "症例番号                     0\n",
              "都道府県症例番号                 0\n",
              "発症日                      0\n",
              "確定日                      0\n",
              "公表日                      0\n",
              "受診都道府県                   0\n",
              "居住都道府県                   0\n",
              "居住市区町村                   0\n",
              "年代                       0\n",
              "性別                       0\n",
              "職業                       0\n",
              "ステータス                    0\n",
              "退院済ﾌﾗｸﾞ                  0\n",
              "基礎疾患ﾌﾗｸﾞ                 0\n",
              "症状・経過                    0\n",
              "症状一覧                     0\n",
              "行動歴                      0\n",
              "濃厚接触者状況                  0\n",
              "濃厚接触場所                   0\n",
              "海外渡航歴ﾌﾗｸﾞ                0\n",
              "ﾀﾞｲﾔﾓﾝﾄﾞﾌﾟﾘﾝｾｽ号乗船ﾌﾗｸﾞ    0\n",
              "情報源                      0\n",
              "備考                       0\n",
              "罹患者関係_記入済ﾌﾗｸﾞ            0\n",
              "罹患者トランザクション_記入済ﾌﾗｸﾞ      0\n",
              "Relation1                0\n",
              "Relation2                0\n",
              "Transaction              0\n",
              "dtype: int64"
            ]
          },
          "metadata": {
            "tags": []
          },
          "execution_count": 6
        }
      ]
    },
    {
      "cell_type": "code",
      "metadata": {
        "id": "x1YNe_MvdJEe",
        "colab_type": "code",
        "outputId": "c5d60472-f4ca-457f-aca3-bf92e0a3c151",
        "colab": {
          "base_uri": "https://localhost:8080/",
          "height": 527
        }
      },
      "source": [
        "# naの値があるかどうか確認\n",
        "df.isna().sum()"
      ],
      "execution_count": 7,
      "outputs": [
        {
          "output_type": "execute_result",
          "data": {
            "text/plain": [
              "都道府県コード                  0\n",
              "症例番号                     0\n",
              "都道府県症例番号                 0\n",
              "発症日                      0\n",
              "確定日                      0\n",
              "公表日                      0\n",
              "受診都道府県                   0\n",
              "居住都道府県                   0\n",
              "居住市区町村                   0\n",
              "年代                       0\n",
              "性別                       0\n",
              "職業                       0\n",
              "ステータス                    0\n",
              "退院済ﾌﾗｸﾞ                  0\n",
              "基礎疾患ﾌﾗｸﾞ                 0\n",
              "症状・経過                    0\n",
              "症状一覧                     0\n",
              "行動歴                      0\n",
              "濃厚接触者状況                  0\n",
              "濃厚接触場所                   0\n",
              "海外渡航歴ﾌﾗｸﾞ                0\n",
              "ﾀﾞｲﾔﾓﾝﾄﾞﾌﾟﾘﾝｾｽ号乗船ﾌﾗｸﾞ    0\n",
              "情報源                      0\n",
              "備考                       0\n",
              "罹患者関係_記入済ﾌﾗｸﾞ            0\n",
              "罹患者トランザクション_記入済ﾌﾗｸﾞ      0\n",
              "Relation1                0\n",
              "Relation2                0\n",
              "Transaction              0\n",
              "dtype: int64"
            ]
          },
          "metadata": {
            "tags": []
          },
          "execution_count": 7
        }
      ]
    },
    {
      "cell_type": "markdown",
      "metadata": {
        "id": "_gXVTLelRbEO",
        "colab_type": "text"
      },
      "source": [
        "# データクリーニング\n"
      ]
    },
    {
      "cell_type": "code",
      "metadata": {
        "id": "uzIOpZYtpe5j",
        "colab_type": "code",
        "colab": {}
      },
      "source": [
        "#性別でのデータクリーニングを行う\n",
        "df = df[(df['性別'] == \"男性\") | (df['性別'] == '女性')]\n",
        "#年代でのデータクリーニングを行う\n",
        "df = df[(df['年代'] != \"51 - 59\") & (df['年代'] != '非公表') & (df['年代'] != '')]\n",
        "#海外渡航歴でのデータクリーニングを行う\n",
        "df[\"海外渡航歴ﾌﾗｸﾞ\"] = df[\"海外渡航歴ﾌﾗｸﾞ\"].str.replace(\"非公表\", \"\").str.replace(\"１\", \"1\").str.replace(\"０\", \"0\").str.replace(\"他自治体で調査中\", \"\").str.replace(\"千葉県で調査中\", \"\").str.replace(\"不明\", \"\")\n",
        "#ﾀﾞｲﾔﾓﾝﾄﾞﾌﾟﾘﾝｾｽ号乗船ﾌﾗｸﾞでのデータクリーニングを行う\n",
        "df[\"ﾀﾞｲﾔﾓﾝﾄﾞﾌﾟﾘﾝｾｽ号乗船ﾌﾗｸﾞ\"] = df[\"ﾀﾞｲﾔﾓﾝﾄﾞﾌﾟﾘﾝｾｽ号乗船ﾌﾗｸﾞ\"].str.replace(\"非公表\", \"\").str.replace(\"１\", \"1\")"
      ],
      "execution_count": 0,
      "outputs": []
    },
    {
      "cell_type": "code",
      "metadata": {
        "id": "IssxXoW25edA",
        "colab_type": "code",
        "outputId": "bb8ece0a-e22f-470b-ec54-6e25ebc70832",
        "colab": {
          "base_uri": "https://localhost:8080/",
          "height": 1000
        }
      },
      "source": [
        "for column_name, item in df.iteritems():\n",
        "    print(column_name, type(column_name))\n",
        "    print(df[column_name].value_counts())\n",
        "    print('========================\\n')"
      ],
      "execution_count": 9,
      "outputs": [
        {
          "output_type": "stream",
          "text": [
            "都道府県コード <class 'str'>\n",
            "13    5143\n",
            "27    1778\n",
            "14    1282\n",
            "11     998\n",
            "1      982\n",
            "12     753\n",
            "28     698\n",
            "40     665\n",
            "23     508\n",
            "26     351\n",
            "17     293\n",
            "16     212\n",
            "8      168\n",
            "21     151\n",
            "10     149\n",
            "34     147\n",
            "47     142\n",
            "18     122\n",
            "4       88\n",
            "25      82\n",
            "15      82\n",
            "7       81\n",
            "38      79\n",
            "29      74\n",
            "39      74\n",
            "6       66\n",
            "9       55\n",
            "30      54\n",
            "20      53\n",
            "22      49\n",
            "44      49\n",
            "19      48\n",
            "43      47\n",
            "41      45\n",
            "24      45\n",
            "37      28\n",
            "2       27\n",
            "32      24\n",
            "35      21\n",
            "49      19\n",
            "42      17\n",
            "45      16\n",
            "5       16\n",
            "33      14\n",
            "48       8\n",
            "46       6\n",
            "36       5\n",
            "51       3\n",
            "31       3\n",
            "Name: 都道府県コード, dtype: int64\n",
            "========================\n",
            "\n",
            "症例番号 <class 'str'>\n",
            "1       46\n",
            "2       45\n",
            "6       44\n",
            "3       44\n",
            "4       44\n",
            "        ..\n",
            "4776     1\n",
            "2571     1\n",
            "1794     1\n",
            "2028     1\n",
            "3679     1\n",
            "Name: 症例番号, Length: 5159, dtype: int64\n",
            "========================\n",
            "\n",
            "都道府県症例番号 <class 'str'>\n",
            "21-150     2\n",
            "12-621     2\n",
            "44-40      2\n",
            "13-4993    1\n",
            "24-23      1\n",
            "          ..\n",
            "20-22      1\n",
            "13-2044    1\n",
            "1-746      1\n",
            "13-3824    1\n",
            "13-3885    1\n",
            "Name: 都道府県症例番号, Length: 15817, dtype: int64\n",
            "========================\n",
            "\n",
            "発症日 <class 'str'>\n",
            "非公表            5101\n",
            "               1797\n",
            "2020/04/01      364\n",
            "2020/04/03      344\n",
            "2020/04/06      323\n",
            "               ... \n",
            "2020-03-24        1\n",
            "本人の同意が得られない       1\n",
            "2020/5/6          1\n",
            "2020/03/中旬        1\n",
            "2020-04-06        1\n",
            "Name: 発症日, Length: 218, dtype: int64\n",
            "========================\n",
            "\n",
            "確定日 <class 'str'>\n",
            "              4618\n",
            "非公表           1339\n",
            "2020/04/09     425\n",
            "2020/04/11     416\n",
            "2020/04/07     410\n",
            "              ... \n",
            "2020/5/5         1\n",
            "2020/01/25       1\n",
            "2020-05-21       1\n",
            "2020/5/16        1\n",
            "2020/01/24       1\n",
            "Name: 確定日, Length: 175, dtype: int64\n",
            "========================\n",
            "\n",
            "公表日 <class 'str'>\n",
            "2020/04/11    670\n",
            "2020/04/10    639\n",
            "2020/04/09    564\n",
            "2020/04/17    558\n",
            "2020/04/18    549\n",
            "             ... \n",
            "2020/01/25      1\n",
            "2020/5/16       1\n",
            "2020-05-23      1\n",
            "2020/01/29      1\n",
            "2020/01/24      1\n",
            "Name: 公表日, Length: 176, dtype: int64\n",
            "========================\n",
            "\n",
            "受診都道府県 <class 'str'>\n",
            "東京都       5143\n",
            "大阪府       1778\n",
            "神奈川県      1282\n",
            "埼玉県        998\n",
            "北海道        981\n",
            "千葉県        753\n",
            "兵庫県        698\n",
            "福岡県        665\n",
            "愛知県        508\n",
            "京都府        351\n",
            "石川県        293\n",
            "富山県        212\n",
            "茨城県        168\n",
            "岐阜県        151\n",
            "群馬県        149\n",
            "広島県        147\n",
            "沖縄県        142\n",
            "福井県        122\n",
            "宮城県         88\n",
            "新潟県         82\n",
            "滋賀県         82\n",
            "福島県         81\n",
            "愛媛県         79\n",
            "奈良県         74\n",
            "高知県         74\n",
            "山形県         66\n",
            "栃木県         55\n",
            "和歌山県        54\n",
            "長野県         53\n",
            "静岡県         50\n",
            "大分県         49\n",
            "山梨県         48\n",
            "熊本県         47\n",
            "三重県         45\n",
            "佐賀県         45\n",
            "香川県         28\n",
            "青森県         27\n",
            "島根県         24\n",
            "山口県         21\n",
            "羽田空港        19\n",
            "長崎県         17\n",
            "秋田県         16\n",
            "宮崎県         16\n",
            "岡山県         14\n",
            "成田空港         8\n",
            "鹿児島県         6\n",
            "徳島県          5\n",
            "関西国際空港       3\n",
            "鳥取県          3\n",
            "Name: 受診都道府県, dtype: int64\n",
            "========================\n",
            "\n",
            "居住都道府県 <class 'str'>\n",
            "東京都         3827\n",
            "大阪府         1720\n",
            "神奈川県        1242\n",
            "            1177\n",
            "北海道          976\n",
            "            ... \n",
            "南アフリカ共和国       1\n",
            " 北海道           1\n",
            "国外             1\n",
            "カナダ            1\n",
            "京都府外           1\n",
            "Name: 居住都道府県, Length: 73, dtype: int64\n",
            "========================\n",
            "\n",
            "居住市区町村 <class 'str'>\n",
            "              4466\n",
            "大阪市            740\n",
            "札幌市            581\n",
            "非公表            575\n",
            "横浜市            467\n",
            "              ... \n",
            "君津市              1\n",
            "加茂市              1\n",
            "砺波厚生センター管内       1\n",
            "新潟市西蒲区           1\n",
            "西予市              1\n",
            "Name: 居住市区町村, Length: 785, dtype: int64\n",
            "========================\n",
            "\n",
            "年代 <class 'str'>\n",
            "50 - 59    2632\n",
            "20 - 29    2589\n",
            "40 - 49    2536\n",
            "30 - 39    2378\n",
            "60 - 69    1797\n",
            "70 - 79    1591\n",
            "80 - 89    1154\n",
            "90 -        522\n",
            "10 - 19     374\n",
            "0 - 9       247\n",
            "Name: 年代, dtype: int64\n",
            "========================\n",
            "\n",
            "性別 <class 'str'>\n",
            "男性    8649\n",
            "女性    7171\n",
            "Name: 性別, dtype: int64\n",
            "========================\n",
            "\n",
            "職業 <class 'str'>\n",
            "           6354\n",
            "会社員        2655\n",
            "無職         2017\n",
            "非公表        1316\n",
            "自営業         476\n",
            "           ... \n",
            "派遣職員          1\n",
            "飲食店従業員        1\n",
            "医師            1\n",
            "店舗販売員         1\n",
            "福祉:デイケア       1\n",
            "Name: 職業, Length: 121, dtype: int64\n",
            "========================\n",
            "\n",
            "ステータス <class 'str'>\n",
            "       9207\n",
            "軽症     4240\n",
            "無症状     882\n",
            "非公表     833\n",
            "中等症     343\n",
            "重症      157\n",
            "死亡      155\n",
            "調査中       3\n",
            "Name: ステータス, dtype: int64\n",
            "========================\n",
            "\n",
            "退院済ﾌﾗｸﾞ <class 'str'>\n",
            "       8608\n",
            "0      4619\n",
            "1      1538\n",
            "非公表     983\n",
            "2        55\n",
            "１        17\n",
            "Name: 退院済ﾌﾗｸﾞ, dtype: int64\n",
            "========================\n",
            "\n",
            "基礎疾患ﾌﾗｸﾞ <class 'str'>\n",
            "            11672\n",
            "0            2257\n",
            "非公表          1529\n",
            "1             360\n",
            "他自治体で調査中        1\n",
            "１               1\n",
            "Name: 基礎疾患ﾌﾗｸﾞ, dtype: int64\n",
            "========================\n",
            "\n",
            "症状・経過 <class 'str'>\n",
            "                                                                                                                                                                                                                                                                                                                  7981\n",
            "非公表                                                                                                                                                                                                                                                                                                               1205\n",
            "発熱                                                                                                                                                                                                                                                                                                                  54\n",
            "発熱、咳                                                                                                                                                                                                                                                                                                                47\n",
            "症状なし                                                                                                                                                                                                                                                                                                                33\n",
            "                                                                                                                                                                                                                                                                                                                  ... \n",
            "３月 ６日～23日ブラジル渡航\\n３月 28日 脱力感、吐気\\n４月 ２日 市内医療機関Ｃ受診、検体採取\\n ４月 ３日 ＰＣＲ検査結果陽性\\n 現在入院調整中                                                                                                                                                                                                                                     1\n",
            "2 月 20 日 クルーズ船「ダイヤモンド・プリンセス号」下船後、自宅に帰宅\\n 発熱等の症状なし\\n 2 月 24 日~ 本市における健康フォローアップ開始\\n 2 月 27 日 帰国者・接触者外来を受診\\n 2 月 28 日 市環境保健研究所による PCR 検査の結果、「陽性」を確認                                                                                                                                                                     1\n",
            "3月9日(月曜日)~3月13日(金曜日)発熱なし、咳、くしゃみ、鼻水、出勤【マスク着用】\\n14日(土曜日)症状なし、出勤なし\\n15日(日曜日)発熱なし、頭痛、出勤なし\\n16日(月曜日)症状なし、出勤【マスク着用】\\n勤務終了後、県内医療機関B受診【自転車、マスク着用】\\n17日(火曜日)~18日(水曜日)症状なし、出勤【マスク着用】\\n19日(木曜日)症状なし、出勤\\n20日(金曜日)症状なし、出勤【マスク着用】\\n同僚が陽性となったため、帰国者・接触者相談センターが県内医療機関A(帰国者・接触者外来)を案内し、受診【自転車、マスク着用】、検体採取\\n21日(土曜日)PCR検査の結果  陽性       1\n",
            "4/27～ 発熱（37～38℃台），頭痛\\n5/1 PCR 検査にて陽性が判明                                                                                                                                                                                                                                                                              1\n",
            "4/3 発熱、悪寒、鼻汁の症状あり\\n4/6 発熱（約38℃）\\n4/7 県内医療機関を受診\\n4/8 PCR 検査陽性により、新型コロナウイルス感染症確定                                                                                                                                                                                                                                       1\n",
            "Name: 症状・経過, Length: 5918, dtype: int64\n",
            "========================\n",
            "\n",
            "症状一覧 <class 'str'>\n",
            "                           10584\n",
            "非公表                         1139\n",
            "発熱                           575\n",
            "発熱;咳                         185\n",
            "無し                           120\n",
            "                           ...  \n",
            "発熱、呼吸困難、咽頭痛、嗅覚異常               1\n",
            "発熱、咳、全身倦怠感、下痢、味覚障害、肺の痛み        1\n",
            "37.5度;咳                        1\n",
            "発熱;咽頭痛;倦怠感;肺炎                  1\n",
            "発熱;咳;鼻閉;味覚障害                   1\n",
            "Name: 症状一覧, Length: 1794, dtype: int64\n",
            "========================\n",
            "\n",
            "行動歴 <class 'str'>\n",
            "                                                                                  9735\n",
            "非公表                                                                               1385\n",
            "調査中                                                                                166\n",
            "自宅、医療機関                                                                            154\n",
            "発症後は自宅待機                                                                           105\n",
            "                                                                                  ... \n",
            "40-584が勤務する会社の社員\\n2020/04/24 出勤（発症前）\\n発症後外出なし                                        1\n",
            "2020/04/13 発熱、市内医療機関受診。\\n2020/04/14 遺伝子検査の結果、新型コロナウイルス陽性と判定。                         1\n",
            "詳細は、渡航歴を含め、現在調査中                                                                     1\n",
            "調査中\\n海外渡航・国内旅行歴はなく、また、スポーツジム・\\nライブハウス等の利用はありません                                      1\n",
            "発症前2週間以内に海外渡航歴はなく、肺炎患者との明確な接触も確認されていない。\\n発症日以降は自宅待機（外出なし）。\\n発症日以降、マスク着用。\\n都内勤務       1\n",
            "Name: 行動歴, Length: 2873, dtype: int64\n",
            "========================\n",
            "\n",
            "濃厚接触者状況 <class 'str'>\n",
            "                                                                              8171\n",
            "非公表                                                                            784\n",
            "-                                                                              417\n",
            "調査中                                                                            192\n",
            "行動歴調査中                                                                          83\n",
            "                                                                              ... \n",
            "同居家族 ２名\\n 職場関係 ２名\\n 医療機関スタッフ 調査中                                                 1\n",
            "同居家族:5名(うち2名は4月3日埼玉県記者発表県内129例目及び本日埼玉県記者発表県内179例目)\\n別居家族1名が陽性患者\\n濃厚接触者は調査中       1\n",
            "濃厚接触者6名に対し、1名(8-17)が感染。                                                          1\n",
            "千葉市21例目の同居家族                                                                     1\n",
            "道内８９２例目の患者の濃厚接触者。                                                                1\n",
            "Name: 濃厚接触者状況, Length: 3955, dtype: int64\n",
            "========================\n",
            "\n",
            "濃厚接触場所 <class 'str'>\n",
            "                   12467\n",
            "非公表                 1844\n",
            "グリーンアルス関係             66\n",
            "国立病院機構北海道がんセンター       56\n",
            "第二警察病院関連              47\n",
            "                   ...  \n",
            "市川市のフィットネスクラブ          1\n",
            "神奈川県（息子宅）              1\n",
            "高齢者複合施設関連              1\n",
            "西部生涯学習センター             1\n",
            "神戸西警察署                 1\n",
            "Name: 濃厚接触場所, Length: 222, dtype: int64\n",
            "========================\n",
            "\n",
            "海外渡航歴ﾌﾗｸﾞ <class 'str'>\n",
            "     10548\n",
            "0     4951\n",
            "1      321\n",
            "Name: 海外渡航歴ﾌﾗｸﾞ, dtype: int64\n",
            "========================\n",
            "\n",
            "ﾀﾞｲﾔﾓﾝﾄﾞﾌﾟﾘﾝｾｽ号乗船ﾌﾗｸﾞ <class 'str'>\n",
            "     10934\n",
            "0     4872\n",
            "1       14\n",
            "Name: ﾀﾞｲﾔﾓﾝﾄﾞﾌﾟﾘﾝｾｽ号乗船ﾌﾗｸﾞ, dtype: int64\n",
            "========================\n",
            "\n",
            "情報源 <class 'str'>\n",
            "                                                                                                                                                                                                                                                         3927\n",
            ";https://www3.nhk.or.jp/news/html/20200408/k10012375601000.html                                                                                                                                                                                           143\n",
            "https://catalog.data.metro.tokyo.lg.jp/dataset/t000010d0000000068/resource/c2d997db-1450-43fa-8037-ebb11ec28d4c;https://www3.nhk.or.jp/news/html/20200405/k10012369381000.html;https://www.fukushihoken.metro.tokyo.lg.jp/hodo/saishin/corona153.html     139\n",
            "https://catalog.data.metro.tokyo.lg.jp/dataset/t000010d0000000068;                                                                                                                                                                                        133\n",
            "https://stopcovid19.metro.tokyo.lg.jp/data/130001_tokyo_covid19_patients.csv                                                                                                                                                                              118\n",
            "                                                                                                                                                                                                                                                         ... \n",
            "https://www.city.hamamatsu.shizuoka.jp/koho2/emergency/20200408_6.html                                                                                                                                                                                      1\n",
            "https://www.city.toyota.aichi.jp/pressrelease/1037440/1037539.html                                                                                                                                                                                          1\n",
            "https://www.nishi.or.jp/kurashi/anshin/infomation/k_00022020111.files/HP60-1.pdf                                                                                                                                                                            1\n",
            "https://www.city.sasebo.lg.jp/hokenhukusi/kenkou/covid19-hasseijokyo.html; https://www.city.sasebo.lg.jp/hokenhukusi/kenkou/documents/houdouhaihusiryou-6reime-6.pdf;                                                                                       1\n",
            "https://www.city.hiroshima.lg.jp/uploaded/attachment/114539.pdf                                                                                                                                                                                             1\n",
            "Name: 情報源, Length: 3176, dtype: int64\n",
            "========================\n",
            "\n",
            "備考 <class 'str'>\n",
            "                                                 12715\n",
            "非公表                                                938\n",
            "「（第332報）新型コロナウイルス感染症患者公表数の修正について」による過去未報告分の追加      111\n",
            "中央区                                                 78\n",
            "博多区                                                 74\n",
            "                                                 ...  \n",
            "川崎市196                                               1\n",
            "川崎市243                                               1\n",
            "横浜市365                                               1\n",
            "川崎市226                                               1\n",
            "横浜市発表 No.165                                         1\n",
            "Name: 備考, Length: 1306, dtype: int64\n",
            "========================\n",
            "\n",
            "罹患者関係_記入済ﾌﾗｸﾞ <class 'str'>\n",
            "0    11592\n",
            "1     4228\n",
            "Name: 罹患者関係_記入済ﾌﾗｸﾞ, dtype: int64\n",
            "========================\n",
            "\n",
            "罹患者トランザクション_記入済ﾌﾗｸﾞ <class 'str'>\n",
            "0    15597\n",
            "1      223\n",
            "Name: 罹患者トランザクション_記入済ﾌﾗｸﾞ, dtype: int64\n",
            "========================\n",
            "\n",
            "Relation1 <class 'str'>\n",
            "          12146\n",
            "1-321        66\n",
            "34-66        56\n",
            "10-31        55\n",
            "1-641        48\n",
            "          ...  \n",
            "44-25         1\n",
            "28-6          1\n",
            "26-182        1\n",
            "14-173        1\n",
            "40-434        1\n",
            "Name: Relation1, Length: 1746, dtype: int64\n",
            "========================\n",
            "\n",
            "Relation2 <class 'str'>\n",
            "          12147\n",
            "20-2         45\n",
            "非公表          36\n",
            "40-49        25\n",
            "40-522       24\n",
            "          ...  \n",
            "10-15         1\n",
            "12-29         1\n",
            "1-100         1\n",
            "1-479         1\n",
            "1-451         1\n",
            "Name: Relation2, Length: 3034, dtype: int64\n",
            "========================\n",
            "\n",
            "Transaction <class 'str'>\n",
            "          13616\n",
            "14-41        42\n",
            "14-24        37\n",
            "14-63        36\n",
            "14-56        27\n",
            "          ...  \n",
            "14-69         1\n",
            "14-28         1\n",
            "14-62         1\n",
            "13-161        1\n",
            "14-32         1\n",
            "Name: Transaction, Length: 229, dtype: int64\n",
            "========================\n",
            "\n"
          ],
          "name": "stdout"
        }
      ]
    },
    {
      "cell_type": "code",
      "metadata": {
        "id": "2lNULT40nIY3",
        "colab_type": "code",
        "colab": {}
      },
      "source": [
        "#性別をencodeする\n",
        "import category_encoders as ce\n",
        "df_gender = df['性別']\n",
        "list_cols = ['性別']\n",
        "ce_ohe = ce.OrdinalEncoder(cols=list_cols,handle_unknown='impute')\n",
        "df['性別'] = ce_ohe.fit_transform(df_gender)"
      ],
      "execution_count": 0,
      "outputs": []
    },
    {
      "cell_type": "code",
      "metadata": {
        "id": "svflU4OO1g0F",
        "colab_type": "code",
        "colab": {}
      },
      "source": [
        "#受診都道府県をencodeする\n",
        "df_city = df['受診都道府県']\n",
        "list_cols = ['受診都道府県']\n",
        "ce_ohe = ce.OrdinalEncoder(cols=list_cols,handle_unknown='impute')\n",
        "df['受診都道府県'] = ce_ohe.fit_transform(df_city)"
      ],
      "execution_count": 0,
      "outputs": []
    },
    {
      "cell_type": "code",
      "metadata": {
        "id": "9j9ULXTR4jZH",
        "colab_type": "code",
        "colab": {}
      },
      "source": [
        "#居住都道府県をencodeする\n",
        "df_city = df['居住都道府県']\n",
        "list_cols = ['居住都道府県']\n",
        "ce_ohe = ce.OrdinalEncoder(cols=list_cols,handle_unknown='impute')\n",
        "df['居住都道府県'] = ce_ohe.fit_transform(df_city)"
      ],
      "execution_count": 0,
      "outputs": []
    },
    {
      "cell_type": "code",
      "metadata": {
        "id": "XmwV5Muv3MSM",
        "colab_type": "code",
        "colab": {}
      },
      "source": [
        "#年代をencodeする\n",
        "df_age = df['年代']\n",
        "list_cols = ['年代']\n",
        "ce_ohe = ce.OrdinalEncoder(cols=list_cols,handle_unknown='impute')\n",
        "df['年代'] = ce_ohe.fit_transform(df_age)"
      ],
      "execution_count": 0,
      "outputs": []
    },
    {
      "cell_type": "code",
      "metadata": {
        "id": "-zkgNU_G76GS",
        "colab_type": "code",
        "colab": {}
      },
      "source": [
        "#ﾀﾞｲﾔﾓﾝﾄﾞﾌﾟﾘﾝｾｽ号乗船ﾌﾗｸﾞをencodeする\n",
        "df_diamond = df['ﾀﾞｲﾔﾓﾝﾄﾞﾌﾟﾘﾝｾｽ号乗船ﾌﾗｸﾞ']\n",
        "list_cols = ['ﾀﾞｲﾔﾓﾝﾄﾞﾌﾟﾘﾝｾｽ号乗船ﾌﾗｸﾞ']\n",
        "ce_ohe = ce.OrdinalEncoder(cols=list_cols,handle_unknown='impute')\n",
        "df['ﾀﾞｲﾔﾓﾝﾄﾞﾌﾟﾘﾝｾｽ号乗船ﾌﾗｸﾞ'] = ce_ohe.fit_transform(df_diamond)"
      ],
      "execution_count": 0,
      "outputs": []
    },
    {
      "cell_type": "code",
      "metadata": {
        "id": "jOg79C1x9jqf",
        "colab_type": "code",
        "colab": {}
      },
      "source": [
        "df_foreign = df['海外渡航歴ﾌﾗｸﾞ']\n",
        "#海外渡航歴ﾌﾗｸﾞをencodeする\n",
        "list_cols = ['海外渡航歴ﾌﾗｸﾞ']\n",
        "ce_ohe = ce.OrdinalEncoder(cols=list_cols,handle_unknown='impute')\n",
        "df['海外渡航歴ﾌﾗｸﾞ'] = ce_ohe.fit_transform(df_foreign)"
      ],
      "execution_count": 0,
      "outputs": []
    },
    {
      "cell_type": "markdown",
      "metadata": {
        "id": "LA0mitSDR8HB",
        "colab_type": "text"
      },
      "source": [
        "# PairPlotで相関を確認する"
      ]
    },
    {
      "cell_type": "code",
      "metadata": {
        "id": "taZLfzjaycil",
        "colab_type": "code",
        "colab": {}
      },
      "source": [
        "# sns.pairplot(df)"
      ],
      "execution_count": 0,
      "outputs": []
    },
    {
      "cell_type": "code",
      "metadata": {
        "id": "clwcewYU-8Mv",
        "colab_type": "code",
        "colab": {}
      },
      "source": [
        "#職業とステータスの関係性\n",
        "job_status_df = df[['職業', 'ステータス']]\n",
        "job_status_df = job_status_df.groupby('職業').filter(lambda x: len(x) > 100)\n",
        "\n",
        "df_status = job_status_df['ステータス']\n",
        "list_cols = ['ステータス']\n",
        "ce_ohe = ce.OrdinalEncoder(cols=list_cols,handle_unknown='impute')\n",
        "job_status_df['ステータス'] = ce_ohe.fit_transform(df_status)\n",
        "\n",
        "job_status_df['ステータス'] = job_status_df['ステータス'].astype(float)"
      ],
      "execution_count": 0,
      "outputs": []
    },
    {
      "cell_type": "code",
      "metadata": {
        "id": "Al5HoO-jZOpy",
        "colab_type": "code",
        "colab": {}
      },
      "source": [
        "# fig, axs = plt.subplots(15, 1, figsize=(10, 10))\n",
        "# for count, (index, value) in enumerate(job_status_df['職業'].value_counts().iteritems(), 1):\n",
        "#   title = str(index) + ' (標本数: ' + str(value) +  \")\"\n",
        "#   dataframe = job_status_df[job_status_df['職業'] == index]\n",
        "#   axs[count].set_title(title)\n",
        "#   axs[count].pie(dataframe[\"ステータス\"])\n",
        "\n",
        "# plt.show()"
      ],
      "execution_count": 0,
      "outputs": []
    },
    {
      "cell_type": "markdown",
      "metadata": {
        "id": "nu9oBd--Q_y6",
        "colab_type": "text"
      },
      "source": [
        "# Xgboostを用いた分析"
      ]
    },
    {
      "cell_type": "markdown",
      "metadata": {
        "id": "s582C54CcpWD",
        "colab_type": "text"
      },
      "source": [
        "## データの整理"
      ]
    },
    {
      "cell_type": "code",
      "metadata": {
        "id": "-cj0uIbm38Uu",
        "colab_type": "code",
        "colab": {}
      },
      "source": [
        "!pip install xgboost\n",
        "import xgboost as xgb\n",
        "from sklearn.model_selection import train_test_split, GridSearchCV, learning_curve\n",
        "from sklearn.metrics import mean_squared_error, mean_absolute_error\n",
        "from IPython.display import clear_output"
      ],
      "execution_count": 0,
      "outputs": []
    },
    {
      "cell_type": "code",
      "metadata": {
        "id": "2ll06d6s55eK",
        "colab_type": "code",
        "colab": {}
      },
      "source": [
        "df_new = df[[\"都道府県コード\", \"年代\", \"性別\", \"ステータス\", \"海外渡航歴ﾌﾗｸﾞ\", \"症状一覧\"]]"
      ],
      "execution_count": 0,
      "outputs": []
    },
    {
      "cell_type": "code",
      "metadata": {
        "id": "B9u9TsuPDHcM",
        "colab_type": "code",
        "colab": {}
      },
      "source": [
        "# ステータスは`非公開`や``をdropし、中等症以上のものは1, 中等症未満は２に変換する\n",
        "df_new = df_new[(df['ステータス'] == \"重症\") | (df['ステータス'] == '軽症') | (df['ステータス'] == '死亡') | (df['ステータス'] == '無症状') | (df['ステータス'] == '中等症')]\n",
        "df_new[\"ステータス\"] = df_new[\"ステータス\"].str.replace(\"重症\", \"1\").str.replace(\"死亡\", \"1\").str.replace(\"中等症\", \"1\").str.replace(\"軽症\", \"2\").str.replace(\"無症状\", \"2\")\n",
        "df_new[\"ステータス\"]  =df_new[\"ステータス\"].astype(int)"
      ],
      "execution_count": 0,
      "outputs": []
    },
    {
      "cell_type": "code",
      "metadata": {
        "id": "KNurNtWeVM4g",
        "colab_type": "code",
        "colab": {}
      },
      "source": [
        "# 症状一覧で`非公開`や``をdropし、発熱・咳・頭痛・倦怠感があるかどうかのフラグを作成する\n",
        "df_new = df_new[(df['症状一覧'] != \"\") & (df['症状一覧'] != '非公表') & (df['症状一覧'] != ' ')]\n",
        "df_new[\"発熱フラグ\"] = df_new[\"症状一覧\"].str.contains(\"発熱\")\n",
        "df_new[\"咳フラグ\"] = df_new[\"症状一覧\"].str.contains(\"咳\")\n",
        "df_new[\"頭痛フラグ\"] = df_new[\"症状一覧\"].str.contains(\"頭痛\")\n",
        "df_new[\"倦怠感フラグ\"] = df_new[\"症状一覧\"].str.contains(\"倦怠感\")"
      ],
      "execution_count": 0,
      "outputs": []
    },
    {
      "cell_type": "code",
      "metadata": {
        "id": "SCxZ0M9pEeoV",
        "colab_type": "code",
        "colab": {}
      },
      "source": [
        "df_new[\"都道府県コード\"] = df_new[\"都道府県コード\"].astype(int)"
      ],
      "execution_count": 0,
      "outputs": []
    },
    {
      "cell_type": "code",
      "metadata": {
        "id": "cuL_NNZlDHn7",
        "colab_type": "code",
        "outputId": "e6c8734d-54df-406e-e54b-a05e974a8988",
        "colab": {
          "base_uri": "https://localhost:8080/",
          "height": 204
        }
      },
      "source": [
        "df_new.dtypes"
      ],
      "execution_count": 60,
      "outputs": [
        {
          "output_type": "execute_result",
          "data": {
            "text/plain": [
              "都道府県コード       int64\n",
              "年代            int64\n",
              "性別            int64\n",
              "ステータス         int64\n",
              "海外渡航歴ﾌﾗｸﾞ     int64\n",
              "症状一覧         object\n",
              "発熱フラグ          bool\n",
              "咳フラグ           bool\n",
              "頭痛フラグ          bool\n",
              "倦怠感フラグ         bool\n",
              "dtype: object"
            ]
          },
          "metadata": {
            "tags": []
          },
          "execution_count": 60
        }
      ]
    },
    {
      "cell_type": "code",
      "metadata": {
        "id": "6ZUlu7lPZhrQ",
        "colab_type": "code",
        "colab": {}
      },
      "source": [
        "# 症状一覧をdropする\n",
        "df_new = df_new.drop('症状一覧', axis=1)"
      ],
      "execution_count": 0,
      "outputs": []
    },
    {
      "cell_type": "markdown",
      "metadata": {
        "id": "DHS55yPgbb1h",
        "colab_type": "text"
      },
      "source": [
        "## 全体の場合"
      ]
    },
    {
      "cell_type": "code",
      "metadata": {
        "id": "Li0nXvOL7laF",
        "colab_type": "code",
        "colab": {}
      },
      "source": [
        "df_train, df_test = train_test_split(df_new, test_size=0.3, random_state=0)\n",
        "\n",
        "y_train = df_train['ステータス']\n",
        "y_test = df_test['ステータス']\n",
        "x_train = df_train.drop(['ステータス'], axis=1)\n",
        "x_test = df_test.drop(['ステータス'], axis=1)\n",
        "\n",
        "dtrain = xgb.DMatrix(x_train, label=y_train)\n",
        "dtest = xgb.DMatrix(x_test, label=y_test)"
      ],
      "execution_count": 0,
      "outputs": []
    },
    {
      "cell_type": "code",
      "metadata": {
        "id": "vTsicEGW32B0",
        "colab_type": "code",
        "outputId": "585d6076-17c8-4477-8b13-5389aa32fd6c",
        "colab": {
          "base_uri": "https://localhost:8080/",
          "height": 68
        }
      },
      "source": [
        "df_train['ステータス'].value_counts()"
      ],
      "execution_count": 66,
      "outputs": [
        {
          "output_type": "execute_result",
          "data": {
            "text/plain": [
              "2    1485\n",
              "1     233\n",
              "Name: ステータス, dtype: int64"
            ]
          },
          "metadata": {
            "tags": []
          },
          "execution_count": 66
        }
      ]
    },
    {
      "cell_type": "code",
      "metadata": {
        "id": "999naDqV-aUH",
        "colab_type": "code",
        "colab": {}
      },
      "source": [
        "params = {\n",
        "    'n_estimators': 5000,\n",
        "    'max_depth': 7,\n",
        "    'objective':'reg:linear',\n",
        "    'min_child_weight': 4,\n",
        "    'eta': 0.07,\n",
        "    'eval_metric': 'mae',\n",
        "}\n",
        "evals = [(dtrain, 'train'), (dtest, 'test')]\n",
        "\n",
        "evals_result = {}\n",
        "\n",
        "model = xgb.train(\n",
        "    params,\n",
        "    dtrain,\n",
        "    num_boost_round=5000,\n",
        "    evals=evals,\n",
        "    early_stopping_rounds=30,\n",
        "    evals_result=evals_result,\n",
        "        )\n",
        "clear_output()"
      ],
      "execution_count": 0,
      "outputs": []
    },
    {
      "cell_type": "code",
      "metadata": {
        "id": "nZCBfWda-b_q",
        "colab_type": "code",
        "outputId": "8d635a22-8e70-48ee-8d24-dde44e40eb15",
        "colab": {
          "base_uri": "https://localhost:8080/",
          "height": 34
        }
      },
      "source": [
        "def mean_error_rate(y_pred, y_test):\n",
        "    mer = np.mean(abs(y_pred-y_true)/y_true * 100)\n",
        "    return mer\n",
        "\n",
        "y_pred = model.predict(dtest)\n",
        "y_true = y_test.values\n",
        "\n",
        "print('誤差率 : {0:.4f} %'.format(mean_error_rate(y_pred, y_test)))"
      ],
      "execution_count": 68,
      "outputs": [
        {
          "output_type": "stream",
          "text": [
            "誤差率 : 16.0120 %\n"
          ],
          "name": "stdout"
        }
      ]
    },
    {
      "cell_type": "code",
      "metadata": {
        "id": "Kb7Qqivw-gUx",
        "colab_type": "code",
        "outputId": "f801022e-5b56-4ef3-8b10-56f19bede6c8",
        "colab": {
          "base_uri": "https://localhost:8080/",
          "height": 495
        }
      },
      "source": [
        "plt.figure(figsize=(12, 8))\n",
        "train_metric = evals_result['train']['mae']\n",
        "plt.plot(train_metric, label='train mae')\n",
        "eval_metric = evals_result['test']['mae']\n",
        "plt.plot(eval_metric, label='test mae', linestyle='dashed')\n",
        "plt.grid()\n",
        "plt.legend()\n",
        "plt.xlabel('学習回数')\n",
        "plt.ylabel('平均絶対誤差')\n",
        "plt.savefig('kodate_learning_curve.png')\n",
        "plt.show()"
      ],
      "execution_count": 69,
      "outputs": [
        {
          "output_type": "display_data",
          "data": {
            "image/png": "[encoded data removed]",
            "text/plain": [
              "<Figure size 864x576 with 1 Axes>"
            ]
          },
          "metadata": {
            "tags": [],
            "needs_background": "light"
          }
        }
      ]
    },
    {
      "cell_type": "code",
      "metadata": {
        "id": "ZiV9JF-nFPRl",
        "colab_type": "code",
        "outputId": "aa6dd928-f25b-4d48-987a-965fc7f6f121",
        "colab": {
          "base_uri": "https://localhost:8080/",
          "height": 945
        }
      },
      "source": [
        "_, ax = plt.subplots(figsize=(16, 16))\n",
        "xgb.plot_importance(model, ax=ax,  importance_type='gain', title='項目の重要度',show_values=False)\n",
        "plt.ylabel(\"項目\")\n",
        "plt.savefig('kodate_feature.png')\n",
        "plt.show()"
      ],
      "execution_count": 70,
      "outputs": [
        {
          "output_type": "display_data",
          "data": {
            "image/png": "[encoded data removed]",
            "text/plain": [
              "<Figure size 1152x1152 with 1 Axes>"
            ]
          },
          "metadata": {
            "tags": [],
            "needs_background": "light"
          }
        }
      ]
    },
    {
      "cell_type": "markdown",
      "metadata": {
        "id": "6jnIyQgCaqwW",
        "colab_type": "text"
      },
      "source": [
        "## 東京のみの場合"
      ]
    },
    {
      "cell_type": "code",
      "metadata": {
        "id": "DFmviEoWavb9",
        "colab_type": "code",
        "colab": {}
      },
      "source": [
        "df_new_tokyo = df_new[df_new[\"都道府県コード\"] == 13]"
      ],
      "execution_count": 0,
      "outputs": []
    },
    {
      "cell_type": "code",
      "metadata": {
        "id": "bU59UY-Cc0do",
        "colab_type": "code",
        "colab": {}
      },
      "source": [
        "df_train, df_test = train_test_split(df_new_tokyo, test_size=0.3, random_state=0)\n",
        "\n",
        "y_train = df_train['ステータス']\n",
        "y_test = df_test['ステータス']\n",
        "x_train = df_train.drop(['ステータス'], axis=1)\n",
        "x_test = df_test.drop(['ステータス'], axis=1)\n",
        "\n",
        "dtrain = xgb.DMatrix(x_train, label=y_train)\n",
        "dtest = xgb.DMatrix(x_test, label=y_test)"
      ],
      "execution_count": 0,
      "outputs": []
    },
    {
      "cell_type": "code",
      "metadata": {
        "id": "JTQtUXtWc_yr",
        "colab_type": "code",
        "colab": {
          "base_uri": "https://localhost:8080/",
          "height": 68
        },
        "outputId": "0103ec15-b9a1-4715-cfb6-8ca02f32a9f5"
      },
      "source": [
        "df_train['ステータス'].value_counts()"
      ],
      "execution_count": 77,
      "outputs": [
        {
          "output_type": "execute_result",
          "data": {
            "text/plain": [
              "2    135\n",
              "1      8\n",
              "Name: ステータス, dtype: int64"
            ]
          },
          "metadata": {
            "tags": []
          },
          "execution_count": 77
        }
      ]
    },
    {
      "cell_type": "code",
      "metadata": {
        "id": "nNBSOhgzdHaS",
        "colab_type": "code",
        "colab": {}
      },
      "source": [
        "params = {\n",
        "    'n_estimators': 5000,\n",
        "    'max_depth': 7,\n",
        "    'objective':'reg:linear',\n",
        "    'min_child_weight': 4,\n",
        "    'eta': 0.07,\n",
        "    'eval_metric': 'mae',\n",
        "}\n",
        "evals = [(dtrain, 'train'), (dtest, 'test')]\n",
        "\n",
        "evals_result = {}\n",
        "\n",
        "model = xgb.train(\n",
        "    params,\n",
        "    dtrain,\n",
        "    num_boost_round=5000,\n",
        "    evals=evals,\n",
        "    early_stopping_rounds=30,\n",
        "    evals_result=evals_result,\n",
        "        )\n",
        "clear_output()"
      ],
      "execution_count": 0,
      "outputs": []
    },
    {
      "cell_type": "code",
      "metadata": {
        "id": "qH_0Vf7qdUPD",
        "colab_type": "code",
        "colab": {
          "base_uri": "https://localhost:8080/",
          "height": 34
        },
        "outputId": "6474af44-bfd0-4598-b0e7-c508e9aa5923"
      },
      "source": [
        "y_pred = model.predict(dtest)\n",
        "y_true = y_test.values\n",
        "\n",
        "print('誤差率 : {0:.4f} %'.format(mean_error_rate(y_pred, y_test)))"
      ],
      "execution_count": 79,
      "outputs": [
        {
          "output_type": "stream",
          "text": [
            "誤差率 : 10.1119 %\n"
          ],
          "name": "stdout"
        }
      ]
    },
    {
      "cell_type": "code",
      "metadata": {
        "id": "D8LaN4ILdXA7",
        "colab_type": "code",
        "colab": {
          "base_uri": "https://localhost:8080/",
          "height": 496
        },
        "outputId": "b6ca904b-4b9a-4ecb-c7a6-25afb2c58ac1"
      },
      "source": [
        "plt.figure(figsize=(12, 8))\n",
        "train_metric = evals_result['train']['mae']\n",
        "plt.plot(train_metric, label='train mae')\n",
        "eval_metric = evals_result['test']['mae']\n",
        "plt.plot(eval_metric, label='test mae', linestyle='dashed')\n",
        "plt.grid()\n",
        "plt.legend()\n",
        "plt.xlabel('学習回数')\n",
        "plt.ylabel('平均絶対誤差')\n",
        "plt.savefig('kodate_learning_curve.png')\n",
        "plt.show()"
      ],
      "execution_count": 80,
      "outputs": [
        {
          "output_type": "display_data",
          "data": {
            "image/png": "[encoded data removed]",
            "text/plain": [
              "<Figure size 864x576 with 1 Axes>"
            ]
          },
          "metadata": {
            "tags": [],
            "needs_background": "light"
          }
        }
      ]
    },
    {
      "cell_type": "code",
      "metadata": {
        "id": "ICzOA5qYdZXk",
        "colab_type": "code",
        "colab": {
          "base_uri": "https://localhost:8080/",
          "height": 945
        },
        "outputId": "971ed1cf-cede-4280-8545-e4ae1eebe5cd"
      },
      "source": [
        "_, ax = plt.subplots(figsize=(16, 16))\n",
        "xgb.plot_importance(model, ax=ax,  importance_type='gain', title='項目の重要度',show_values=False)\n",
        "plt.ylabel(\"項目\")\n",
        "plt.savefig('kodate_feature.png')\n",
        "plt.show()"
      ],
      "execution_count": 81,
      "outputs": [
        {
          "output_type": "display_data",
          "data": {
            "image/png": "[encoded data removed]",
            "text/plain": [
              "<Figure size 1152x1152 with 1 Axes>"
            ]
          },
          "metadata": {
            "tags": [],
            "needs_background": "light"
          }
        }
      ]
    },
    {
      "cell_type": "markdown",
      "metadata": {
        "id": "GHQ03o19bMn5",
        "colab_type": "text"
      },
      "source": [
        "## 神奈川のみの場合"
      ]
    },
    {
      "cell_type": "code",
      "metadata": {
        "id": "sjv8Dfo7bU5A",
        "colab_type": "code",
        "colab": {}
      },
      "source": [
        "df_new_kanagawa = df_new[df_new[\"都道府県コード\"] == 14]"
      ],
      "execution_count": 0,
      "outputs": []
    },
    {
      "cell_type": "code",
      "metadata": {
        "id": "tEvvb7NtdzYc",
        "colab_type": "code",
        "colab": {}
      },
      "source": [
        "df_train, df_test = train_test_split(df_new_kanagawa, test_size=0.3, random_state=0)\n",
        "\n",
        "y_train = df_train['ステータス']\n",
        "y_test = df_test['ステータス']\n",
        "x_train = df_train.drop(['ステータス'], axis=1)\n",
        "x_test = df_test.drop(['ステータス'], axis=1)\n",
        "\n",
        "dtrain = xgb.DMatrix(x_train, label=y_train)\n",
        "dtest = xgb.DMatrix(x_test, label=y_test)"
      ],
      "execution_count": 0,
      "outputs": []
    },
    {
      "cell_type": "code",
      "metadata": {
        "id": "H8Ab_ar7d3gQ",
        "colab_type": "code",
        "colab": {
          "base_uri": "https://localhost:8080/",
          "height": 68
        },
        "outputId": "acb254b5-0f22-4b39-bb93-b7ad9762b4a0"
      },
      "source": [
        "df_train['ステータス'].value_counts()"
      ],
      "execution_count": 84,
      "outputs": [
        {
          "output_type": "execute_result",
          "data": {
            "text/plain": [
              "2    241\n",
              "1     61\n",
              "Name: ステータス, dtype: int64"
            ]
          },
          "metadata": {
            "tags": []
          },
          "execution_count": 84
        }
      ]
    },
    {
      "cell_type": "code",
      "metadata": {
        "id": "bgYFoFmSd6rK",
        "colab_type": "code",
        "colab": {}
      },
      "source": [
        "params = {\n",
        "    'n_estimators': 5000,\n",
        "    'max_depth': 7,\n",
        "    'objective':'reg:linear',\n",
        "    'min_child_weight': 4,\n",
        "    'eta': 0.07,\n",
        "    'eval_metric': 'mae',\n",
        "}\n",
        "evals = [(dtrain, 'train'), (dtest, 'test')]\n",
        "\n",
        "evals_result = {}\n",
        "\n",
        "model = xgb.train(\n",
        "    params,\n",
        "    dtrain,\n",
        "    num_boost_round=5000,\n",
        "    evals=evals,\n",
        "    early_stopping_rounds=30,\n",
        "    evals_result=evals_result,\n",
        "        )\n",
        "clear_output()"
      ],
      "execution_count": 0,
      "outputs": []
    },
    {
      "cell_type": "code",
      "metadata": {
        "id": "buUPd-3Ld9JK",
        "colab_type": "code",
        "colab": {
          "base_uri": "https://localhost:8080/",
          "height": 34
        },
        "outputId": "37475762-3118-496b-fb1e-74aa4a21a11f"
      },
      "source": [
        "y_pred = model.predict(dtest)\n",
        "y_true = y_test.values\n",
        "\n",
        "print('誤差率 : {0:.4f} %'.format(mean_error_rate(y_pred, y_test)))"
      ],
      "execution_count": 86,
      "outputs": [
        {
          "output_type": "stream",
          "text": [
            "誤差率 : 24.0190 %\n"
          ],
          "name": "stdout"
        }
      ]
    },
    {
      "cell_type": "code",
      "metadata": {
        "id": "hQ-RgaJVd_Wq",
        "colab_type": "code",
        "colab": {
          "base_uri": "https://localhost:8080/",
          "height": 495
        },
        "outputId": "9d0a5658-b5b1-4d38-fc68-6940f582baee"
      },
      "source": [
        "plt.figure(figsize=(12, 8))\n",
        "train_metric = evals_result['train']['mae']\n",
        "plt.plot(train_metric, label='train mae')\n",
        "eval_metric = evals_result['test']['mae']\n",
        "plt.plot(eval_metric, label='test mae', linestyle='dashed')\n",
        "plt.grid()\n",
        "plt.legend()\n",
        "plt.xlabel('学習回数')\n",
        "plt.ylabel('平均絶対誤差')\n",
        "plt.savefig('kodate_learning_curve.png')\n",
        "plt.show()"
      ],
      "execution_count": 87,
      "outputs": [
        {
          "output_type": "display_data",
          "data": {
            "image/png": "[encoded data removed]",
            "text/plain": [
              "<Figure size 864x576 with 1 Axes>"
            ]
          },
          "metadata": {
            "tags": [],
            "needs_background": "light"
          }
        }
      ]
    },
    {
      "cell_type": "code",
      "metadata": {
        "id": "h1O4oPcteBx4",
        "colab_type": "code",
        "colab": {
          "base_uri": "https://localhost:8080/",
          "height": 945
        },
        "outputId": "11bcb908-a0f7-4d8c-8284-2a63441d489c"
      },
      "source": [
        "_, ax = plt.subplots(figsize=(16, 16))\n",
        "xgb.plot_importance(model, ax=ax,  importance_type='gain', title='項目の重要度',show_values=False)\n",
        "plt.ylabel(\"項目\")\n",
        "plt.savefig('kodate_feature.png')\n",
        "plt.show()"
      ],
      "execution_count": 88,
      "outputs": [
        {
          "output_type": "display_data",
          "data": {
            "image/png": "[encoded data removed]",
            "text/plain": [
              "<Figure size 1152x1152 with 1 Axes>"
            ]
          },
          "metadata": {
            "tags": [],
            "needs_background": "light"
          }
        }
      ]
    },
    {
      "cell_type": "markdown",
      "metadata": {
        "id": "pWWbp5YlbQ3P",
        "colab_type": "text"
      },
      "source": [
        "## 北海道のみの場合"
      ]
    },
    {
      "cell_type": "code",
      "metadata": {
        "id": "xuPuPS9ibUDX",
        "colab_type": "code",
        "colab": {}
      },
      "source": [
        "df_new_hokkaido = df_new[df_new[\"都道府県コード\"] == 1]"
      ],
      "execution_count": 0,
      "outputs": []
    },
    {
      "cell_type": "code",
      "metadata": {
        "id": "fK8KBAikekZh",
        "colab_type": "code",
        "colab": {}
      },
      "source": [
        "df_train, df_test = train_test_split(df_new_hokkaido, test_size=0.3, random_state=0)\n",
        "\n",
        "y_train = df_train['ステータス']\n",
        "y_test = df_test['ステータス']\n",
        "x_train = df_train.drop(['ステータス'], axis=1)\n",
        "x_test = df_test.drop(['ステータス'], axis=1)\n",
        "\n",
        "dtrain = xgb.DMatrix(x_train, label=y_train)\n",
        "dtest = xgb.DMatrix(x_test, label=y_test)"
      ],
      "execution_count": 0,
      "outputs": []
    },
    {
      "cell_type": "code",
      "metadata": {
        "id": "V61IX-MQemru",
        "colab_type": "code",
        "colab": {
          "base_uri": "https://localhost:8080/",
          "height": 68
        },
        "outputId": "12f97731-21a1-4ee2-f7ed-0caf57b5ad57"
      },
      "source": [
        "df_train['ステータス'].value_counts()"
      ],
      "execution_count": 92,
      "outputs": [
        {
          "output_type": "execute_result",
          "data": {
            "text/plain": [
              "2    349\n",
              "1     49\n",
              "Name: ステータス, dtype: int64"
            ]
          },
          "metadata": {
            "tags": []
          },
          "execution_count": 92
        }
      ]
    },
    {
      "cell_type": "code",
      "metadata": {
        "id": "SzVzEQckfj1y",
        "colab_type": "code",
        "colab": {}
      },
      "source": [
        "params = {\n",
        "    'n_estimators': 5000,\n",
        "    'max_depth': 7,\n",
        "    'objective':'reg:linear',\n",
        "    'min_child_weight': 4,\n",
        "    'eta': 0.07,\n",
        "    'eval_metric': 'mae',\n",
        "}\n",
        "evals = [(dtrain, 'train'), (dtest, 'test')]\n",
        "\n",
        "evals_result = {}\n",
        "\n",
        "model = xgb.train(\n",
        "    params,\n",
        "    dtrain,\n",
        "    num_boost_round=5000,\n",
        "    evals=evals,\n",
        "    early_stopping_rounds=30,\n",
        "    evals_result=evals_result,\n",
        "        )\n",
        "clear_output()"
      ],
      "execution_count": 0,
      "outputs": []
    },
    {
      "cell_type": "code",
      "metadata": {
        "id": "ZAksdsQKfmzO",
        "colab_type": "code",
        "colab": {
          "base_uri": "https://localhost:8080/",
          "height": 34
        },
        "outputId": "84a12082-f0e3-43b8-c54d-d003f519859b"
      },
      "source": [
        "y_pred = model.predict(dtest)\n",
        "y_true = y_test.values\n",
        "\n",
        "print('誤差率 : {0:.4f} %'.format(mean_error_rate(y_pred, y_test)))"
      ],
      "execution_count": 94,
      "outputs": [
        {
          "output_type": "stream",
          "text": [
            "誤差率 : 16.2155 %\n"
          ],
          "name": "stdout"
        }
      ]
    },
    {
      "cell_type": "code",
      "metadata": {
        "id": "M1mRRdnjfpLf",
        "colab_type": "code",
        "colab": {
          "base_uri": "https://localhost:8080/",
          "height": 495
        },
        "outputId": "0913ceb6-707b-4f6d-bd68-784a3e06c581"
      },
      "source": [
        "plt.figure(figsize=(12, 8))\n",
        "train_metric = evals_result['train']['mae']\n",
        "plt.plot(train_metric, label='train mae')\n",
        "eval_metric = evals_result['test']['mae']\n",
        "plt.plot(eval_metric, label='test mae', linestyle='dashed')\n",
        "plt.grid()\n",
        "plt.legend()\n",
        "plt.xlabel('学習回数')\n",
        "plt.ylabel('平均絶対誤差')\n",
        "plt.savefig('kodate_learning_curve.png')\n",
        "plt.show()"
      ],
      "execution_count": 95,
      "outputs": [
        {
          "output_type": "display_data",
          "data": {
            "image/png": "[encoded data removed]",
            "text/plain": [
              "<Figure size 864x576 with 1 Axes>"
            ]
          },
          "metadata": {
            "tags": [],
            "needs_background": "light"
          }
        }
      ]
    },
    {
      "cell_type": "code",
      "metadata": {
        "id": "PBJxOTkofrNE",
        "colab_type": "code",
        "colab": {
          "base_uri": "https://localhost:8080/",
          "height": 945
        },
        "outputId": "80eb62ca-fe99-4e9a-bd80-2a463fa393ad"
      },
      "source": [
        "_, ax = plt.subplots(figsize=(16, 16))\n",
        "xgb.plot_importance(model, ax=ax,  importance_type='gain', title='項目の重要度',show_values=False)\n",
        "plt.ylabel(\"項目\")\n",
        "plt.savefig('kodate_feature.png')\n",
        "plt.show()"
      ],
      "execution_count": 96,
      "outputs": [
        {
          "output_type": "display_data",
          "data": {
            "image/png": "[encoded data removed]",
            "text/plain": [
              "<Figure size 1152x1152 with 1 Axes>"
            ]
          },
          "metadata": {
            "tags": [],
            "needs_background": "light"
          }
        }
      ]
    }
  ]
}