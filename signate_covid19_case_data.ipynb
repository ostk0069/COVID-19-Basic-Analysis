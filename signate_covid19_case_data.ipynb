{
  "nbformat": 4,
  "nbformat_minor": 0,
  "metadata": {
    "colab": {
      "name": "signate_covid19_case_data.ipynb",
      "provenance": [],
      "collapsed_sections": [],
      "include_colab_link": true
    },
    "kernelspec": {
      "name": "python3",
      "display_name": "Python 3"
    },
    "accelerator": "TPU"
  },
  "cells": [
    {
      "cell_type": "markdown",
      "metadata": {
        "id": "view-in-github",
        "colab_type": "text"
      },
      "source": [
        "<a href=\"https://colab.research.google.com/github/takumaosada/COVID-19-Basic-Analysis/blob/master/signate_covid19_case_data.ipynb\" target=\"_parent\"><img src=\"https://colab.research.google.com/assets/colab-badge.svg\" alt=\"Open In Colab\"/></a>"
      ]
    },
    {
      "cell_type": "markdown",
      "metadata": {
        "id": "fpB-BBfORx0E",
        "colab_type": "text"
      },
      "source": [
        "# データの読み込み"
      ]
    },
    {
      "cell_type": "code",
      "metadata": {
        "id": "9YHwYlTy6t0e",
        "colab_type": "code",
        "outputId": "ecc1b18a-6420-4e17-9270-d192142dd79e",
        "colab": {
          "base_uri": "https://localhost:8080/",
          "height": 0
        }
      },
      "source": [
        "import pandas as pd\n",
        "import numpy as np \n",
        "import matplotlib.pyplot as plt\n",
        "import seaborn as sns\n",
        "%matplotlib inline\n",
        "!pip install japanize_matplotlib\n",
        "!pip install category_encoders\n",
        "import japanize_matplotlib\n",
        "import category_encoders as ce\n",
        "import gspread\n",
        "from oauth2client.client import GoogleCredentials\n",
        "from google.colab import auth\n",
        "auth.authenticate_user()"
      ],
      "execution_count": 1,
      "outputs": [
        {
          "output_type": "stream",
          "text": [
            "/usr/local/lib/python3.6/dist-packages/statsmodels/tools/_testing.py:19: FutureWarning: pandas.util.testing is deprecated. Use the functions in the public API at pandas.testing instead.\n",
            "  import pandas.util.testing as tm\n"
          ],
          "name": "stderr"
        },
        {
          "output_type": "stream",
          "text": [
            "Requirement already satisfied: japanize_matplotlib in /usr/local/lib/python3.6/dist-packages (1.1.2)\n",
            "Requirement already satisfied: matplotlib in /usr/local/lib/python3.6/dist-packages (from japanize_matplotlib) (3.2.1)\n",
            "Requirement already satisfied: cycler>=0.10 in /usr/local/lib/python3.6/dist-packages (from matplotlib->japanize_matplotlib) (0.10.0)\n",
            "Requirement already satisfied: numpy>=1.11 in /usr/local/lib/python3.6/dist-packages (from matplotlib->japanize_matplotlib) (1.18.5)\n",
            "Requirement already satisfied: kiwisolver>=1.0.1 in /usr/local/lib/python3.6/dist-packages (from matplotlib->japanize_matplotlib) (1.2.0)\n",
            "Requirement already satisfied: python-dateutil>=2.1 in /usr/local/lib/python3.6/dist-packages (from matplotlib->japanize_matplotlib) (2.8.1)\n",
            "Requirement already satisfied: pyparsing!=2.0.4,!=2.1.2,!=2.1.6,>=2.0.1 in /usr/local/lib/python3.6/dist-packages (from matplotlib->japanize_matplotlib) (2.4.7)\n",
            "Requirement already satisfied: six in /usr/local/lib/python3.6/dist-packages (from cycler>=0.10->matplotlib->japanize_matplotlib) (1.12.0)\n",
            "Requirement already satisfied: category_encoders in /usr/local/lib/python3.6/dist-packages (2.2.2)\n",
            "Requirement already satisfied: patsy>=0.5.1 in /usr/local/lib/python3.6/dist-packages (from category_encoders) (0.5.1)\n",
            "Requirement already satisfied: numpy>=1.14.0 in /usr/local/lib/python3.6/dist-packages (from category_encoders) (1.18.5)\n",
            "Requirement already satisfied: scipy>=1.0.0 in /usr/local/lib/python3.6/dist-packages (from category_encoders) (1.4.1)\n",
            "Requirement already satisfied: statsmodels>=0.9.0 in /usr/local/lib/python3.6/dist-packages (from category_encoders) (0.10.2)\n",
            "Requirement already satisfied: pandas>=0.21.1 in /usr/local/lib/python3.6/dist-packages (from category_encoders) (1.0.4)\n",
            "Requirement already satisfied: scikit-learn>=0.20.0 in /usr/local/lib/python3.6/dist-packages (from category_encoders) (0.22.2.post1)\n",
            "Requirement already satisfied: six in /usr/local/lib/python3.6/dist-packages (from patsy>=0.5.1->category_encoders) (1.12.0)\n",
            "Requirement already satisfied: python-dateutil>=2.6.1 in /usr/local/lib/python3.6/dist-packages (from pandas>=0.21.1->category_encoders) (2.8.1)\n",
            "Requirement already satisfied: pytz>=2017.2 in /usr/local/lib/python3.6/dist-packages (from pandas>=0.21.1->category_encoders) (2018.9)\n",
            "Requirement already satisfied: joblib>=0.11 in /usr/local/lib/python3.6/dist-packages (from scikit-learn>=0.20.0->category_encoders) (0.15.1)\n"
          ],
          "name": "stdout"
        },
        {
          "output_type": "stream",
          "text": [
            "/usr/local/lib/python3.6/dist-packages/japanize_matplotlib/japanize_matplotlib.py:15: MatplotlibDeprecationWarning: \n",
            "The createFontList function was deprecated in Matplotlib 3.2 and will be removed two minor releases later. Use FontManager.addfont instead.\n",
            "  font_list = font_manager.createFontList(font_files)\n"
          ],
          "name": "stderr"
        }
      ]
    },
    {
      "cell_type": "code",
      "metadata": {
        "id": "Mr2Pj73q69xp",
        "colab_type": "code",
        "colab": {}
      },
      "source": [
        "gc = gspread.authorize(GoogleCredentials.get_application_default())"
      ],
      "execution_count": 0,
      "outputs": []
    },
    {
      "cell_type": "code",
      "metadata": {
        "id": "eIMlXaj-7GOe",
        "colab_type": "code",
        "colab": {}
      },
      "source": [
        "singatecasefilelink='https://docs.google.com/spreadsheets/d/1VLSA8q2zPCbaTDXXcMsxK0HRZlFRVH7_x0rLd4Z7Jk8/edit#gid=960903158'\n",
        "book = gc.open_by_url(singatecasefilelink)\n",
        "casedata = book.worksheet('罹患者').get_all_values()\n",
        "casedf = pd.DataFrame(casedata)"
      ],
      "execution_count": 0,
      "outputs": []
    },
    {
      "cell_type": "code",
      "metadata": {
        "id": "3cJajGPe7Vdt",
        "colab_type": "code",
        "colab": {
          "base_uri": "https://localhost:8080/",
          "height": 0
        },
        "outputId": "0584595b-757e-48bf-e644-2b7ad159cb63"
      },
      "source": [
        "#データフレームを整理していく\n",
        "area_dict = dict(zip(casedf.index, casedf.iloc[0]))\n",
        "renamed_df = casedf.rename(columns=area_dict)\n",
        "df = renamed_df.drop(0)\n",
        "df =df.drop_duplicates()\n",
        "df.drop(df.index[-1]).tail()"
      ],
      "execution_count": 4,
      "outputs": [
        {
          "output_type": "execute_result",
          "data": {
            "text/html": [
              "<div>\n",
              "<style scoped>\n",
              "    .dataframe tbody tr th:only-of-type {\n",
              "        vertical-align: middle;\n",
              "    }\n",
              "\n",
              "    .dataframe tbody tr th {\n",
              "        vertical-align: top;\n",
              "    }\n",
              "\n",
              "    .dataframe thead th {\n",
              "        text-align: right;\n",
              "    }\n",
              "</style>\n",
              "<table border=\"1\" class=\"dataframe\">\n",
              "  <thead>\n",
              "    <tr style=\"text-align: right;\">\n",
              "      <th></th>\n",
              "      <th>都道府県コード</th>\n",
              "      <th>症例番号</th>\n",
              "      <th>都道府県症例番号</th>\n",
              "      <th>発症日</th>\n",
              "      <th>確定日</th>\n",
              "      <th>公表日</th>\n",
              "      <th>受診都道府県</th>\n",
              "      <th>居住都道府県</th>\n",
              "      <th>居住市区町村</th>\n",
              "      <th>年代</th>\n",
              "      <th>性別</th>\n",
              "      <th>職業</th>\n",
              "      <th>ステータス</th>\n",
              "      <th>退院済ﾌﾗｸﾞ</th>\n",
              "      <th>基礎疾患ﾌﾗｸﾞ</th>\n",
              "      <th>症状・経過</th>\n",
              "      <th>症状一覧</th>\n",
              "      <th>行動歴</th>\n",
              "      <th>濃厚接触者状況</th>\n",
              "      <th>濃厚接触場所</th>\n",
              "      <th>海外渡航歴ﾌﾗｸﾞ</th>\n",
              "      <th>ﾀﾞｲﾔﾓﾝﾄﾞﾌﾟﾘﾝｾｽ号乗船ﾌﾗｸﾞ</th>\n",
              "      <th>情報源</th>\n",
              "      <th>備考</th>\n",
              "      <th>罹患者関係_記入済ﾌﾗｸﾞ</th>\n",
              "      <th>罹患者トランザクション_記入済ﾌﾗｸﾞ</th>\n",
              "      <th>Relation1</th>\n",
              "      <th>Relation2</th>\n",
              "      <th>Transaction</th>\n",
              "    </tr>\n",
              "  </thead>\n",
              "  <tbody>\n",
              "    <tr>\n",
              "      <th>16156</th>\n",
              "      <td>50</td>\n",
              "      <td>1</td>\n",
              "      <td>50-1</td>\n",
              "      <td></td>\n",
              "      <td></td>\n",
              "      <td></td>\n",
              "      <td>中部国際空港</td>\n",
              "      <td></td>\n",
              "      <td></td>\n",
              "      <td></td>\n",
              "      <td></td>\n",
              "      <td></td>\n",
              "      <td></td>\n",
              "      <td></td>\n",
              "      <td></td>\n",
              "      <td></td>\n",
              "      <td></td>\n",
              "      <td></td>\n",
              "      <td></td>\n",
              "      <td></td>\n",
              "      <td></td>\n",
              "      <td></td>\n",
              "      <td></td>\n",
              "      <td></td>\n",
              "      <td>0</td>\n",
              "      <td>0</td>\n",
              "      <td></td>\n",
              "      <td></td>\n",
              "      <td></td>\n",
              "    </tr>\n",
              "    <tr>\n",
              "      <th>16157</th>\n",
              "      <td>51</td>\n",
              "      <td>27</td>\n",
              "      <td>51-27</td>\n",
              "      <td></td>\n",
              "      <td>2020/03/27</td>\n",
              "      <td></td>\n",
              "      <td>関西国際空港</td>\n",
              "      <td>不明</td>\n",
              "      <td></td>\n",
              "      <td>20 - 29</td>\n",
              "      <td>男性</td>\n",
              "      <td></td>\n",
              "      <td>無症状</td>\n",
              "      <td>0</td>\n",
              "      <td></td>\n",
              "      <td></td>\n",
              "      <td></td>\n",
              "      <td></td>\n",
              "      <td></td>\n",
              "      <td></td>\n",
              "      <td></td>\n",
              "      <td></td>\n",
              "      <td>https://www.mhlw.go.jp/stf/newpage_10539.html</td>\n",
              "      <td></td>\n",
              "      <td>0</td>\n",
              "      <td>0</td>\n",
              "      <td></td>\n",
              "      <td></td>\n",
              "      <td></td>\n",
              "    </tr>\n",
              "    <tr>\n",
              "      <th>16158</th>\n",
              "      <td>51</td>\n",
              "      <td>28</td>\n",
              "      <td>51-28</td>\n",
              "      <td></td>\n",
              "      <td>2020/03/27</td>\n",
              "      <td></td>\n",
              "      <td>関西国際空港</td>\n",
              "      <td>兵庫県</td>\n",
              "      <td></td>\n",
              "      <td>非公表</td>\n",
              "      <td>男性</td>\n",
              "      <td></td>\n",
              "      <td>無症状</td>\n",
              "      <td>0</td>\n",
              "      <td></td>\n",
              "      <td></td>\n",
              "      <td></td>\n",
              "      <td></td>\n",
              "      <td></td>\n",
              "      <td></td>\n",
              "      <td></td>\n",
              "      <td></td>\n",
              "      <td>https://www.mhlw.go.jp/stf/newpage_10539.html</td>\n",
              "      <td></td>\n",
              "      <td>0</td>\n",
              "      <td>0</td>\n",
              "      <td></td>\n",
              "      <td></td>\n",
              "      <td></td>\n",
              "    </tr>\n",
              "    <tr>\n",
              "      <th>16159</th>\n",
              "      <td>51</td>\n",
              "      <td>52</td>\n",
              "      <td>51-52</td>\n",
              "      <td></td>\n",
              "      <td>2020/03/30</td>\n",
              "      <td></td>\n",
              "      <td>関西国際空港</td>\n",
              "      <td>不明</td>\n",
              "      <td></td>\n",
              "      <td>30 - 39</td>\n",
              "      <td>男性</td>\n",
              "      <td></td>\n",
              "      <td>無症状</td>\n",
              "      <td>0</td>\n",
              "      <td></td>\n",
              "      <td></td>\n",
              "      <td></td>\n",
              "      <td></td>\n",
              "      <td></td>\n",
              "      <td></td>\n",
              "      <td></td>\n",
              "      <td></td>\n",
              "      <td>https://www.mhlw.go.jp/stf/newpage_10638.html</td>\n",
              "      <td>3/29ドイツから帰国</td>\n",
              "      <td>0</td>\n",
              "      <td>0</td>\n",
              "      <td></td>\n",
              "      <td></td>\n",
              "      <td></td>\n",
              "    </tr>\n",
              "    <tr>\n",
              "      <th>16160</th>\n",
              "      <td>51</td>\n",
              "      <td>53</td>\n",
              "      <td>51-53</td>\n",
              "      <td></td>\n",
              "      <td>2020/03/30</td>\n",
              "      <td></td>\n",
              "      <td>関西国際空港</td>\n",
              "      <td>不明</td>\n",
              "      <td></td>\n",
              "      <td>40 - 49</td>\n",
              "      <td>男性</td>\n",
              "      <td></td>\n",
              "      <td>無症状</td>\n",
              "      <td>0</td>\n",
              "      <td></td>\n",
              "      <td></td>\n",
              "      <td></td>\n",
              "      <td></td>\n",
              "      <td></td>\n",
              "      <td></td>\n",
              "      <td></td>\n",
              "      <td></td>\n",
              "      <td>https://www.mhlw.go.jp/stf/newpage_10638.html</td>\n",
              "      <td>3/29オランダから帰国</td>\n",
              "      <td>0</td>\n",
              "      <td>0</td>\n",
              "      <td></td>\n",
              "      <td></td>\n",
              "      <td></td>\n",
              "    </tr>\n",
              "  </tbody>\n",
              "</table>\n",
              "</div>"
            ],
            "text/plain": [
              "      都道府県コード 症例番号 都道府県症例番号  ... Relation1 Relation2 Transaction\n",
              "16156      50    1     50-1  ...                                \n",
              "16157      51   27    51-27  ...                                \n",
              "16158      51   28    51-28  ...                                \n",
              "16159      51   52    51-52  ...                                \n",
              "16160      51   53    51-53  ...                                \n",
              "\n",
              "[5 rows x 29 columns]"
            ]
          },
          "metadata": {
            "tags": []
          },
          "execution_count": 4
        }
      ]
    },
    {
      "cell_type": "markdown",
      "metadata": {
        "id": "m7Y4Y7zARRJ8",
        "colab_type": "text"
      },
      "source": [
        "# データの確認"
      ]
    },
    {
      "cell_type": "code",
      "metadata": {
        "id": "VC8p_XOR9tpy",
        "colab_type": "code",
        "outputId": "e3785320-2937-46ca-f704-373a545e9da5",
        "colab": {
          "base_uri": "https://localhost:8080/",
          "height": 0
        }
      },
      "source": [
        "df.describe()"
      ],
      "execution_count": 5,
      "outputs": [
        {
          "output_type": "execute_result",
          "data": {
            "text/html": [
              "<div>\n",
              "<style scoped>\n",
              "    .dataframe tbody tr th:only-of-type {\n",
              "        vertical-align: middle;\n",
              "    }\n",
              "\n",
              "    .dataframe tbody tr th {\n",
              "        vertical-align: top;\n",
              "    }\n",
              "\n",
              "    .dataframe thead th {\n",
              "        text-align: right;\n",
              "    }\n",
              "</style>\n",
              "<table border=\"1\" class=\"dataframe\">\n",
              "  <thead>\n",
              "    <tr style=\"text-align: right;\">\n",
              "      <th></th>\n",
              "      <th>都道府県コード</th>\n",
              "      <th>症例番号</th>\n",
              "      <th>都道府県症例番号</th>\n",
              "      <th>発症日</th>\n",
              "      <th>確定日</th>\n",
              "      <th>公表日</th>\n",
              "      <th>受診都道府県</th>\n",
              "      <th>居住都道府県</th>\n",
              "      <th>居住市区町村</th>\n",
              "      <th>年代</th>\n",
              "      <th>性別</th>\n",
              "      <th>職業</th>\n",
              "      <th>ステータス</th>\n",
              "      <th>退院済ﾌﾗｸﾞ</th>\n",
              "      <th>基礎疾患ﾌﾗｸﾞ</th>\n",
              "      <th>症状・経過</th>\n",
              "      <th>症状一覧</th>\n",
              "      <th>行動歴</th>\n",
              "      <th>濃厚接触者状況</th>\n",
              "      <th>濃厚接触場所</th>\n",
              "      <th>海外渡航歴ﾌﾗｸﾞ</th>\n",
              "      <th>ﾀﾞｲﾔﾓﾝﾄﾞﾌﾟﾘﾝｾｽ号乗船ﾌﾗｸﾞ</th>\n",
              "      <th>情報源</th>\n",
              "      <th>備考</th>\n",
              "      <th>罹患者関係_記入済ﾌﾗｸﾞ</th>\n",
              "      <th>罹患者トランザクション_記入済ﾌﾗｸﾞ</th>\n",
              "      <th>Relation1</th>\n",
              "      <th>Relation2</th>\n",
              "      <th>Transaction</th>\n",
              "    </tr>\n",
              "  </thead>\n",
              "  <tbody>\n",
              "    <tr>\n",
              "      <th>count</th>\n",
              "      <td>16161</td>\n",
              "      <td>16161</td>\n",
              "      <td>16161</td>\n",
              "      <td>16161</td>\n",
              "      <td>16161</td>\n",
              "      <td>16161</td>\n",
              "      <td>16161</td>\n",
              "      <td>16161</td>\n",
              "      <td>16161</td>\n",
              "      <td>16161</td>\n",
              "      <td>16161</td>\n",
              "      <td>16161</td>\n",
              "      <td>16161</td>\n",
              "      <td>16161</td>\n",
              "      <td>16161</td>\n",
              "      <td>16161</td>\n",
              "      <td>16161</td>\n",
              "      <td>16161</td>\n",
              "      <td>16161</td>\n",
              "      <td>16161</td>\n",
              "      <td>16161</td>\n",
              "      <td>16161</td>\n",
              "      <td>16161</td>\n",
              "      <td>16161</td>\n",
              "      <td>16161</td>\n",
              "      <td>16161</td>\n",
              "      <td>16161</td>\n",
              "      <td>16161</td>\n",
              "      <td>16161</td>\n",
              "    </tr>\n",
              "    <tr>\n",
              "      <th>unique</th>\n",
              "      <td>51</td>\n",
              "      <td>5175</td>\n",
              "      <td>16158</td>\n",
              "      <td>218</td>\n",
              "      <td>176</td>\n",
              "      <td>178</td>\n",
              "      <td>51</td>\n",
              "      <td>73</td>\n",
              "      <td>791</td>\n",
              "      <td>12</td>\n",
              "      <td>6</td>\n",
              "      <td>121</td>\n",
              "      <td>8</td>\n",
              "      <td>6</td>\n",
              "      <td>6</td>\n",
              "      <td>5995</td>\n",
              "      <td>1812</td>\n",
              "      <td>2907</td>\n",
              "      <td>3984</td>\n",
              "      <td>226</td>\n",
              "      <td>9</td>\n",
              "      <td>4</td>\n",
              "      <td>3232</td>\n",
              "      <td>1336</td>\n",
              "      <td>2</td>\n",
              "      <td>2</td>\n",
              "      <td>1792</td>\n",
              "      <td>3141</td>\n",
              "      <td>229</td>\n",
              "    </tr>\n",
              "    <tr>\n",
              "      <th>top</th>\n",
              "      <td>13</td>\n",
              "      <td>1</td>\n",
              "      <td>12-621</td>\n",
              "      <td>非公表</td>\n",
              "      <td></td>\n",
              "      <td>2020/04/11</td>\n",
              "      <td>東京都</td>\n",
              "      <td>東京都</td>\n",
              "      <td></td>\n",
              "      <td>50 - 59</td>\n",
              "      <td>男性</td>\n",
              "      <td></td>\n",
              "      <td></td>\n",
              "      <td></td>\n",
              "      <td></td>\n",
              "      <td></td>\n",
              "      <td></td>\n",
              "      <td></td>\n",
              "      <td></td>\n",
              "      <td></td>\n",
              "      <td></td>\n",
              "      <td></td>\n",
              "      <td></td>\n",
              "      <td></td>\n",
              "      <td>0</td>\n",
              "      <td>0</td>\n",
              "      <td></td>\n",
              "      <td></td>\n",
              "      <td></td>\n",
              "    </tr>\n",
              "    <tr>\n",
              "      <th>freq</th>\n",
              "      <td>5162</td>\n",
              "      <td>47</td>\n",
              "      <td>2</td>\n",
              "      <td>5205</td>\n",
              "      <td>4784</td>\n",
              "      <td>674</td>\n",
              "      <td>5162</td>\n",
              "      <td>3836</td>\n",
              "      <td>4638</td>\n",
              "      <td>2636</td>\n",
              "      <td>8682</td>\n",
              "      <td>6541</td>\n",
              "      <td>9412</td>\n",
              "      <td>8836</td>\n",
              "      <td>11928</td>\n",
              "      <td>8179</td>\n",
              "      <td>10814</td>\n",
              "      <td>9974</td>\n",
              "      <td>8403</td>\n",
              "      <td>12728</td>\n",
              "      <td>10125</td>\n",
              "      <td>10885</td>\n",
              "      <td>4091</td>\n",
              "      <td>12960</td>\n",
              "      <td>11874</td>\n",
              "      <td>15934</td>\n",
              "      <td>12368</td>\n",
              "      <td>12369</td>\n",
              "      <td>13890</td>\n",
              "    </tr>\n",
              "  </tbody>\n",
              "</table>\n",
              "</div>"
            ],
            "text/plain": [
              "       都道府県コード   症例番号 都道府県症例番号  ... Relation1 Relation2 Transaction\n",
              "count    16161  16161    16161  ...     16161     16161       16161\n",
              "unique      51   5175    16158  ...      1792      3141         229\n",
              "top         13      1   12-621  ...                                \n",
              "freq      5162     47        2  ...     12368     12369       13890\n",
              "\n",
              "[4 rows x 29 columns]"
            ]
          },
          "metadata": {
            "tags": []
          },
          "execution_count": 5
        }
      ]
    },
    {
      "cell_type": "code",
      "metadata": {
        "id": "F2za_CKB-_Ny",
        "colab_type": "code",
        "outputId": "c50fa8b7-f2c6-464b-b033-5b6d73a1aeed",
        "colab": {
          "base_uri": "https://localhost:8080/",
          "height": 0
        }
      },
      "source": [
        "# nullの値があるかどうか確認\n",
        "df.isnull().sum()"
      ],
      "execution_count": 6,
      "outputs": [
        {
          "output_type": "execute_result",
          "data": {
            "text/plain": [
              "都道府県コード                  0\n",
              "症例番号                     0\n",
              "都道府県症例番号                 0\n",
              "発症日                      0\n",
              "確定日                      0\n",
              "公表日                      0\n",
              "受診都道府県                   0\n",
              "居住都道府県                   0\n",
              "居住市区町村                   0\n",
              "年代                       0\n",
              "性別                       0\n",
              "職業                       0\n",
              "ステータス                    0\n",
              "退院済ﾌﾗｸﾞ                  0\n",
              "基礎疾患ﾌﾗｸﾞ                 0\n",
              "症状・経過                    0\n",
              "症状一覧                     0\n",
              "行動歴                      0\n",
              "濃厚接触者状況                  0\n",
              "濃厚接触場所                   0\n",
              "海外渡航歴ﾌﾗｸﾞ                0\n",
              "ﾀﾞｲﾔﾓﾝﾄﾞﾌﾟﾘﾝｾｽ号乗船ﾌﾗｸﾞ    0\n",
              "情報源                      0\n",
              "備考                       0\n",
              "罹患者関係_記入済ﾌﾗｸﾞ            0\n",
              "罹患者トランザクション_記入済ﾌﾗｸﾞ      0\n",
              "Relation1                0\n",
              "Relation2                0\n",
              "Transaction              0\n",
              "dtype: int64"
            ]
          },
          "metadata": {
            "tags": []
          },
          "execution_count": 6
        }
      ]
    },
    {
      "cell_type": "code",
      "metadata": {
        "id": "x1YNe_MvdJEe",
        "colab_type": "code",
        "outputId": "19b22aa9-1dbe-4696-ff8a-5ca64ea6c034",
        "colab": {
          "base_uri": "https://localhost:8080/",
          "height": 0
        }
      },
      "source": [
        "# naの値があるかどうか確認\n",
        "df.isna().sum()"
      ],
      "execution_count": 7,
      "outputs": [
        {
          "output_type": "execute_result",
          "data": {
            "text/plain": [
              "都道府県コード                  0\n",
              "症例番号                     0\n",
              "都道府県症例番号                 0\n",
              "発症日                      0\n",
              "確定日                      0\n",
              "公表日                      0\n",
              "受診都道府県                   0\n",
              "居住都道府県                   0\n",
              "居住市区町村                   0\n",
              "年代                       0\n",
              "性別                       0\n",
              "職業                       0\n",
              "ステータス                    0\n",
              "退院済ﾌﾗｸﾞ                  0\n",
              "基礎疾患ﾌﾗｸﾞ                 0\n",
              "症状・経過                    0\n",
              "症状一覧                     0\n",
              "行動歴                      0\n",
              "濃厚接触者状況                  0\n",
              "濃厚接触場所                   0\n",
              "海外渡航歴ﾌﾗｸﾞ                0\n",
              "ﾀﾞｲﾔﾓﾝﾄﾞﾌﾟﾘﾝｾｽ号乗船ﾌﾗｸﾞ    0\n",
              "情報源                      0\n",
              "備考                       0\n",
              "罹患者関係_記入済ﾌﾗｸﾞ            0\n",
              "罹患者トランザクション_記入済ﾌﾗｸﾞ      0\n",
              "Relation1                0\n",
              "Relation2                0\n",
              "Transaction              0\n",
              "dtype: int64"
            ]
          },
          "metadata": {
            "tags": []
          },
          "execution_count": 7
        }
      ]
    },
    {
      "cell_type": "markdown",
      "metadata": {
        "id": "_gXVTLelRbEO",
        "colab_type": "text"
      },
      "source": [
        "# データクリーニング\n"
      ]
    },
    {
      "cell_type": "code",
      "metadata": {
        "id": "uzIOpZYtpe5j",
        "colab_type": "code",
        "colab": {}
      },
      "source": [
        "#性別でのデータクリーニングを行う\n",
        "df = df[(df['性別'] == \"男性\") | (df['性別'] == '女性')]\n",
        "#年代でのデータクリーニングを行う\n",
        "df = df[(df['年代'] != \"51 - 59\") & (df['年代'] != '非公表') & (df['年代'] != '')]\n",
        "#海外渡航歴でのデータクリーニングを行う\n",
        "df[\"海外渡航歴ﾌﾗｸﾞ\"] = df[\"海外渡航歴ﾌﾗｸﾞ\"].str.replace(\"非公表\", \"\").str.replace(\"１\", \"1\").str.replace(\"０\", \"0\").str.replace(\"他自治体で調査中\", \"\").str.replace(\"千葉県で調査中\", \"\").str.replace(\"不明\", \"\")\n",
        "#ﾀﾞｲﾔﾓﾝﾄﾞﾌﾟﾘﾝｾｽ号乗船ﾌﾗｸﾞでのデータクリーニングを行う\n",
        "df[\"ﾀﾞｲﾔﾓﾝﾄﾞﾌﾟﾘﾝｾｽ号乗船ﾌﾗｸﾞ\"] = df[\"ﾀﾞｲﾔﾓﾝﾄﾞﾌﾟﾘﾝｾｽ号乗船ﾌﾗｸﾞ\"].str.replace(\"非公表\", \"\").str.replace(\"１\", \"1\")"
      ],
      "execution_count": 0,
      "outputs": []
    },
    {
      "cell_type": "code",
      "metadata": {
        "id": "IssxXoW25edA",
        "colab_type": "code",
        "outputId": "f645e061-4b00-4027-9b76-d053c5b5c265",
        "colab": {
          "base_uri": "https://localhost:8080/",
          "height": 0
        }
      },
      "source": [
        "for column_name, item in df.iteritems():\n",
        "    print(column_name, type(column_name))\n",
        "    print(df[column_name].value_counts())\n",
        "    print('========================\\n')"
      ],
      "execution_count": 9,
      "outputs": [
        {
          "output_type": "stream",
          "text": [
            "都道府県コード <class 'str'>\n",
            "13    5143\n",
            "27    1778\n",
            "14    1282\n",
            "11     998\n",
            "1      982\n",
            "12     753\n",
            "28     698\n",
            "40     665\n",
            "23     508\n",
            "26     351\n",
            "17     293\n",
            "16     212\n",
            "8      168\n",
            "21     151\n",
            "10     149\n",
            "34     147\n",
            "47     142\n",
            "18     122\n",
            "4       88\n",
            "15      82\n",
            "25      82\n",
            "7       81\n",
            "38      79\n",
            "29      74\n",
            "39      74\n",
            "6       66\n",
            "9       55\n",
            "30      54\n",
            "20      53\n",
            "22      49\n",
            "44      49\n",
            "19      48\n",
            "43      47\n",
            "24      45\n",
            "41      45\n",
            "37      28\n",
            "2       27\n",
            "32      24\n",
            "35      21\n",
            "49      19\n",
            "42      17\n",
            "5       16\n",
            "45      16\n",
            "33      14\n",
            "48       8\n",
            "46       6\n",
            "36       5\n",
            "51       3\n",
            "31       3\n",
            "Name: 都道府県コード, dtype: int64\n",
            "========================\n",
            "\n",
            "症例番号 <class 'str'>\n",
            "1       46\n",
            "2       45\n",
            "3       44\n",
            "5       44\n",
            "6       44\n",
            "        ..\n",
            "2790     1\n",
            "2511     1\n",
            "3056     1\n",
            "3452     1\n",
            "3660     1\n",
            "Name: 症例番号, Length: 5159, dtype: int64\n",
            "========================\n",
            "\n",
            "都道府県症例番号 <class 'str'>\n",
            "21-150     2\n",
            "44-40      2\n",
            "12-621     2\n",
            "28-108     1\n",
            "28-118     1\n",
            "          ..\n",
            "27-1660    1\n",
            "13-12      1\n",
            "1-676      1\n",
            "13-2530    1\n",
            "11-56      1\n",
            "Name: 都道府県症例番号, Length: 15817, dtype: int64\n",
            "========================\n",
            "\n",
            "発症日 <class 'str'>\n",
            "非公表           5101\n",
            "              1797\n",
            "2020/04/01     364\n",
            "2020/04/03     344\n",
            "2020/04/06     323\n",
            "              ... \n",
            "2020/4/29        1\n",
            "2020/4/7         1\n",
            "2020/01/29       1\n",
            "2020/4/初旬        1\n",
            "2020/04/上旬       1\n",
            "Name: 発症日, Length: 218, dtype: int64\n",
            "========================\n",
            "\n",
            "確定日 <class 'str'>\n",
            "              4618\n",
            "非公表           1339\n",
            "2020/04/09     425\n",
            "2020/04/11     416\n",
            "2020/04/07     410\n",
            "              ... \n",
            "2020/5/17        1\n",
            "2020-05-18       1\n",
            "2020-05-11       1\n",
            "2020/5/22        1\n",
            "2020/01/28       1\n",
            "Name: 確定日, Length: 175, dtype: int64\n",
            "========================\n",
            "\n",
            "公表日 <class 'str'>\n",
            "2020/04/11    670\n",
            "2020/04/10    639\n",
            "2020/04/09    564\n",
            "2020/04/17    558\n",
            "2020/04/18    549\n",
            "             ... \n",
            "2020/02/04      1\n",
            "2020/01/24      1\n",
            "2020/05/30      1\n",
            "2020/01/25      1\n",
            "2020/01/26      1\n",
            "Name: 公表日, Length: 176, dtype: int64\n",
            "========================\n",
            "\n",
            "受診都道府県 <class 'str'>\n",
            "東京都       5143\n",
            "大阪府       1778\n",
            "神奈川県      1282\n",
            "埼玉県        998\n",
            "北海道        981\n",
            "千葉県        753\n",
            "兵庫県        698\n",
            "福岡県        665\n",
            "愛知県        508\n",
            "京都府        351\n",
            "石川県        293\n",
            "富山県        212\n",
            "茨城県        168\n",
            "岐阜県        151\n",
            "群馬県        149\n",
            "広島県        147\n",
            "沖縄県        142\n",
            "福井県        122\n",
            "宮城県         88\n",
            "滋賀県         82\n",
            "新潟県         82\n",
            "福島県         81\n",
            "愛媛県         79\n",
            "奈良県         74\n",
            "高知県         74\n",
            "山形県         66\n",
            "栃木県         55\n",
            "和歌山県        54\n",
            "長野県         53\n",
            "静岡県         50\n",
            "大分県         49\n",
            "山梨県         48\n",
            "熊本県         47\n",
            "佐賀県         45\n",
            "三重県         45\n",
            "香川県         28\n",
            "青森県         27\n",
            "島根県         24\n",
            "山口県         21\n",
            "羽田空港        19\n",
            "長崎県         17\n",
            "宮崎県         16\n",
            "秋田県         16\n",
            "岡山県         14\n",
            "成田空港         8\n",
            "鹿児島県         6\n",
            "徳島県          5\n",
            "鳥取県          3\n",
            "関西国際空港       3\n",
            "Name: 受診都道府県, dtype: int64\n",
            "========================\n",
            "\n",
            "居住都道府県 <class 'str'>\n",
            "東京都      3827\n",
            "大阪府      1720\n",
            "神奈川県     1242\n",
            "         1177\n",
            "北海道       976\n",
            "         ... \n",
            "フィリピン       1\n",
            "フランス        1\n",
            "国外          1\n",
            "香川県         1\n",
            "外国          1\n",
            "Name: 居住都道府県, Length: 73, dtype: int64\n",
            "========================\n",
            "\n",
            "居住市区町村 <class 'str'>\n",
            "                           4466\n",
            "大阪市                         740\n",
            "札幌市                         581\n",
            "非公表                         575\n",
            "横浜市                         467\n",
            "                           ... \n",
            "知立市                           1\n",
            "川崎市多摩区                        1\n",
            "熊本県有明保健所管内（荒尾市・玉名市・玉名郡）       1\n",
            "北九州市八幡西区                      1\n",
            "御嵩町                           1\n",
            "Name: 居住市区町村, Length: 785, dtype: int64\n",
            "========================\n",
            "\n",
            "年代 <class 'str'>\n",
            "50 - 59    2632\n",
            "20 - 29    2589\n",
            "40 - 49    2536\n",
            "30 - 39    2378\n",
            "60 - 69    1797\n",
            "70 - 79    1591\n",
            "80 - 89    1154\n",
            "90 -        522\n",
            "10 - 19     374\n",
            "0 - 9       247\n",
            "Name: 年代, dtype: int64\n",
            "========================\n",
            "\n",
            "性別 <class 'str'>\n",
            "男性    8649\n",
            "女性    7171\n",
            "Name: 性別, dtype: int64\n",
            "========================\n",
            "\n",
            "職業 <class 'str'>\n",
            "            6354\n",
            "会社員         2655\n",
            "無職          2017\n",
            "非公表         1316\n",
            "自営業          476\n",
            "            ... \n",
            "飲食業:会社員        1\n",
            "医療関係者          1\n",
            " 乳幼児           1\n",
            "学校:自動車学校       1\n",
            "派遣職員           1\n",
            "Name: 職業, Length: 121, dtype: int64\n",
            "========================\n",
            "\n",
            "ステータス <class 'str'>\n",
            "       9207\n",
            "軽症     4240\n",
            "無症状     882\n",
            "非公表     833\n",
            "中等症     343\n",
            "重症      157\n",
            "死亡      155\n",
            "調査中       3\n",
            "Name: ステータス, dtype: int64\n",
            "========================\n",
            "\n",
            "退院済ﾌﾗｸﾞ <class 'str'>\n",
            "       8608\n",
            "0      4619\n",
            "1      1538\n",
            "非公表     983\n",
            "2        55\n",
            "１        17\n",
            "Name: 退院済ﾌﾗｸﾞ, dtype: int64\n",
            "========================\n",
            "\n",
            "基礎疾患ﾌﾗｸﾞ <class 'str'>\n",
            "            11672\n",
            "0            2257\n",
            "非公表          1529\n",
            "1             360\n",
            "他自治体で調査中        1\n",
            "１               1\n",
            "Name: 基礎疾患ﾌﾗｸﾞ, dtype: int64\n",
            "========================\n",
            "\n",
            "症状・経過 <class 'str'>\n",
            "                                                                                                                                                                      7981\n",
            "非公表                                                                                                                                                                   1205\n",
            "発熱                                                                                                                                                                      54\n",
            "発熱、咳                                                                                                                                                                    47\n",
            "症状なし                                                                                                                                                                    33\n",
            "                                                                                                                                                                      ... \n",
            "020/04/06 嗅覚異常があり、Ａ医療機関受診\\n2020/04/07 発熱（37.9度）、嗅覚異常あり\\n2020/04/08 嗅覚異常継続のため、Ｂ医療機関受診\\n2020/04/09 新型コロナウイルス陽性\\n現在、県内の感染症指定医療機関に入院。                                        1\n",
            "４月８日 発熱。\\r\\nB 病院受診。\\r\\n４月１４日 協力医療機関受診。肺炎。\\r\\n４月 1６日 衛生環境研究所の PCR 検査にて陽性を確認。                                                                                              1\n",
            "4 月 9 日(木) 咳、長野病院において検体採取、札幌市衛生研究所に検体搬送、検査開始、陰性が判明\\n4 月 11 日(土) 全身倦怠感\\n4 月 14 日(火) 同医療機関において検体を採取、札幌市衛生研究所に検体を持ちみ、検査を開始\\n同衛生研究所にて陽性が判明\\n4 月 15 日(水) 入院先調整中（軽症、会話可）       1\n",
            "2020/04/11 咳あり\\n2020/04/13 A医療機関受診\\n2020/04/19【 患者５０８例目が新型コロナウイルス陽性判明】\\n2020/04/21 新型コロナウイルス陽性判明\\n現在、自宅待機中\\n現在の症状：倦怠感                                                    1\n",
            "4月3日発症。\\n症例は発熱、咳。                                                                                                                                                        1\n",
            "Name: 症状・経過, Length: 5918, dtype: int64\n",
            "========================\n",
            "\n",
            "症状一覧 <class 'str'>\n",
            "                              10584\n",
            "非公表                            1139\n",
            "発熱                              575\n",
            "発熱;咳                            185\n",
            "無し                              120\n",
            "                              ...  \n",
            "咳;熱                               1\n",
            "夜38度                              1\n",
            "発熱（37.9°C）                        1\n",
            "鼻水（くしゃみ）;咽頭痛;頭痛;発熱;味覚・嗅覚障害        1\n",
            "発熱、鼻閉、味覚障害                        1\n",
            "Name: 症状一覧, Length: 1794, dtype: int64\n",
            "========================\n",
            "\n",
            "行動歴 <class 'str'>\n",
            "                                               9735\n",
            "非公表                                            1385\n",
            "調査中                                             166\n",
            "自宅、医療機関                                         154\n",
            "発症後は自宅待機                                        105\n",
            "                                               ... \n",
            "２６日以降勤務していない。自宅で過ごす。                              1\n",
            "シャルムを３月２３日に利用\\n詳細は調査中                             1\n",
            "3月27日から29日まで、大阪府への旅行。\\n日ごろから常にマスクを着用していました。       1\n",
            "発症後外出あり                                           1\n",
            "南部保健所にて調査中。\\r                                     1\n",
            "Name: 行動歴, Length: 2873, dtype: int64\n",
            "========================\n",
            "\n",
            "濃厚接触者状況 <class 'str'>\n",
            "                                                                                 8171\n",
            "非公表                                                                               784\n",
            "-                                                                                 417\n",
            "調査中                                                                               192\n",
            "行動歴調査中                                                                             83\n",
            "                                                                                 ... \n",
            "濃厚接触者は、福井市保健所で調査中 \\n県内71例目(80代男性)が勤務し、県内62例目(70代男性)、県内77例目(60代男性)が通院していた医院で勤務       1\n",
            "同居家なし、接触者調査中、入院先医療機関に陽性者あり                                                          1\n",
            "id 不明(同僚)                                                                           1\n",
            "家族3人\\n 父 本市8例目\\n 母 本市9例目\\n 姉 本市10例目                                                 1\n",
            "現時点で把握している濃厚接触者は、同居家族1名、親族4名。                                                       1\n",
            "Name: 濃厚接触者状況, Length: 3955, dtype: int64\n",
            "========================\n",
            "\n",
            "濃厚接触場所 <class 'str'>\n",
            "                                       12467\n",
            "非公表                                     1844\n",
            "グリーンアルス関係                                 66\n",
            "国立病院機構北海道がんセンター                           56\n",
            "第二警察病院関連                                  47\n",
            "                                       ...  \n",
            "クラブＭＡＢＩＮＩ（マビニ）\\nフィリピンパブ「ダンシング　クイーン」        1\n",
            "高齢者複合施設関連                                  1\n",
            "スポーツクラブ                                    1\n",
            "市立医療ｾﾝﾀｰ中央市民病院                             1\n",
            "職場;自宅                                      1\n",
            "Name: 濃厚接触場所, Length: 222, dtype: int64\n",
            "========================\n",
            "\n",
            "海外渡航歴ﾌﾗｸﾞ <class 'str'>\n",
            "     10548\n",
            "0     4951\n",
            "1      321\n",
            "Name: 海外渡航歴ﾌﾗｸﾞ, dtype: int64\n",
            "========================\n",
            "\n",
            "ﾀﾞｲﾔﾓﾝﾄﾞﾌﾟﾘﾝｾｽ号乗船ﾌﾗｸﾞ <class 'str'>\n",
            "     10934\n",
            "0     4872\n",
            "1       14\n",
            "Name: ﾀﾞｲﾔﾓﾝﾄﾞﾌﾟﾘﾝｾｽ号乗船ﾌﾗｸﾞ, dtype: int64\n",
            "========================\n",
            "\n",
            "情報源 <class 'str'>\n",
            "                                                                                                                                                                                                                                                         3927\n",
            ";https://www3.nhk.or.jp/news/html/20200408/k10012375601000.html                                                                                                                                                                                           143\n",
            "https://catalog.data.metro.tokyo.lg.jp/dataset/t000010d0000000068/resource/c2d997db-1450-43fa-8037-ebb11ec28d4c;https://www3.nhk.or.jp/news/html/20200405/k10012369381000.html;https://www.fukushihoken.metro.tokyo.lg.jp/hodo/saishin/corona153.html     139\n",
            "https://catalog.data.metro.tokyo.lg.jp/dataset/t000010d0000000068;                                                                                                                                                                                        133\n",
            "https://stopcovid19.metro.tokyo.lg.jp/data/130001_tokyo_covid19_patients.csv                                                                                                                                                                              118\n",
            "                                                                                                                                                                                                                                                         ... \n",
            "https://www.bousai.metro.tokyo.lg.jp/_res/projects/default_project/_page_/001/007/566/20200331.pdf                                                                                                                                                          1\n",
            "https://www.bousai.metro.tokyo.lg.jp/taisaku/saigai/1007261/1007514.html;https://www.bousai.metro.tokyo.lg.jp/taisaku/saigai/1007261/1007516.html;https://www.bousai.metro.tokyo.lg.jp/taisaku/saigai/1007261/1007514.html                                  1\n",
            "https://www.pref.hiroshima.lg.jp/uploaded/attachment/385693.pdf;https://www.pref.hiroshima.lg.jp/uploaded/attachment/385693.pdf                                                                                                                             1\n",
            "https://www.city.kawaguchi.lg.jp/material/files/group/86/korona20200504.pdf                                                                                                                                                                                 1\n",
            "https://www.pref.chiba.lg.jp/shippei/press/2019/ncov-index.html;https://www.mhlw.go.jp/stf/newpage_10107.html;https://www.mhlw.go.jp/content/10906000/000606531.pdf                                                                                         1\n",
            "Name: 情報源, Length: 3176, dtype: int64\n",
            "========================\n",
            "\n",
            "備考 <class 'str'>\n",
            "                                                                                                 12715\n",
            "非公表                                                                                                938\n",
            "「（第332報）新型コロナウイルス感染症患者公表数の修正について」による過去未報告分の追加                                                      111\n",
            "中央区                                                                                                 78\n",
            "博多区                                                                                                 74\n",
            "                                                                                                 ...  \n",
            "京都市176                                                                                               1\n",
            "横浜市発表 No.36                                                                                          1\n",
            "(4月22日)再陽性5月22日　https://www.pref.saitama.lg.jp/a0001/news/page/2020/documents/200522-0902.pdf        1\n",
            "横浜市348                                                                                               1\n",
            "横浜市発表 No.150                                                                                         1\n",
            "Name: 備考, Length: 1306, dtype: int64\n",
            "========================\n",
            "\n",
            "罹患者関係_記入済ﾌﾗｸﾞ <class 'str'>\n",
            "0    11592\n",
            "1     4228\n",
            "Name: 罹患者関係_記入済ﾌﾗｸﾞ, dtype: int64\n",
            "========================\n",
            "\n",
            "罹患者トランザクション_記入済ﾌﾗｸﾞ <class 'str'>\n",
            "0    15597\n",
            "1      223\n",
            "Name: 罹患者トランザクション_記入済ﾌﾗｸﾞ, dtype: int64\n",
            "========================\n",
            "\n",
            "Relation1 <class 'str'>\n",
            "          12146\n",
            "1-321        66\n",
            "34-66        56\n",
            "10-31        55\n",
            "1-641        48\n",
            "          ...  \n",
            "27-161        1\n",
            "1-60          1\n",
            "14-532        1\n",
            "11-744        1\n",
            "27-350        1\n",
            "Name: Relation1, Length: 1746, dtype: int64\n",
            "========================\n",
            "\n",
            "Relation2 <class 'str'>\n",
            "          12147\n",
            "20-2         45\n",
            "非公表          36\n",
            "40-49        25\n",
            "40-522       24\n",
            "          ...  \n",
            "28-106        1\n",
            "40-583        1\n",
            "1-622         1\n",
            "8-120         1\n",
            "23-105        1\n",
            "Name: Relation2, Length: 3034, dtype: int64\n",
            "========================\n",
            "\n",
            "Transaction <class 'str'>\n",
            "          13616\n",
            "14-41        42\n",
            "14-24        37\n",
            "14-63        36\n",
            "14-56        27\n",
            "          ...  \n",
            "13-148        1\n",
            "10/2          1\n",
            "13-161        1\n",
            "13-10         1\n",
            "13-160        1\n",
            "Name: Transaction, Length: 229, dtype: int64\n",
            "========================\n",
            "\n"
          ],
          "name": "stdout"
        }
      ]
    },
    {
      "cell_type": "code",
      "metadata": {
        "id": "2lNULT40nIY3",
        "colab_type": "code",
        "colab": {}
      },
      "source": [
        "#性別をencodeする\n",
        "import category_encoders as ce\n",
        "df_gender = df['性別']\n",
        "list_cols = ['性別']\n",
        "ce_ohe = ce.OrdinalEncoder(cols=list_cols,handle_unknown='impute')\n",
        "df['性別'] = ce_ohe.fit_transform(df_gender)"
      ],
      "execution_count": 0,
      "outputs": []
    },
    {
      "cell_type": "code",
      "metadata": {
        "id": "svflU4OO1g0F",
        "colab_type": "code",
        "colab": {}
      },
      "source": [
        "#受診都道府県をencodeする\n",
        "df_city = df['受診都道府県']\n",
        "list_cols = ['受診都道府県']\n",
        "ce_ohe = ce.OrdinalEncoder(cols=list_cols,handle_unknown='impute')\n",
        "df['受診都道府県'] = ce_ohe.fit_transform(df_city)"
      ],
      "execution_count": 0,
      "outputs": []
    },
    {
      "cell_type": "code",
      "metadata": {
        "id": "9j9ULXTR4jZH",
        "colab_type": "code",
        "colab": {}
      },
      "source": [
        "#居住都道府県をencodeする\n",
        "df_city = df['居住都道府県']\n",
        "list_cols = ['居住都道府県']\n",
        "ce_ohe = ce.OrdinalEncoder(cols=list_cols,handle_unknown='impute')\n",
        "df['居住都道府県'] = ce_ohe.fit_transform(df_city)"
      ],
      "execution_count": 0,
      "outputs": []
    },
    {
      "cell_type": "code",
      "metadata": {
        "id": "XmwV5Muv3MSM",
        "colab_type": "code",
        "colab": {}
      },
      "source": [
        "#年代をencodeする\n",
        "df_age = df['年代']\n",
        "list_cols = ['年代']\n",
        "ce_ohe = ce.OrdinalEncoder(cols=list_cols,handle_unknown='impute')\n",
        "df['年代'] = ce_ohe.fit_transform(df_age)"
      ],
      "execution_count": 0,
      "outputs": []
    },
    {
      "cell_type": "code",
      "metadata": {
        "id": "-zkgNU_G76GS",
        "colab_type": "code",
        "colab": {}
      },
      "source": [
        "#ﾀﾞｲﾔﾓﾝﾄﾞﾌﾟﾘﾝｾｽ号乗船ﾌﾗｸﾞをencodeする\n",
        "df_diamond = df['ﾀﾞｲﾔﾓﾝﾄﾞﾌﾟﾘﾝｾｽ号乗船ﾌﾗｸﾞ']\n",
        "list_cols = ['ﾀﾞｲﾔﾓﾝﾄﾞﾌﾟﾘﾝｾｽ号乗船ﾌﾗｸﾞ']\n",
        "ce_ohe = ce.OrdinalEncoder(cols=list_cols,handle_unknown='impute')\n",
        "df['ﾀﾞｲﾔﾓﾝﾄﾞﾌﾟﾘﾝｾｽ号乗船ﾌﾗｸﾞ'] = ce_ohe.fit_transform(df_diamond)"
      ],
      "execution_count": 0,
      "outputs": []
    },
    {
      "cell_type": "code",
      "metadata": {
        "id": "jOg79C1x9jqf",
        "colab_type": "code",
        "colab": {}
      },
      "source": [
        "df_foreign = df['海外渡航歴ﾌﾗｸﾞ']\n",
        "#海外渡航歴ﾌﾗｸﾞをencodeする\n",
        "list_cols = ['海外渡航歴ﾌﾗｸﾞ']\n",
        "ce_ohe = ce.OrdinalEncoder(cols=list_cols,handle_unknown='impute')\n",
        "df['海外渡航歴ﾌﾗｸﾞ'] = ce_ohe.fit_transform(df_foreign)"
      ],
      "execution_count": 0,
      "outputs": []
    },
    {
      "cell_type": "markdown",
      "metadata": {
        "id": "LA0mitSDR8HB",
        "colab_type": "text"
      },
      "source": [
        "# PairPlotで相関を確認する"
      ]
    },
    {
      "cell_type": "code",
      "metadata": {
        "id": "taZLfzjaycil",
        "colab_type": "code",
        "colab": {}
      },
      "source": [
        "# sns.pairplot(df)"
      ],
      "execution_count": 0,
      "outputs": []
    },
    {
      "cell_type": "code",
      "metadata": {
        "id": "clwcewYU-8Mv",
        "colab_type": "code",
        "colab": {}
      },
      "source": [
        "#職業とステータスの関係性\n",
        "job_status_df = df[['職業', 'ステータス']]\n",
        "job_status_df = job_status_df.groupby('職業').filter(lambda x: len(x) > 100)\n",
        "\n",
        "df_status = job_status_df['ステータス']\n",
        "list_cols = ['ステータス']\n",
        "ce_ohe = ce.OrdinalEncoder(cols=list_cols,handle_unknown='impute')\n",
        "job_status_df['ステータス'] = ce_ohe.fit_transform(df_status)\n",
        "\n",
        "job_status_df['ステータス'] = job_status_df['ステータス'].astype(float)"
      ],
      "execution_count": 0,
      "outputs": []
    },
    {
      "cell_type": "code",
      "metadata": {
        "id": "Al5HoO-jZOpy",
        "colab_type": "code",
        "colab": {}
      },
      "source": [
        "# fig, axs = plt.subplots(15, 1, figsize=(10, 10))\n",
        "# for count, (index, value) in enumerate(job_status_df['職業'].value_counts().iteritems(), 1):\n",
        "#   title = str(index) + ' (標本数: ' + str(value) +  \")\"\n",
        "#   dataframe = job_status_df[job_status_df['職業'] == index]\n",
        "#   axs[count].set_title(title)\n",
        "#   axs[count].pie(dataframe[\"ステータス\"])\n",
        "\n",
        "# plt.show()"
      ],
      "execution_count": 0,
      "outputs": []
    },
    {
      "cell_type": "markdown",
      "metadata": {
        "id": "nu9oBd--Q_y6",
        "colab_type": "text"
      },
      "source": [
        "# Xgboostを用いた分析"
      ]
    },
    {
      "cell_type": "markdown",
      "metadata": {
        "id": "s582C54CcpWD",
        "colab_type": "text"
      },
      "source": [
        "## データの整理"
      ]
    },
    {
      "cell_type": "code",
      "metadata": {
        "id": "-cj0uIbm38Uu",
        "colab_type": "code",
        "outputId": "4f661bcf-71d5-4521-f328-58fb62491c5a",
        "colab": {
          "base_uri": "https://localhost:8080/",
          "height": 0
        }
      },
      "source": [
        "!pip install xgboost\n",
        "import xgboost as xgb\n",
        "from sklearn.model_selection import train_test_split, GridSearchCV, learning_curve\n",
        "from sklearn.metrics import mean_squared_error, mean_absolute_error\n",
        "from IPython.display import clear_output"
      ],
      "execution_count": 19,
      "outputs": [
        {
          "output_type": "stream",
          "text": [
            "Requirement already satisfied: xgboost in /usr/local/lib/python3.6/dist-packages (0.90)\n",
            "Requirement already satisfied: scipy in /usr/local/lib/python3.6/dist-packages (from xgboost) (1.4.1)\n",
            "Requirement already satisfied: numpy in /usr/local/lib/python3.6/dist-packages (from xgboost) (1.18.5)\n"
          ],
          "name": "stdout"
        }
      ]
    },
    {
      "cell_type": "code",
      "metadata": {
        "id": "2ll06d6s55eK",
        "colab_type": "code",
        "colab": {}
      },
      "source": [
        "df_new = df[[\"都道府県コード\", \"年代\", \"性別\", \"ステータス\", \"症状一覧\"]]"
      ],
      "execution_count": 0,
      "outputs": []
    },
    {
      "cell_type": "code",
      "metadata": {
        "id": "B9u9TsuPDHcM",
        "colab_type": "code",
        "colab": {}
      },
      "source": [
        "# ステータスは`非公開`や``をdropし、中等症以上のものは1, 中等症未満は２に変換する\n",
        "df_new = df_new[(df['ステータス'] == \"重症\") | (df['ステータス'] == '軽症') | (df['ステータス'] == '死亡') | (df['ステータス'] == '無症状') | (df['ステータス'] == '中等症')]\n",
        "df_new[\"ステータス\"] = df_new[\"ステータス\"].str.replace(\"重症\", \"1\").str.replace(\"死亡\", \"1\").str.replace(\"中等症\", \"1\").str.replace(\"軽症\", \"2\").str.replace(\"無症状\", \"2\")\n",
        "df_new[\"ステータス\"]  =df_new[\"ステータス\"].astype(int)"
      ],
      "execution_count": 0,
      "outputs": []
    },
    {
      "cell_type": "code",
      "metadata": {
        "id": "KNurNtWeVM4g",
        "colab_type": "code",
        "colab": {
          "base_uri": "https://localhost:8080/",
          "height": 0
        },
        "outputId": "abf20c63-7aae-4429-f1ee-3a5d70c0e5c2"
      },
      "source": [
        "# 症状一覧で`非公開`や``をdropし、発熱・咳・頭痛・倦怠感があるかどうかのフラグを作成する\n",
        "df_new = df_new[(df['症状一覧'] != \"\") & (df['症状一覧'] != '非公表') & (df['症状一覧'] != ' ')]\n",
        "df_new[\"発熱フラグ\"] = df_new[\"症状一覧\"].str.contains(\"発熱\")\n",
        "df_new[\"咳フラグ\"] = df_new[\"症状一覧\"].str.contains(\"咳\")\n",
        "df_new[\"頭痛フラグ\"] = df_new[\"症状一覧\"].str.contains(\"頭痛\")\n",
        "df_new[\"倦怠感フラグ\"] = df_new[\"症状一覧\"].str.contains(\"倦怠感\")\n",
        "df_new[\"肺炎フラグ\"] = df_new[\"症状一覧\"].str.contains(\"肺炎\")"
      ],
      "execution_count": 22,
      "outputs": [
        {
          "output_type": "stream",
          "text": [
            "/usr/local/lib/python3.6/dist-packages/ipykernel_launcher.py:2: UserWarning: Boolean Series key will be reindexed to match DataFrame index.\n",
            "  \n"
          ],
          "name": "stderr"
        }
      ]
    },
    {
      "cell_type": "code",
      "metadata": {
        "id": "SCxZ0M9pEeoV",
        "colab_type": "code",
        "colab": {}
      },
      "source": [
        "df_new[\"都道府県コード\"] = df_new[\"都道府県コード\"].astype(int)"
      ],
      "execution_count": 0,
      "outputs": []
    },
    {
      "cell_type": "code",
      "metadata": {
        "id": "cuL_NNZlDHn7",
        "colab_type": "code",
        "outputId": "eceb5928-5665-40de-c2a4-1242feb8cda5",
        "colab": {
          "base_uri": "https://localhost:8080/",
          "height": 0
        }
      },
      "source": [
        "df_new.dtypes"
      ],
      "execution_count": 24,
      "outputs": [
        {
          "output_type": "execute_result",
          "data": {
            "text/plain": [
              "都道府県コード     int64\n",
              "年代          int64\n",
              "性別          int64\n",
              "ステータス       int64\n",
              "症状一覧       object\n",
              "発熱フラグ        bool\n",
              "咳フラグ         bool\n",
              "頭痛フラグ        bool\n",
              "倦怠感フラグ       bool\n",
              "肺炎フラグ        bool\n",
              "dtype: object"
            ]
          },
          "metadata": {
            "tags": []
          },
          "execution_count": 24
        }
      ]
    },
    {
      "cell_type": "code",
      "metadata": {
        "id": "6ZUlu7lPZhrQ",
        "colab_type": "code",
        "colab": {}
      },
      "source": [
        "# 症状一覧をdropする\n",
        "df_new = df_new.drop('症状一覧', axis=1)"
      ],
      "execution_count": 0,
      "outputs": []
    },
    {
      "cell_type": "markdown",
      "metadata": {
        "id": "DHS55yPgbb1h",
        "colab_type": "text"
      },
      "source": [
        "## 全体の場合"
      ]
    },
    {
      "cell_type": "code",
      "metadata": {
        "id": "Li0nXvOL7laF",
        "colab_type": "code",
        "colab": {}
      },
      "source": [
        "df_train, df_test = train_test_split(df_new, test_size=0.3, random_state=0)\n",
        "\n",
        "y_train = df_train['ステータス']\n",
        "y_test = df_test['ステータス']\n",
        "x_train = df_train.drop(['ステータス'], axis=1)\n",
        "x_test = df_test.drop(['ステータス'], axis=1)\n",
        "\n",
        "dtrain = xgb.DMatrix(x_train, label=y_train)\n",
        "dtest = xgb.DMatrix(x_test, label=y_test)"
      ],
      "execution_count": 0,
      "outputs": []
    },
    {
      "cell_type": "code",
      "metadata": {
        "id": "vTsicEGW32B0",
        "colab_type": "code",
        "outputId": "e13e3a5f-a58b-46fe-fe24-a0baf9385d85",
        "colab": {
          "base_uri": "https://localhost:8080/",
          "height": 68
        }
      },
      "source": [
        "df_train['ステータス'].value_counts()"
      ],
      "execution_count": 27,
      "outputs": [
        {
          "output_type": "execute_result",
          "data": {
            "text/plain": [
              "2    1485\n",
              "1     233\n",
              "Name: ステータス, dtype: int64"
            ]
          },
          "metadata": {
            "tags": []
          },
          "execution_count": 27
        }
      ]
    },
    {
      "cell_type": "code",
      "metadata": {
        "id": "999naDqV-aUH",
        "colab_type": "code",
        "colab": {}
      },
      "source": [
        "params = {\n",
        "    'n_estimators': 5000,\n",
        "    'max_depth': 7,\n",
        "    'objective':'reg:linear',\n",
        "    'min_child_weight': 4,\n",
        "    'eta': 0.07,\n",
        "    'eval_metric': 'mae',\n",
        "}\n",
        "evals = [(dtrain, 'train'), (dtest, 'test')]\n",
        "\n",
        "evals_result = {}\n",
        "\n",
        "model = xgb.train(\n",
        "    params,\n",
        "    dtrain,\n",
        "    num_boost_round=5000,\n",
        "    evals=evals,\n",
        "    early_stopping_rounds=30,\n",
        "    evals_result=evals_result,\n",
        "        )\n",
        "clear_output()"
      ],
      "execution_count": 0,
      "outputs": []
    },
    {
      "cell_type": "code",
      "metadata": {
        "id": "nZCBfWda-b_q",
        "colab_type": "code",
        "outputId": "d8f5efc9-4606-419e-bc27-00aca0095430",
        "colab": {
          "base_uri": "https://localhost:8080/",
          "height": 34
        }
      },
      "source": [
        "def mean_error_rate(y_pred, y_test):\n",
        "    mer = np.mean(abs(y_pred-y_true)/y_true * 100)\n",
        "    return mer\n",
        "\n",
        "y_pred = model.predict(dtest)\n",
        "y_true = y_test.values\n",
        "\n",
        "print('誤差率 : {0:.4f} %'.format(mean_error_rate(y_pred, y_test)))"
      ],
      "execution_count": 29,
      "outputs": [
        {
          "output_type": "stream",
          "text": [
            "誤差率 : 12.1641 %\n"
          ],
          "name": "stdout"
        }
      ]
    },
    {
      "cell_type": "code",
      "metadata": {
        "id": "Kb7Qqivw-gUx",
        "colab_type": "code",
        "outputId": "3819eddf-551a-4806-ad99-1446def1f7d5",
        "colab": {
          "base_uri": "https://localhost:8080/",
          "height": 495
        }
      },
      "source": [
        "plt.figure(figsize=(12, 8))\n",
        "train_metric = evals_result['train']['mae']\n",
        "plt.plot(train_metric, label='train mae')\n",
        "eval_metric = evals_result['test']['mae']\n",
        "plt.plot(eval_metric, label='test mae', linestyle='dashed')\n",
        "plt.grid()\n",
        "plt.legend()\n",
        "plt.xlabel('学習回数')\n",
        "plt.ylabel('平均絶対誤差')\n",
        "plt.savefig('kodate_learning_curve.png')\n",
        "plt.show()"
      ],
      "execution_count": 30,
      "outputs": [
        {
          "output_type": "display_data",
          "data": {
            "image/png": "[encoded data removed]",
            "text/plain": [
              "<Figure size 864x576 with 1 Axes>"
            ]
          },
          "metadata": {
            "tags": [],
            "needs_background": "light"
          }
        }
      ]
    },
    {
      "cell_type": "code",
      "metadata": {
        "id": "ZiV9JF-nFPRl",
        "colab_type": "code",
        "outputId": "8146b746-3de1-4c2f-c5a2-6478a67733e2",
        "colab": {
          "base_uri": "https://localhost:8080/",
          "height": 945
        }
      },
      "source": [
        "_, ax = plt.subplots(figsize=(16, 16))\n",
        "xgb.plot_importance(model, ax=ax,  importance_type='gain', title='項目の重要度',show_values=False)\n",
        "plt.ylabel(\"項目\")\n",
        "plt.savefig('kodate_feature.png')\n",
        "plt.show()"
      ],
      "execution_count": 31,
      "outputs": [
        {
          "output_type": "display_data",
          "data": {
            "image/png": "[encoded data removed]",
            "text/plain": [
              "<Figure size 1152x1152 with 1 Axes>"
            ]
          },
          "metadata": {
            "tags": [],
            "needs_background": "light"
          }
        }
      ]
    },
    {
      "cell_type": "markdown",
      "metadata": {
        "id": "6jnIyQgCaqwW",
        "colab_type": "text"
      },
      "source": [
        "## 東京のみの場合"
      ]
    },
    {
      "cell_type": "code",
      "metadata": {
        "id": "DFmviEoWavb9",
        "colab_type": "code",
        "colab": {}
      },
      "source": [
        "df_new_tokyo = df_new[df_new[\"都道府県コード\"] == 13]"
      ],
      "execution_count": 0,
      "outputs": []
    },
    {
      "cell_type": "code",
      "metadata": {
        "id": "bU59UY-Cc0do",
        "colab_type": "code",
        "colab": {}
      },
      "source": [
        "df_train, df_test = train_test_split(df_new_tokyo, test_size=0.3, random_state=0)\n",
        "\n",
        "y_train = df_train['ステータス']\n",
        "y_test = df_test['ステータス']\n",
        "x_train = df_train.drop(['ステータス'], axis=1)\n",
        "x_test = df_test.drop(['ステータス'], axis=1)\n",
        "\n",
        "dtrain = xgb.DMatrix(x_train, label=y_train)\n",
        "dtest = xgb.DMatrix(x_test, label=y_test)"
      ],
      "execution_count": 0,
      "outputs": []
    },
    {
      "cell_type": "code",
      "metadata": {
        "id": "JTQtUXtWc_yr",
        "colab_type": "code",
        "colab": {
          "base_uri": "https://localhost:8080/",
          "height": 68
        },
        "outputId": "44d9abb8-e2f3-4b26-b952-9814b6cec78d"
      },
      "source": [
        "df_train['ステータス'].value_counts()"
      ],
      "execution_count": 34,
      "outputs": [
        {
          "output_type": "execute_result",
          "data": {
            "text/plain": [
              "2    135\n",
              "1      8\n",
              "Name: ステータス, dtype: int64"
            ]
          },
          "metadata": {
            "tags": []
          },
          "execution_count": 34
        }
      ]
    },
    {
      "cell_type": "code",
      "metadata": {
        "id": "nNBSOhgzdHaS",
        "colab_type": "code",
        "colab": {}
      },
      "source": [
        "params = {\n",
        "    'n_estimators': 5000,\n",
        "    'max_depth': 7,\n",
        "    'objective':'reg:linear',\n",
        "    'min_child_weight': 4,\n",
        "    'eta': 0.07,\n",
        "    'eval_metric': 'mae',\n",
        "}\n",
        "evals = [(dtrain, 'train'), (dtest, 'test')]\n",
        "\n",
        "evals_result = {}\n",
        "\n",
        "model = xgb.train(\n",
        "    params,\n",
        "    dtrain,\n",
        "    num_boost_round=5000,\n",
        "    evals=evals,\n",
        "    early_stopping_rounds=30,\n",
        "    evals_result=evals_result,\n",
        "        )\n",
        "clear_output()"
      ],
      "execution_count": 0,
      "outputs": []
    },
    {
      "cell_type": "code",
      "metadata": {
        "id": "qH_0Vf7qdUPD",
        "colab_type": "code",
        "colab": {
          "base_uri": "https://localhost:8080/",
          "height": 34
        },
        "outputId": "892722b9-4e92-4cc8-edeb-1f9d37b99223"
      },
      "source": [
        "y_pred = model.predict(dtest)\n",
        "y_true = y_test.values\n",
        "\n",
        "print('誤差率 : {0:.4f} %'.format(mean_error_rate(y_pred, y_test)))"
      ],
      "execution_count": 36,
      "outputs": [
        {
          "output_type": "stream",
          "text": [
            "誤差率 : 10.1791 %\n"
          ],
          "name": "stdout"
        }
      ]
    },
    {
      "cell_type": "code",
      "metadata": {
        "id": "D8LaN4ILdXA7",
        "colab_type": "code",
        "colab": {
          "base_uri": "https://localhost:8080/",
          "height": 496
        },
        "outputId": "78d61b6e-9c09-43c3-c983-af681ff6f712"
      },
      "source": [
        "plt.figure(figsize=(12, 8))\n",
        "train_metric = evals_result['train']['mae']\n",
        "plt.plot(train_metric, label='train mae')\n",
        "eval_metric = evals_result['test']['mae']\n",
        "plt.plot(eval_metric, label='test mae', linestyle='dashed')\n",
        "plt.grid()\n",
        "plt.legend()\n",
        "plt.xlabel('学習回数')\n",
        "plt.ylabel('平均絶対誤差')\n",
        "plt.savefig('kodate_learning_curve.png')\n",
        "plt.show()"
      ],
      "execution_count": 37,
      "outputs": [
        {
          "output_type": "display_data",
          "data": {
            "image/png": "[encoded data removed]",
            "text/plain": [
              "<Figure size 864x576 with 1 Axes>"
            ]
          },
          "metadata": {
            "tags": [],
            "needs_background": "light"
          }
        }
      ]
    },
    {
      "cell_type": "code",
      "metadata": {
        "id": "ICzOA5qYdZXk",
        "colab_type": "code",
        "colab": {
          "base_uri": "https://localhost:8080/",
          "height": 945
        },
        "outputId": "8da57ae0-bd2c-41c7-c46d-e4445d96ead2"
      },
      "source": [
        "_, ax = plt.subplots(figsize=(16, 16))\n",
        "xgb.plot_importance(model, ax=ax,  importance_type='gain', title='項目の重要度',show_values=False)\n",
        "plt.ylabel(\"項目\")\n",
        "plt.savefig('kodate_feature.png')\n",
        "plt.show()"
      ],
      "execution_count": 38,
      "outputs": [
        {
          "output_type": "display_data",
          "data": {
            "image/png": "[encoded data removed]",
            "text/plain": [
              "<Figure size 1152x1152 with 1 Axes>"
            ]
          },
          "metadata": {
            "tags": [],
            "needs_background": "light"
          }
        }
      ]
    },
    {
      "cell_type": "markdown",
      "metadata": {
        "id": "GHQ03o19bMn5",
        "colab_type": "text"
      },
      "source": [
        "## 神奈川のみの場合"
      ]
    },
    {
      "cell_type": "code",
      "metadata": {
        "id": "sjv8Dfo7bU5A",
        "colab_type": "code",
        "colab": {}
      },
      "source": [
        "df_new_kanagawa = df_new[df_new[\"都道府県コード\"] == 14]"
      ],
      "execution_count": 0,
      "outputs": []
    },
    {
      "cell_type": "code",
      "metadata": {
        "id": "tEvvb7NtdzYc",
        "colab_type": "code",
        "colab": {}
      },
      "source": [
        "df_train, df_test = train_test_split(df_new_kanagawa, test_size=0.3, random_state=0)\n",
        "\n",
        "y_train = df_train['ステータス']\n",
        "y_test = df_test['ステータス']\n",
        "x_train = df_train.drop(['ステータス'], axis=1)\n",
        "x_test = df_test.drop(['ステータス'], axis=1)\n",
        "\n",
        "dtrain = xgb.DMatrix(x_train, label=y_train)\n",
        "dtest = xgb.DMatrix(x_test, label=y_test)"
      ],
      "execution_count": 0,
      "outputs": []
    },
    {
      "cell_type": "code",
      "metadata": {
        "id": "H8Ab_ar7d3gQ",
        "colab_type": "code",
        "colab": {
          "base_uri": "https://localhost:8080/",
          "height": 68
        },
        "outputId": "8db38199-4a01-4c6b-b0a6-a1783498642c"
      },
      "source": [
        "df_train['ステータス'].value_counts()"
      ],
      "execution_count": 41,
      "outputs": [
        {
          "output_type": "execute_result",
          "data": {
            "text/plain": [
              "2    241\n",
              "1     61\n",
              "Name: ステータス, dtype: int64"
            ]
          },
          "metadata": {
            "tags": []
          },
          "execution_count": 41
        }
      ]
    },
    {
      "cell_type": "code",
      "metadata": {
        "id": "bgYFoFmSd6rK",
        "colab_type": "code",
        "colab": {}
      },
      "source": [
        "params = {\n",
        "    'n_estimators': 5000,\n",
        "    'max_depth': 7,\n",
        "    'objective':'reg:linear',\n",
        "    'min_child_weight': 4,\n",
        "    'eta': 0.07,\n",
        "    'eval_metric': 'mae',\n",
        "}\n",
        "evals = [(dtrain, 'train'), (dtest, 'test')]\n",
        "\n",
        "evals_result = {}\n",
        "\n",
        "model = xgb.train(\n",
        "    params,\n",
        "    dtrain,\n",
        "    num_boost_round=5000,\n",
        "    evals=evals,\n",
        "    early_stopping_rounds=30,\n",
        "    evals_result=evals_result,\n",
        "        )\n",
        "clear_output()"
      ],
      "execution_count": 0,
      "outputs": []
    },
    {
      "cell_type": "code",
      "metadata": {
        "id": "buUPd-3Ld9JK",
        "colab_type": "code",
        "colab": {
          "base_uri": "https://localhost:8080/",
          "height": 34
        },
        "outputId": "56c37c30-de89-4c76-9def-202e42903f12"
      },
      "source": [
        "y_pred = model.predict(dtest)\n",
        "y_true = y_test.values\n",
        "\n",
        "print('誤差率 : {0:.4f} %'.format(mean_error_rate(y_pred, y_test)))"
      ],
      "execution_count": 43,
      "outputs": [
        {
          "output_type": "stream",
          "text": [
            "誤差率 : 21.1897 %\n"
          ],
          "name": "stdout"
        }
      ]
    },
    {
      "cell_type": "code",
      "metadata": {
        "id": "hQ-RgaJVd_Wq",
        "colab_type": "code",
        "colab": {
          "base_uri": "https://localhost:8080/",
          "height": 495
        },
        "outputId": "8f32b693-9beb-4139-9af5-b631f058b29d"
      },
      "source": [
        "plt.figure(figsize=(12, 8))\n",
        "train_metric = evals_result['train']['mae']\n",
        "plt.plot(train_metric, label='train mae')\n",
        "eval_metric = evals_result['test']['mae']\n",
        "plt.plot(eval_metric, label='test mae', linestyle='dashed')\n",
        "plt.grid()\n",
        "plt.legend()\n",
        "plt.xlabel('学習回数')\n",
        "plt.ylabel('平均絶対誤差')\n",
        "plt.savefig('kodate_learning_curve.png')\n",
        "plt.show()"
      ],
      "execution_count": 44,
      "outputs": [
        {
          "output_type": "display_data",
          "data": {
            "image/png": "[encoded data removed]",
            "text/plain": [
              "<Figure size 864x576 with 1 Axes>"
            ]
          },
          "metadata": {
            "tags": [],
            "needs_background": "light"
          }
        }
      ]
    },
    {
      "cell_type": "code",
      "metadata": {
        "id": "h1O4oPcteBx4",
        "colab_type": "code",
        "colab": {
          "base_uri": "https://localhost:8080/",
          "height": 945
        },
        "outputId": "d1e9766e-68de-41e9-8402-c789aa088465"
      },
      "source": [
        "_, ax = plt.subplots(figsize=(16, 16))\n",
        "xgb.plot_importance(model, ax=ax,  importance_type='gain', title='項目の重要度',show_values=False)\n",
        "plt.ylabel(\"項目\")\n",
        "plt.savefig('kodate_feature.png')\n",
        "plt.show()"
      ],
      "execution_count": 45,
      "outputs": [
        {
          "output_type": "display_data",
          "data": {
            "image/png": "[encoded data removed]",
            "text/plain": [
              "<Figure size 1152x1152 with 1 Axes>"
            ]
          },
          "metadata": {
            "tags": [],
            "needs_background": "light"
          }
        }
      ]
    },
    {
      "cell_type": "markdown",
      "metadata": {
        "id": "pWWbp5YlbQ3P",
        "colab_type": "text"
      },
      "source": [
        "## 北海道のみの場合"
      ]
    },
    {
      "cell_type": "code",
      "metadata": {
        "id": "xuPuPS9ibUDX",
        "colab_type": "code",
        "colab": {}
      },
      "source": [
        "df_new_hokkaido = df_new[df_new[\"都道府県コード\"] == 1]"
      ],
      "execution_count": 0,
      "outputs": []
    },
    {
      "cell_type": "code",
      "metadata": {
        "id": "fK8KBAikekZh",
        "colab_type": "code",
        "colab": {}
      },
      "source": [
        "df_train, df_test = train_test_split(df_new_hokkaido, test_size=0.3, random_state=0)\n",
        "\n",
        "y_train = df_train['ステータス']\n",
        "y_test = df_test['ステータス']\n",
        "x_train = df_train.drop(['ステータス'], axis=1)\n",
        "x_test = df_test.drop(['ステータス'], axis=1)\n",
        "\n",
        "dtrain = xgb.DMatrix(x_train, label=y_train)\n",
        "dtest = xgb.DMatrix(x_test, label=y_test)"
      ],
      "execution_count": 0,
      "outputs": []
    },
    {
      "cell_type": "code",
      "metadata": {
        "id": "V61IX-MQemru",
        "colab_type": "code",
        "colab": {
          "base_uri": "https://localhost:8080/",
          "height": 68
        },
        "outputId": "06c747da-368e-4571-b5a7-27c54822ee52"
      },
      "source": [
        "df_train['ステータス'].value_counts()"
      ],
      "execution_count": 48,
      "outputs": [
        {
          "output_type": "execute_result",
          "data": {
            "text/plain": [
              "2    349\n",
              "1     49\n",
              "Name: ステータス, dtype: int64"
            ]
          },
          "metadata": {
            "tags": []
          },
          "execution_count": 48
        }
      ]
    },
    {
      "cell_type": "code",
      "metadata": {
        "id": "SzVzEQckfj1y",
        "colab_type": "code",
        "colab": {}
      },
      "source": [
        "params = {\n",
        "    'n_estimators': 5000,\n",
        "    'max_depth': 7,\n",
        "    'objective':'reg:linear',\n",
        "    'min_child_weight': 4,\n",
        "    'eta': 0.07,\n",
        "    'eval_metric': 'mae',\n",
        "}\n",
        "evals = [(dtrain, 'train'), (dtest, 'test')]\n",
        "\n",
        "evals_result = {}\n",
        "\n",
        "model = xgb.train(\n",
        "    params,\n",
        "    dtrain,\n",
        "    num_boost_round=5000,\n",
        "    evals=evals,\n",
        "    early_stopping_rounds=30,\n",
        "    evals_result=evals_result,\n",
        "        )\n",
        "clear_output()"
      ],
      "execution_count": 0,
      "outputs": []
    },
    {
      "cell_type": "code",
      "metadata": {
        "id": "ZAksdsQKfmzO",
        "colab_type": "code",
        "colab": {
          "base_uri": "https://localhost:8080/",
          "height": 34
        },
        "outputId": "9b94a399-99ff-47e2-d37a-f8a96fe9fe37"
      },
      "source": [
        "y_pred = model.predict(dtest)\n",
        "y_true = y_test.values\n",
        "\n",
        "print('誤差率 : {0:.4f} %'.format(mean_error_rate(y_pred, y_test)))"
      ],
      "execution_count": 50,
      "outputs": [
        {
          "output_type": "stream",
          "text": [
            "誤差率 : 15.8860 %\n"
          ],
          "name": "stdout"
        }
      ]
    },
    {
      "cell_type": "code",
      "metadata": {
        "id": "M1mRRdnjfpLf",
        "colab_type": "code",
        "colab": {
          "base_uri": "https://localhost:8080/",
          "height": 495
        },
        "outputId": "3cdbca49-716a-4334-9178-2e9dda1978c0"
      },
      "source": [
        "plt.figure(figsize=(12, 8))\n",
        "train_metric = evals_result['train']['mae']\n",
        "plt.plot(train_metric, label='train mae')\n",
        "eval_metric = evals_result['test']['mae']\n",
        "plt.plot(eval_metric, label='test mae', linestyle='dashed')\n",
        "plt.grid()\n",
        "plt.legend()\n",
        "plt.xlabel('学習回数')\n",
        "plt.ylabel('平均絶対誤差')\n",
        "plt.savefig('kodate_learning_curve.png')\n",
        "plt.show()"
      ],
      "execution_count": 51,
      "outputs": [
        {
          "output_type": "display_data",
          "data": {
            "image/png": "[encoded data removed]",
            "text/plain": [
              "<Figure size 864x576 with 1 Axes>"
            ]
          },
          "metadata": {
            "tags": [],
            "needs_background": "light"
          }
        }
      ]
    },
    {
      "cell_type": "code",
      "metadata": {
        "id": "PBJxOTkofrNE",
        "colab_type": "code",
        "colab": {
          "base_uri": "https://localhost:8080/",
          "height": 945
        },
        "outputId": "63c1aae8-15f8-4ab3-9c88-131756c9eb9f"
      },
      "source": [
        "_, ax = plt.subplots(figsize=(16, 16))\n",
        "xgb.plot_importance(model, ax=ax,  importance_type='gain', title='項目の重要度',show_values=False)\n",
        "plt.ylabel(\"項目\")\n",
        "plt.savefig('kodate_feature.png')\n",
        "plt.show()"
      ],
      "execution_count": 52,
      "outputs": [
        {
          "output_type": "display_data",
          "data": {
            "image/png": "[encoded data removed]",
            "text/plain": [
              "<Figure size 1152x1152 with 1 Axes>"
            ]
          },
          "metadata": {
            "tags": [],
            "needs_background": "light"
          }
        }
      ]
    }
  ]
}