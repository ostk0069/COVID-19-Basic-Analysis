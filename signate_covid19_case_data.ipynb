{
  "nbformat": 4,
  "nbformat_minor": 0,
  "metadata": {
    "colab": {
      "name": "signate_covid19_case_data.ipynb",
      "provenance": [],
      "collapsed_sections": [],
      "include_colab_link": true
    },
    "kernelspec": {
      "name": "python3",
      "display_name": "Python 3"
    },
    "accelerator": "TPU"
  },
  "cells": [
    {
      "cell_type": "markdown",
      "metadata": {
        "id": "view-in-github",
        "colab_type": "text"
      },
      "source": [
        "<a href=\"https://colab.research.google.com/github/takumaosada/COVID-19-Basic-Analysis/blob/master/signate_covid19_case_data.ipynb\" target=\"_parent\"><img src=\"https://colab.research.google.com/assets/colab-badge.svg\" alt=\"Open In Colab\"/></a>"
      ]
    },
    {
      "cell_type": "markdown",
      "metadata": {
        "id": "fpB-BBfORx0E",
        "colab_type": "text"
      },
      "source": [
        "# データの読み込み"
      ]
    },
    {
      "cell_type": "code",
      "metadata": {
        "id": "9YHwYlTy6t0e",
        "colab_type": "code",
        "colab": {
          "base_uri": "https://localhost:8080/",
          "height": 425
        },
        "outputId": "f0697b85-5056-4ead-d7cd-fa5c34bf05e1"
      },
      "source": [
        "import pandas as pd\n",
        "import numpy as np \n",
        "import matplotlib.pyplot as plt\n",
        "import seaborn as sns\n",
        "%matplotlib inline\n",
        "!pip install japanize_matplotlib\n",
        "!pip install category_encoders\n",
        "import japanize_matplotlib\n",
        "import category_encoders as ce\n",
        "import gspread\n",
        "import re\n",
        "import itertools\n",
        "from oauth2client.client import GoogleCredentials\n",
        "from google.colab import auth\n",
        "auth.authenticate_user()"
      ],
      "execution_count": 1,
      "outputs": [
        {
          "output_type": "stream",
          "text": [
            "/usr/local/lib/python3.6/dist-packages/statsmodels/tools/_testing.py:19: FutureWarning: pandas.util.testing is deprecated. Use the functions in the public API at pandas.testing instead.\n",
            "  import pandas.util.testing as tm\n"
          ],
          "name": "stderr"
        },
        {
          "output_type": "stream",
          "text": [
            "Requirement already satisfied: japanize_matplotlib in /usr/local/lib/python3.6/dist-packages (1.1.2)\n",
            "Requirement already satisfied: matplotlib in /usr/local/lib/python3.6/dist-packages (from japanize_matplotlib) (3.2.2)\n",
            "Requirement already satisfied: python-dateutil>=2.1 in /usr/local/lib/python3.6/dist-packages (from matplotlib->japanize_matplotlib) (2.8.1)\n",
            "Requirement already satisfied: cycler>=0.10 in /usr/local/lib/python3.6/dist-packages (from matplotlib->japanize_matplotlib) (0.10.0)\n",
            "Requirement already satisfied: kiwisolver>=1.0.1 in /usr/local/lib/python3.6/dist-packages (from matplotlib->japanize_matplotlib) (1.2.0)\n",
            "Requirement already satisfied: pyparsing!=2.0.4,!=2.1.2,!=2.1.6,>=2.0.1 in /usr/local/lib/python3.6/dist-packages (from matplotlib->japanize_matplotlib) (2.4.7)\n",
            "Requirement already satisfied: numpy>=1.11 in /usr/local/lib/python3.6/dist-packages (from matplotlib->japanize_matplotlib) (1.18.5)\n",
            "Requirement already satisfied: six>=1.5 in /usr/local/lib/python3.6/dist-packages (from python-dateutil>=2.1->matplotlib->japanize_matplotlib) (1.12.0)\n",
            "Requirement already satisfied: category_encoders in /usr/local/lib/python3.6/dist-packages (2.2.2)\n",
            "Requirement already satisfied: scipy>=1.0.0 in /usr/local/lib/python3.6/dist-packages (from category_encoders) (1.4.1)\n",
            "Requirement already satisfied: statsmodels>=0.9.0 in /usr/local/lib/python3.6/dist-packages (from category_encoders) (0.10.2)\n",
            "Requirement already satisfied: patsy>=0.5.1 in /usr/local/lib/python3.6/dist-packages (from category_encoders) (0.5.1)\n",
            "Requirement already satisfied: scikit-learn>=0.20.0 in /usr/local/lib/python3.6/dist-packages (from category_encoders) (0.22.2.post1)\n",
            "Requirement already satisfied: pandas>=0.21.1 in /usr/local/lib/python3.6/dist-packages (from category_encoders) (1.0.5)\n",
            "Requirement already satisfied: numpy>=1.14.0 in /usr/local/lib/python3.6/dist-packages (from category_encoders) (1.18.5)\n",
            "Requirement already satisfied: six in /usr/local/lib/python3.6/dist-packages (from patsy>=0.5.1->category_encoders) (1.12.0)\n",
            "Requirement already satisfied: joblib>=0.11 in /usr/local/lib/python3.6/dist-packages (from scikit-learn>=0.20.0->category_encoders) (0.15.1)\n",
            "Requirement already satisfied: pytz>=2017.2 in /usr/local/lib/python3.6/dist-packages (from pandas>=0.21.1->category_encoders) (2018.9)\n",
            "Requirement already satisfied: python-dateutil>=2.6.1 in /usr/local/lib/python3.6/dist-packages (from pandas>=0.21.1->category_encoders) (2.8.1)\n"
          ],
          "name": "stdout"
        },
        {
          "output_type": "stream",
          "text": [
            "/usr/local/lib/python3.6/dist-packages/japanize_matplotlib/japanize_matplotlib.py:15: MatplotlibDeprecationWarning: \n",
            "The createFontList function was deprecated in Matplotlib 3.2 and will be removed two minor releases later. Use FontManager.addfont instead.\n",
            "  font_list = font_manager.createFontList(font_files)\n"
          ],
          "name": "stderr"
        }
      ]
    },
    {
      "cell_type": "code",
      "metadata": {
        "id": "Mr2Pj73q69xp",
        "colab_type": "code",
        "colab": {}
      },
      "source": [
        "gc = gspread.authorize(GoogleCredentials.get_application_default())"
      ],
      "execution_count": 2,
      "outputs": []
    },
    {
      "cell_type": "code",
      "metadata": {
        "id": "eIMlXaj-7GOe",
        "colab_type": "code",
        "colab": {}
      },
      "source": [
        "singatecasefilelink='https://docs.google.com/spreadsheets/d/1VLSA8q2zPCbaTDXXcMsxK0HRZlFRVH7_x0rLd4Z7Jk8/edit#gid=960903158'\n",
        "book = gc.open_by_url(singatecasefilelink)\n",
        "casedata = book.worksheet('罹患者').get_all_values()\n",
        "casedf = pd.DataFrame(casedata)"
      ],
      "execution_count": 3,
      "outputs": []
    },
    {
      "cell_type": "code",
      "metadata": {
        "id": "3cJajGPe7Vdt",
        "colab_type": "code",
        "colab": {
          "base_uri": "https://localhost:8080/",
          "height": 527
        },
        "outputId": "1335c8a0-e149-4938-975c-1c4739174fd9"
      },
      "source": [
        "#データフレームを整理していく\n",
        "area_dict = dict(zip(casedf.index, casedf.iloc[0]))\n",
        "renamed_df = casedf.rename(columns=area_dict)\n",
        "df = renamed_df.drop(0)\n",
        "df =df.drop_duplicates()\n",
        "df.drop(df.index[-1]).tail()"
      ],
      "execution_count": 4,
      "outputs": [
        {
          "output_type": "execute_result",
          "data": {
            "text/html": [
              "<div>\n",
              "<style scoped>\n",
              "    .dataframe tbody tr th:only-of-type {\n",
              "        vertical-align: middle;\n",
              "    }\n",
              "\n",
              "    .dataframe tbody tr th {\n",
              "        vertical-align: top;\n",
              "    }\n",
              "\n",
              "    .dataframe thead th {\n",
              "        text-align: right;\n",
              "    }\n",
              "</style>\n",
              "<table border=\"1\" class=\"dataframe\">\n",
              "  <thead>\n",
              "    <tr style=\"text-align: right;\">\n",
              "      <th></th>\n",
              "      <th>都道府県コード</th>\n",
              "      <th>症例番号</th>\n",
              "      <th>都道府県症例番号</th>\n",
              "      <th>発症日</th>\n",
              "      <th>確定日</th>\n",
              "      <th>公表日</th>\n",
              "      <th>受診都道府県</th>\n",
              "      <th>居住都道府県</th>\n",
              "      <th>居住市区町村</th>\n",
              "      <th>年代</th>\n",
              "      <th>性別</th>\n",
              "      <th>職業</th>\n",
              "      <th>ステータス</th>\n",
              "      <th>退院済ﾌﾗｸﾞ</th>\n",
              "      <th>基礎疾患ﾌﾗｸﾞ</th>\n",
              "      <th>症状・経過</th>\n",
              "      <th>症状一覧</th>\n",
              "      <th>行動歴</th>\n",
              "      <th>濃厚接触者状況</th>\n",
              "      <th>濃厚接触場所</th>\n",
              "      <th>海外渡航歴ﾌﾗｸﾞ</th>\n",
              "      <th>ﾀﾞｲﾔﾓﾝﾄﾞﾌﾟﾘﾝｾｽ号乗船ﾌﾗｸﾞ</th>\n",
              "      <th>情報源</th>\n",
              "      <th>備考</th>\n",
              "      <th>罹患者関係_記入済ﾌﾗｸﾞ</th>\n",
              "      <th>罹患者トランザクション_記入済ﾌﾗｸﾞ</th>\n",
              "      <th>Relation1</th>\n",
              "      <th>Relation2</th>\n",
              "      <th>Transaction</th>\n",
              "    </tr>\n",
              "  </thead>\n",
              "  <tbody>\n",
              "    <tr>\n",
              "      <th>16156</th>\n",
              "      <td>50</td>\n",
              "      <td>1</td>\n",
              "      <td>50-1</td>\n",
              "      <td></td>\n",
              "      <td></td>\n",
              "      <td></td>\n",
              "      <td>中部国際空港</td>\n",
              "      <td></td>\n",
              "      <td></td>\n",
              "      <td></td>\n",
              "      <td></td>\n",
              "      <td></td>\n",
              "      <td></td>\n",
              "      <td></td>\n",
              "      <td></td>\n",
              "      <td></td>\n",
              "      <td></td>\n",
              "      <td></td>\n",
              "      <td></td>\n",
              "      <td></td>\n",
              "      <td></td>\n",
              "      <td></td>\n",
              "      <td></td>\n",
              "      <td></td>\n",
              "      <td>0</td>\n",
              "      <td>0</td>\n",
              "      <td></td>\n",
              "      <td></td>\n",
              "      <td></td>\n",
              "    </tr>\n",
              "    <tr>\n",
              "      <th>16157</th>\n",
              "      <td>51</td>\n",
              "      <td>27</td>\n",
              "      <td>51-27</td>\n",
              "      <td></td>\n",
              "      <td>2020/03/27</td>\n",
              "      <td></td>\n",
              "      <td>関西国際空港</td>\n",
              "      <td>不明</td>\n",
              "      <td></td>\n",
              "      <td>20 - 29</td>\n",
              "      <td>男性</td>\n",
              "      <td></td>\n",
              "      <td>無症状</td>\n",
              "      <td>0</td>\n",
              "      <td></td>\n",
              "      <td></td>\n",
              "      <td></td>\n",
              "      <td></td>\n",
              "      <td></td>\n",
              "      <td></td>\n",
              "      <td></td>\n",
              "      <td></td>\n",
              "      <td>https://www.mhlw.go.jp/stf/newpage_10539.html</td>\n",
              "      <td></td>\n",
              "      <td>0</td>\n",
              "      <td>0</td>\n",
              "      <td></td>\n",
              "      <td></td>\n",
              "      <td></td>\n",
              "    </tr>\n",
              "    <tr>\n",
              "      <th>16158</th>\n",
              "      <td>51</td>\n",
              "      <td>28</td>\n",
              "      <td>51-28</td>\n",
              "      <td></td>\n",
              "      <td>2020/03/27</td>\n",
              "      <td></td>\n",
              "      <td>関西国際空港</td>\n",
              "      <td>兵庫県</td>\n",
              "      <td></td>\n",
              "      <td>非公表</td>\n",
              "      <td>男性</td>\n",
              "      <td></td>\n",
              "      <td>無症状</td>\n",
              "      <td>0</td>\n",
              "      <td></td>\n",
              "      <td></td>\n",
              "      <td></td>\n",
              "      <td></td>\n",
              "      <td></td>\n",
              "      <td></td>\n",
              "      <td></td>\n",
              "      <td></td>\n",
              "      <td>https://www.mhlw.go.jp/stf/newpage_10539.html</td>\n",
              "      <td></td>\n",
              "      <td>0</td>\n",
              "      <td>0</td>\n",
              "      <td></td>\n",
              "      <td></td>\n",
              "      <td></td>\n",
              "    </tr>\n",
              "    <tr>\n",
              "      <th>16159</th>\n",
              "      <td>51</td>\n",
              "      <td>52</td>\n",
              "      <td>51-52</td>\n",
              "      <td></td>\n",
              "      <td>2020/03/30</td>\n",
              "      <td></td>\n",
              "      <td>関西国際空港</td>\n",
              "      <td>不明</td>\n",
              "      <td></td>\n",
              "      <td>30 - 39</td>\n",
              "      <td>男性</td>\n",
              "      <td></td>\n",
              "      <td>無症状</td>\n",
              "      <td>0</td>\n",
              "      <td></td>\n",
              "      <td></td>\n",
              "      <td></td>\n",
              "      <td></td>\n",
              "      <td></td>\n",
              "      <td></td>\n",
              "      <td></td>\n",
              "      <td></td>\n",
              "      <td>https://www.mhlw.go.jp/stf/newpage_10638.html</td>\n",
              "      <td>3/29ドイツから帰国</td>\n",
              "      <td>0</td>\n",
              "      <td>0</td>\n",
              "      <td></td>\n",
              "      <td></td>\n",
              "      <td></td>\n",
              "    </tr>\n",
              "    <tr>\n",
              "      <th>16160</th>\n",
              "      <td>51</td>\n",
              "      <td>53</td>\n",
              "      <td>51-53</td>\n",
              "      <td></td>\n",
              "      <td>2020/03/30</td>\n",
              "      <td></td>\n",
              "      <td>関西国際空港</td>\n",
              "      <td>不明</td>\n",
              "      <td></td>\n",
              "      <td>40 - 49</td>\n",
              "      <td>男性</td>\n",
              "      <td></td>\n",
              "      <td>無症状</td>\n",
              "      <td>0</td>\n",
              "      <td></td>\n",
              "      <td></td>\n",
              "      <td></td>\n",
              "      <td></td>\n",
              "      <td></td>\n",
              "      <td></td>\n",
              "      <td></td>\n",
              "      <td></td>\n",
              "      <td>https://www.mhlw.go.jp/stf/newpage_10638.html</td>\n",
              "      <td>3/29オランダから帰国</td>\n",
              "      <td>0</td>\n",
              "      <td>0</td>\n",
              "      <td></td>\n",
              "      <td></td>\n",
              "      <td></td>\n",
              "    </tr>\n",
              "  </tbody>\n",
              "</table>\n",
              "</div>"
            ],
            "text/plain": [
              "      都道府県コード 症例番号 都道府県症例番号  ... Relation1 Relation2 Transaction\n",
              "16156      50    1     50-1  ...                                \n",
              "16157      51   27    51-27  ...                                \n",
              "16158      51   28    51-28  ...                                \n",
              "16159      51   52    51-52  ...                                \n",
              "16160      51   53    51-53  ...                                \n",
              "\n",
              "[5 rows x 29 columns]"
            ]
          },
          "metadata": {
            "tags": []
          },
          "execution_count": 4
        }
      ]
    },
    {
      "cell_type": "markdown",
      "metadata": {
        "id": "m7Y4Y7zARRJ8",
        "colab_type": "text"
      },
      "source": [
        "# データの確認"
      ]
    },
    {
      "cell_type": "code",
      "metadata": {
        "id": "VC8p_XOR9tpy",
        "colab_type": "code",
        "colab": {
          "base_uri": "https://localhost:8080/",
          "height": 0
        },
        "outputId": "93c92074-866a-4462-b4a9-50d009f7a42b"
      },
      "source": [
        "df.describe()"
      ],
      "execution_count": 5,
      "outputs": [
        {
          "output_type": "execute_result",
          "data": {
            "text/html": [
              "<div>\n",
              "<style scoped>\n",
              "    .dataframe tbody tr th:only-of-type {\n",
              "        vertical-align: middle;\n",
              "    }\n",
              "\n",
              "    .dataframe tbody tr th {\n",
              "        vertical-align: top;\n",
              "    }\n",
              "\n",
              "    .dataframe thead th {\n",
              "        text-align: right;\n",
              "    }\n",
              "</style>\n",
              "<table border=\"1\" class=\"dataframe\">\n",
              "  <thead>\n",
              "    <tr style=\"text-align: right;\">\n",
              "      <th></th>\n",
              "      <th>都道府県コード</th>\n",
              "      <th>症例番号</th>\n",
              "      <th>都道府県症例番号</th>\n",
              "      <th>発症日</th>\n",
              "      <th>確定日</th>\n",
              "      <th>公表日</th>\n",
              "      <th>受診都道府県</th>\n",
              "      <th>居住都道府県</th>\n",
              "      <th>居住市区町村</th>\n",
              "      <th>年代</th>\n",
              "      <th>性別</th>\n",
              "      <th>職業</th>\n",
              "      <th>ステータス</th>\n",
              "      <th>退院済ﾌﾗｸﾞ</th>\n",
              "      <th>基礎疾患ﾌﾗｸﾞ</th>\n",
              "      <th>症状・経過</th>\n",
              "      <th>症状一覧</th>\n",
              "      <th>行動歴</th>\n",
              "      <th>濃厚接触者状況</th>\n",
              "      <th>濃厚接触場所</th>\n",
              "      <th>海外渡航歴ﾌﾗｸﾞ</th>\n",
              "      <th>ﾀﾞｲﾔﾓﾝﾄﾞﾌﾟﾘﾝｾｽ号乗船ﾌﾗｸﾞ</th>\n",
              "      <th>情報源</th>\n",
              "      <th>備考</th>\n",
              "      <th>罹患者関係_記入済ﾌﾗｸﾞ</th>\n",
              "      <th>罹患者トランザクション_記入済ﾌﾗｸﾞ</th>\n",
              "      <th>Relation1</th>\n",
              "      <th>Relation2</th>\n",
              "      <th>Transaction</th>\n",
              "    </tr>\n",
              "  </thead>\n",
              "  <tbody>\n",
              "    <tr>\n",
              "      <th>count</th>\n",
              "      <td>16161</td>\n",
              "      <td>16161</td>\n",
              "      <td>16161</td>\n",
              "      <td>16161</td>\n",
              "      <td>16161</td>\n",
              "      <td>16161</td>\n",
              "      <td>16161</td>\n",
              "      <td>16161</td>\n",
              "      <td>16161</td>\n",
              "      <td>16161</td>\n",
              "      <td>16161</td>\n",
              "      <td>16161</td>\n",
              "      <td>16161</td>\n",
              "      <td>16161</td>\n",
              "      <td>16161</td>\n",
              "      <td>16161</td>\n",
              "      <td>16161</td>\n",
              "      <td>16161</td>\n",
              "      <td>16161</td>\n",
              "      <td>16161</td>\n",
              "      <td>16161</td>\n",
              "      <td>16161</td>\n",
              "      <td>16161</td>\n",
              "      <td>16161</td>\n",
              "      <td>16161</td>\n",
              "      <td>16161</td>\n",
              "      <td>16161</td>\n",
              "      <td>16161</td>\n",
              "      <td>16161</td>\n",
              "    </tr>\n",
              "    <tr>\n",
              "      <th>unique</th>\n",
              "      <td>51</td>\n",
              "      <td>5175</td>\n",
              "      <td>16158</td>\n",
              "      <td>218</td>\n",
              "      <td>176</td>\n",
              "      <td>178</td>\n",
              "      <td>51</td>\n",
              "      <td>73</td>\n",
              "      <td>791</td>\n",
              "      <td>12</td>\n",
              "      <td>6</td>\n",
              "      <td>121</td>\n",
              "      <td>8</td>\n",
              "      <td>6</td>\n",
              "      <td>6</td>\n",
              "      <td>5995</td>\n",
              "      <td>1812</td>\n",
              "      <td>2907</td>\n",
              "      <td>3984</td>\n",
              "      <td>226</td>\n",
              "      <td>9</td>\n",
              "      <td>4</td>\n",
              "      <td>3232</td>\n",
              "      <td>1336</td>\n",
              "      <td>2</td>\n",
              "      <td>2</td>\n",
              "      <td>1792</td>\n",
              "      <td>3141</td>\n",
              "      <td>229</td>\n",
              "    </tr>\n",
              "    <tr>\n",
              "      <th>top</th>\n",
              "      <td>13</td>\n",
              "      <td>1</td>\n",
              "      <td>44-40</td>\n",
              "      <td>非公表</td>\n",
              "      <td></td>\n",
              "      <td>2020/04/11</td>\n",
              "      <td>東京都</td>\n",
              "      <td>東京都</td>\n",
              "      <td></td>\n",
              "      <td>50 - 59</td>\n",
              "      <td>男性</td>\n",
              "      <td></td>\n",
              "      <td></td>\n",
              "      <td></td>\n",
              "      <td></td>\n",
              "      <td></td>\n",
              "      <td></td>\n",
              "      <td></td>\n",
              "      <td></td>\n",
              "      <td></td>\n",
              "      <td></td>\n",
              "      <td></td>\n",
              "      <td></td>\n",
              "      <td></td>\n",
              "      <td>0</td>\n",
              "      <td>0</td>\n",
              "      <td></td>\n",
              "      <td></td>\n",
              "      <td></td>\n",
              "    </tr>\n",
              "    <tr>\n",
              "      <th>freq</th>\n",
              "      <td>5162</td>\n",
              "      <td>47</td>\n",
              "      <td>2</td>\n",
              "      <td>5205</td>\n",
              "      <td>4784</td>\n",
              "      <td>674</td>\n",
              "      <td>5162</td>\n",
              "      <td>3836</td>\n",
              "      <td>4638</td>\n",
              "      <td>2636</td>\n",
              "      <td>8682</td>\n",
              "      <td>6541</td>\n",
              "      <td>9412</td>\n",
              "      <td>8836</td>\n",
              "      <td>11928</td>\n",
              "      <td>8179</td>\n",
              "      <td>10814</td>\n",
              "      <td>9974</td>\n",
              "      <td>8403</td>\n",
              "      <td>12728</td>\n",
              "      <td>10125</td>\n",
              "      <td>10885</td>\n",
              "      <td>4091</td>\n",
              "      <td>12960</td>\n",
              "      <td>11874</td>\n",
              "      <td>15934</td>\n",
              "      <td>12368</td>\n",
              "      <td>12369</td>\n",
              "      <td>13890</td>\n",
              "    </tr>\n",
              "  </tbody>\n",
              "</table>\n",
              "</div>"
            ],
            "text/plain": [
              "       都道府県コード   症例番号 都道府県症例番号  ... Relation1 Relation2 Transaction\n",
              "count    16161  16161    16161  ...     16161     16161       16161\n",
              "unique      51   5175    16158  ...      1792      3141         229\n",
              "top         13      1    44-40  ...                                \n",
              "freq      5162     47        2  ...     12368     12369       13890\n",
              "\n",
              "[4 rows x 29 columns]"
            ]
          },
          "metadata": {
            "tags": []
          },
          "execution_count": 5
        }
      ]
    },
    {
      "cell_type": "code",
      "metadata": {
        "id": "F2za_CKB-_Ny",
        "colab_type": "code",
        "colab": {
          "base_uri": "https://localhost:8080/",
          "height": 0
        },
        "outputId": "5c58ece3-a05a-4411-fe1d-7d898ff40309"
      },
      "source": [
        "# nullの値があるかどうか確認\n",
        "df.isnull().sum()"
      ],
      "execution_count": 6,
      "outputs": [
        {
          "output_type": "execute_result",
          "data": {
            "text/plain": [
              "都道府県コード                  0\n",
              "症例番号                     0\n",
              "都道府県症例番号                 0\n",
              "発症日                      0\n",
              "確定日                      0\n",
              "公表日                      0\n",
              "受診都道府県                   0\n",
              "居住都道府県                   0\n",
              "居住市区町村                   0\n",
              "年代                       0\n",
              "性別                       0\n",
              "職業                       0\n",
              "ステータス                    0\n",
              "退院済ﾌﾗｸﾞ                  0\n",
              "基礎疾患ﾌﾗｸﾞ                 0\n",
              "症状・経過                    0\n",
              "症状一覧                     0\n",
              "行動歴                      0\n",
              "濃厚接触者状況                  0\n",
              "濃厚接触場所                   0\n",
              "海外渡航歴ﾌﾗｸﾞ                0\n",
              "ﾀﾞｲﾔﾓﾝﾄﾞﾌﾟﾘﾝｾｽ号乗船ﾌﾗｸﾞ    0\n",
              "情報源                      0\n",
              "備考                       0\n",
              "罹患者関係_記入済ﾌﾗｸﾞ            0\n",
              "罹患者トランザクション_記入済ﾌﾗｸﾞ      0\n",
              "Relation1                0\n",
              "Relation2                0\n",
              "Transaction              0\n",
              "dtype: int64"
            ]
          },
          "metadata": {
            "tags": []
          },
          "execution_count": 6
        }
      ]
    },
    {
      "cell_type": "code",
      "metadata": {
        "id": "x1YNe_MvdJEe",
        "colab_type": "code",
        "colab": {
          "base_uri": "https://localhost:8080/",
          "height": 0
        },
        "outputId": "2729fc8b-681e-494b-d6c2-acea97cd63cf"
      },
      "source": [
        "# naの値があるかどうか確認\n",
        "df.isna().sum()"
      ],
      "execution_count": 7,
      "outputs": [
        {
          "output_type": "execute_result",
          "data": {
            "text/plain": [
              "都道府県コード                  0\n",
              "症例番号                     0\n",
              "都道府県症例番号                 0\n",
              "発症日                      0\n",
              "確定日                      0\n",
              "公表日                      0\n",
              "受診都道府県                   0\n",
              "居住都道府県                   0\n",
              "居住市区町村                   0\n",
              "年代                       0\n",
              "性別                       0\n",
              "職業                       0\n",
              "ステータス                    0\n",
              "退院済ﾌﾗｸﾞ                  0\n",
              "基礎疾患ﾌﾗｸﾞ                 0\n",
              "症状・経過                    0\n",
              "症状一覧                     0\n",
              "行動歴                      0\n",
              "濃厚接触者状況                  0\n",
              "濃厚接触場所                   0\n",
              "海外渡航歴ﾌﾗｸﾞ                0\n",
              "ﾀﾞｲﾔﾓﾝﾄﾞﾌﾟﾘﾝｾｽ号乗船ﾌﾗｸﾞ    0\n",
              "情報源                      0\n",
              "備考                       0\n",
              "罹患者関係_記入済ﾌﾗｸﾞ            0\n",
              "罹患者トランザクション_記入済ﾌﾗｸﾞ      0\n",
              "Relation1                0\n",
              "Relation2                0\n",
              "Transaction              0\n",
              "dtype: int64"
            ]
          },
          "metadata": {
            "tags": []
          },
          "execution_count": 7
        }
      ]
    },
    {
      "cell_type": "markdown",
      "metadata": {
        "id": "_gXVTLelRbEO",
        "colab_type": "text"
      },
      "source": [
        "# データクリーニング\n"
      ]
    },
    {
      "cell_type": "code",
      "metadata": {
        "id": "uzIOpZYtpe5j",
        "colab_type": "code",
        "colab": {}
      },
      "source": [
        "#性別でのデータクリーニングを行う\n",
        "df = df[(df['性別'] == \"男性\") | (df['性別'] == '女性')]\n",
        "#年代でのデータクリーニングを行う\n",
        "df = df[(df['年代'] != \"51 - 59\") & (df['年代'] != '非公表') & (df['年代'] != '')]\n",
        "#海外渡航歴でのデータクリーニングを行う\n",
        "df[\"海外渡航歴ﾌﾗｸﾞ\"] = df[\"海外渡航歴ﾌﾗｸﾞ\"].str.replace(\"非公表\", \"\").str.replace(\"１\", \"1\").str.replace(\"０\", \"0\").str.replace(\"他自治体で調査中\", \"\").str.replace(\"千葉県で調査中\", \"\").str.replace(\"不明\", \"\")\n",
        "#ﾀﾞｲﾔﾓﾝﾄﾞﾌﾟﾘﾝｾｽ号乗船ﾌﾗｸﾞでのデータクリーニングを行う\n",
        "df[\"ﾀﾞｲﾔﾓﾝﾄﾞﾌﾟﾘﾝｾｽ号乗船ﾌﾗｸﾞ\"] = df[\"ﾀﾞｲﾔﾓﾝﾄﾞﾌﾟﾘﾝｾｽ号乗船ﾌﾗｸﾞ\"].str.replace(\"非公表\", \"\").str.replace(\"１\", \"1\")"
      ],
      "execution_count": 8,
      "outputs": []
    },
    {
      "cell_type": "code",
      "metadata": {
        "id": "IssxXoW25edA",
        "colab_type": "code",
        "colab": {
          "base_uri": "https://localhost:8080/",
          "height": 0
        },
        "outputId": "7c8748bc-2c82-49f6-b472-ecaf56d0753c"
      },
      "source": [
        "for column_name, item in df.iteritems():\n",
        "    print(column_name, type(column_name))\n",
        "    print(df[column_name].value_counts())\n",
        "    print('========================\\n')"
      ],
      "execution_count": 9,
      "outputs": [
        {
          "output_type": "stream",
          "text": [
            "都道府県コード <class 'str'>\n",
            "13    5143\n",
            "27    1778\n",
            "14    1282\n",
            "11     998\n",
            "1      982\n",
            "12     753\n",
            "28     698\n",
            "40     665\n",
            "23     508\n",
            "26     351\n",
            "17     293\n",
            "16     212\n",
            "8      168\n",
            "21     151\n",
            "10     149\n",
            "34     147\n",
            "47     142\n",
            "18     122\n",
            "4       88\n",
            "15      82\n",
            "25      82\n",
            "7       81\n",
            "38      79\n",
            "39      74\n",
            "29      74\n",
            "6       66\n",
            "9       55\n",
            "30      54\n",
            "20      53\n",
            "22      49\n",
            "44      49\n",
            "19      48\n",
            "43      47\n",
            "41      45\n",
            "24      45\n",
            "37      28\n",
            "2       27\n",
            "32      24\n",
            "35      21\n",
            "49      19\n",
            "42      17\n",
            "5       16\n",
            "45      16\n",
            "33      14\n",
            "48       8\n",
            "46       6\n",
            "36       5\n",
            "51       3\n",
            "31       3\n",
            "Name: 都道府県コード, dtype: int64\n",
            "========================\n",
            "\n",
            "症例番号 <class 'str'>\n",
            "1        46\n",
            "2        45\n",
            "6        44\n",
            "3        44\n",
            "4        44\n",
            "         ..\n",
            "2594      1\n",
            "a0101     1\n",
            "3574      1\n",
            "4496      1\n",
            "1834      1\n",
            "Name: 症例番号, Length: 5159, dtype: int64\n",
            "========================\n",
            "\n",
            "都道府県症例番号 <class 'str'>\n",
            "44-40      2\n",
            "21-150     2\n",
            "12-621     2\n",
            "12-566     1\n",
            "11-698     1\n",
            "          ..\n",
            "11-100     1\n",
            "16-157     1\n",
            "1-291      1\n",
            "14-1003    1\n",
            "13-4503    1\n",
            "Name: 都道府県症例番号, Length: 15817, dtype: int64\n",
            "========================\n",
            "\n",
            "発症日 <class 'str'>\n",
            "非公表           5101\n",
            "              1797\n",
            "2020/04/01     364\n",
            "2020/04/03     344\n",
            "2020/04/06     323\n",
            "              ... \n",
            "2020/5/15        1\n",
            "2020-04-06       1\n",
            "2020-05-15       1\n",
            "2020-03-24       1\n",
            "2020/5/4         1\n",
            "Name: 発症日, Length: 218, dtype: int64\n",
            "========================\n",
            "\n",
            "確定日 <class 'str'>\n",
            "              4618\n",
            "非公表           1339\n",
            "2020/04/09     425\n",
            "2020/04/11     416\n",
            "2020/04/07     410\n",
            "              ... \n",
            "2020/5/15        1\n",
            "2020/01/26       1\n",
            "2020/5/22        1\n",
            "2020/01/24       1\n",
            "2020-05-21       1\n",
            "Name: 確定日, Length: 175, dtype: int64\n",
            "========================\n",
            "\n",
            "公表日 <class 'str'>\n",
            "2020/04/11    670\n",
            "2020/04/10    639\n",
            "2020/04/09    564\n",
            "2020/04/17    558\n",
            "2020/04/18    549\n",
            "             ... \n",
            "2020/05/30      1\n",
            "2020/01/26      1\n",
            "2020/5/15       1\n",
            "2020/01/24      1\n",
            "2020/5/16       1\n",
            "Name: 公表日, Length: 176, dtype: int64\n",
            "========================\n",
            "\n",
            "受診都道府県 <class 'str'>\n",
            "東京都       5143\n",
            "大阪府       1778\n",
            "神奈川県      1282\n",
            "埼玉県        998\n",
            "北海道        981\n",
            "千葉県        753\n",
            "兵庫県        698\n",
            "福岡県        665\n",
            "愛知県        508\n",
            "京都府        351\n",
            "石川県        293\n",
            "富山県        212\n",
            "茨城県        168\n",
            "岐阜県        151\n",
            "群馬県        149\n",
            "広島県        147\n",
            "沖縄県        142\n",
            "福井県        122\n",
            "宮城県         88\n",
            "新潟県         82\n",
            "滋賀県         82\n",
            "福島県         81\n",
            "愛媛県         79\n",
            "奈良県         74\n",
            "高知県         74\n",
            "山形県         66\n",
            "栃木県         55\n",
            "和歌山県        54\n",
            "長野県         53\n",
            "静岡県         50\n",
            "大分県         49\n",
            "山梨県         48\n",
            "熊本県         47\n",
            "三重県         45\n",
            "佐賀県         45\n",
            "香川県         28\n",
            "青森県         27\n",
            "島根県         24\n",
            "山口県         21\n",
            "羽田空港        19\n",
            "長崎県         17\n",
            "宮崎県         16\n",
            "秋田県         16\n",
            "岡山県         14\n",
            "成田空港         8\n",
            "鹿児島県         6\n",
            "徳島県          5\n",
            "鳥取県          3\n",
            "関西国際空港       3\n",
            "Name: 受診都道府県, dtype: int64\n",
            "========================\n",
            "\n",
            "居住都道府県 <class 'str'>\n",
            "東京都     3827\n",
            "大阪府     1720\n",
            "神奈川県    1242\n",
            "        1177\n",
            "北海道      976\n",
            "        ... \n",
            "京都符        1\n",
            "アメリカ       1\n",
            "京都府外       1\n",
            "外国         1\n",
            "スペイン       1\n",
            "Name: 居住都道府県, Length: 73, dtype: int64\n",
            "========================\n",
            "\n",
            "居住市区町村 <class 'str'>\n",
            "              4466\n",
            "大阪市            740\n",
            "札幌市            581\n",
            "非公表            575\n",
            "横浜市            467\n",
            "              ... \n",
            "三原市              1\n",
            "虻田郡倶知安町          1\n",
            "菊川市              1\n",
            "上川総合振興局管内        1\n",
            "中央市              1\n",
            "Name: 居住市区町村, Length: 785, dtype: int64\n",
            "========================\n",
            "\n",
            "年代 <class 'str'>\n",
            "50 - 59    2632\n",
            "20 - 29    2589\n",
            "40 - 49    2536\n",
            "30 - 39    2378\n",
            "60 - 69    1797\n",
            "70 - 79    1591\n",
            "80 - 89    1154\n",
            "90 -        522\n",
            "10 - 19     374\n",
            "0 - 9       247\n",
            "Name: 年代, dtype: int64\n",
            "========================\n",
            "\n",
            "性別 <class 'str'>\n",
            "男性    8649\n",
            "女性    7171\n",
            "Name: 性別, dtype: int64\n",
            "========================\n",
            "\n",
            "職業 <class 'str'>\n",
            "             6354\n",
            "会社員          2655\n",
            "無職           2017\n",
            "非公表          1316\n",
            "自営業           476\n",
            "             ... \n",
            "飲食業:アルバイト       1\n",
            "学校:専門学校         1\n",
            "会社役員            1\n",
            "芸能人             1\n",
            "医療関係者           1\n",
            "Name: 職業, Length: 121, dtype: int64\n",
            "========================\n",
            "\n",
            "ステータス <class 'str'>\n",
            "       9207\n",
            "軽症     4240\n",
            "無症状     882\n",
            "非公表     833\n",
            "中等症     343\n",
            "重症      157\n",
            "死亡      155\n",
            "調査中       3\n",
            "Name: ステータス, dtype: int64\n",
            "========================\n",
            "\n",
            "退院済ﾌﾗｸﾞ <class 'str'>\n",
            "       8608\n",
            "0      4619\n",
            "1      1538\n",
            "非公表     983\n",
            "2        55\n",
            "１        17\n",
            "Name: 退院済ﾌﾗｸﾞ, dtype: int64\n",
            "========================\n",
            "\n",
            "基礎疾患ﾌﾗｸﾞ <class 'str'>\n",
            "            11672\n",
            "0            2257\n",
            "非公表          1529\n",
            "1             360\n",
            "１               1\n",
            "他自治体で調査中        1\n",
            "Name: 基礎疾患ﾌﾗｸﾞ, dtype: int64\n",
            "========================\n",
            "\n",
            "症状・経過 <class 'str'>\n",
            "                                                                                                                                                                                               7981\n",
            "非公表                                                                                                                                                                                            1205\n",
            "発熱                                                                                                                                                                                               54\n",
            "発熱、咳                                                                                                                                                                                             47\n",
            "症状なし                                                                                                                                                                                             33\n",
            "                                                                                                                                                                                               ... \n",
            "咳、口渇感、倦怠感、発熱（37.2℃）、 肺炎像あり                                                                                                                                                                        1\n",
            "３月２５日倦怠感\\n３月２８日発熱３月３０日市内A医療機関を受診、胸部エックス線検査で異常なし\\n４月１日咳と呼吸困難を認め、市内B医療機関を受診胸部エックス線検査で異常なし\\n４月２日帰国者・接触者外来を受診し、ＰＣＲ検査を実施\\n４月３日ＰＣＲ検査の結果が陽性であることが判明。入院調整中                                                1\n",
            "４月 ４日 発熱（37.4℃）、鼻汁が出現。\\n ４月 ６日 医療機関Ｅを受診。\\n ４月 ８日 再度、医療機関Ｅを受診。夜、発熱（39.0℃）。\\n ４月 ９日 再度、医療機関Ｅを受診。胸部Ｘ線により肺炎像が認めら\\n れたため、医療機関Ｅが帰国者・接触者相談センターに相談。医療機関Ｆ\\nを紹介され受診。検体採取。\\n ４月１０日 検査の結果、陽性と判明。              1\n",
            "2月27日 発熱\\n2月28日 医療機関J''を受診、発熱は継続\\n3月2日  医療機関J''を再診、肺炎像無し、発熱は継続\\n3月5日  医療機関J''を再診、肺炎像無し、発熱は継続\\n3月7日  医療機関K''を受診、発熱は継続、検体採取。札幌市衛生研究所に検体持ち込み、検査開始\\n3月8日  同研究所にて陽性が判明\\n3月9日  医療機関L''に入院(軽症、会話可)       1\n",
            "4 月 6 日 発熱等の症状はないが、入院先（恵信甲府病院）において、\\n 入院患者を対象に行った PCR 検査の結果が陽性であることが判明。\\n 4 月 7 日 県内の感染症指定医療機関に入院。                                                                                                1\n",
            "Name: 症状・経過, Length: 5918, dtype: int64\n",
            "========================\n",
            "\n",
            "症状一覧 <class 'str'>\n",
            "                    10584\n",
            "非公表                  1139\n",
            "発熱                    575\n",
            "発熱;咳                  185\n",
            "無し                    120\n",
            "                    ...  \n",
            "発熱、咳、鼻汁、咽頭痛、頭痛          1\n",
            "咳、痰                     1\n",
            "発熱，咳，痰，筋肉 痛             1\n",
            "37.6度;頭痛;鼻汁;くしゃみ        1\n",
            "咽頭痛;発熱;咳;頭痛;痰           1\n",
            "Name: 症状一覧, Length: 1794, dtype: int64\n",
            "========================\n",
            "\n",
            "行動歴 <class 'str'>\n",
            "                                                                          9735\n",
            "非公表                                                                       1385\n",
            "調査中                                                                        166\n",
            "自宅、医療機関                                                                    154\n",
            "発症後は自宅待機                                                                   105\n",
            "                                                                          ... \n",
            "3月20日～22日に東京滞在歴あり\\n2020/04/01 出勤（発症後）\\n2020/04/02 出勤（発症後）                    1\n",
            "3/30~3/31 会社員\\n4/2~4/3 出勤\\n4/5~4/6 出勤、医療機関受診\\n4/8~4/9 出勤\\n4/11~4/12 出勤       1\n",
            "3月25日まで勤務(公共交通機関利用)。3月26日以降は自宅。                                              1\n",
            "患者情報①(id: 14-187)の御家族                                                        1\n",
            "終日マスクを着用\\n４月１日～９日 園長と事務長及び保育士数名が保育園において園内の消毒及び電話対応を行っていた                     1\n",
            "Name: 行動歴, Length: 2873, dtype: int64\n",
            "========================\n",
            "\n",
            "濃厚接触者状況 <class 'str'>\n",
            "                                                                                                                                        8171\n",
            "非公表                                                                                                                                      784\n",
            "-                                                                                                                                        417\n",
            "調査中                                                                                                                                      192\n",
            "行動歴調査中                                                                                                                                    83\n",
            "                                                                                                                                        ... \n",
            "すでに判明している濃厚接触者に加え、新たに1人の濃厚接触者を確認しました。\\n\\nすでに判明している濃厚接触者\\n患者の家族であり、クルーズ船「ダイヤモンド・プリンセス号」に乗船していた健康フォローアップ対象者の1人\\n新たに判明した濃厚接触者\\n感染者の家族1人       1\n",
            "明石市立市民病院に勤務する看護師                                                                                                                           1\n",
            "560 同居家族                                                                                                                                   1\n",
            "患者12-390接触                                                                                                                                 1\n",
            " 同居の家族 4 名については、症状はなく、PCR 検査実施予定。                                                                                                          1\n",
            "Name: 濃厚接触者状況, Length: 3955, dtype: int64\n",
            "========================\n",
            "\n",
            "濃厚接触場所 <class 'str'>\n",
            "                   12467\n",
            "非公表                 1844\n",
            "グリーンアルス関係             66\n",
            "国立病院機構北海道がんセンター       56\n",
            "第二警察病院関連              47\n",
            "                   ...  \n",
            "スポーツ施設                 1\n",
            "感染者168の同居者             1\n",
            "id39-59の自宅             1\n",
            "No.14-2の濃厚接触者          1\n",
            "老人保健介護施設関連             1\n",
            "Name: 濃厚接触場所, Length: 222, dtype: int64\n",
            "========================\n",
            "\n",
            "海外渡航歴ﾌﾗｸﾞ <class 'str'>\n",
            "     10548\n",
            "0     4951\n",
            "1      321\n",
            "Name: 海外渡航歴ﾌﾗｸﾞ, dtype: int64\n",
            "========================\n",
            "\n",
            "ﾀﾞｲﾔﾓﾝﾄﾞﾌﾟﾘﾝｾｽ号乗船ﾌﾗｸﾞ <class 'str'>\n",
            "     10934\n",
            "0     4872\n",
            "1       14\n",
            "Name: ﾀﾞｲﾔﾓﾝﾄﾞﾌﾟﾘﾝｾｽ号乗船ﾌﾗｸﾞ, dtype: int64\n",
            "========================\n",
            "\n",
            "情報源 <class 'str'>\n",
            "                                                                                                                                                                                                                                                                     3927\n",
            ";https://www3.nhk.or.jp/news/html/20200408/k10012375601000.html                                                                                                                                                                                                       143\n",
            "https://catalog.data.metro.tokyo.lg.jp/dataset/t000010d0000000068/resource/c2d997db-1450-43fa-8037-ebb11ec28d4c;https://www3.nhk.or.jp/news/html/20200405/k10012369381000.html;https://www.fukushihoken.metro.tokyo.lg.jp/hodo/saishin/corona153.html                 139\n",
            "https://catalog.data.metro.tokyo.lg.jp/dataset/t000010d0000000068;                                                                                                                                                                                                    133\n",
            "https://stopcovid19.metro.tokyo.lg.jp/data/130001_tokyo_covid19_patients.csv                                                                                                                                                                                          118\n",
            "                                                                                                                                                                                                                                                                     ... \n",
            "https://www.pref.kochi.lg.jp/soshiki/130401/files/2020022900049/file_2020472165449_1.pdf;https://www.pref.kochi.lg.jp/soshiki/130401/files/2020022900049/file_2020472165449_1.pdf                                                                                       1\n",
            "http://www.pref.hokkaido.lg.jp/hf/kth/kak/kisyakaiken0319sapporo.pdf;https://www.mhlw.go.jp/stf/newpage_10372.html;http://www.pref.hokkaido.lg.jp/hf/kth/kak/kisyakaiken0319sapporo.pdf;https://www.city.sapporo.jp/hokenjo/f1kansen/2019n-covhassei.html#h0319_1       1\n",
            "https://www.pref.fukuoka.lg.jp/contents/covid19-hassei.html\\nhttps://www.city.kitakyushu.lg.jp/ho-huku/18901209.html;https://www.mhlw.go.jp/stf/newpage_10645.html;https://www.city.kitakyushu.lg.jp/ho-huku/18901209.html                                              1\n",
            "https://www.city.tsukuba.lg.jp/_res/projects/default_project/_page_/001/009/853/16NO2.pdf;https://www.pref.ibaraki.jp/1saigai/2019-ncov/documents/0329162.pdf                                                                                                           1\n",
            "https://www.pref.kagawa.lg.jp/content/etc/web/upfiles/w7armt200412174353_f01.pdf;https://www.ksb.co.jp/newsweb/index?date=20200412                                                                                                                                      1\n",
            "Name: 情報源, Length: 3176, dtype: int64\n",
            "========================\n",
            "\n",
            "備考 <class 'str'>\n",
            "                                                 12715\n",
            "非公表                                                938\n",
            "「（第332報）新型コロナウイルス感染症患者公表数の修正について」による過去未報告分の追加      111\n",
            "中央区                                                 78\n",
            "博多区                                                 74\n",
            "                                                 ...  \n",
            "藤沢市内２６例目                                             1\n",
            "京都市209                                               1\n",
            "3/19スペイン(マドリード州)から帰国/成田空港検疫所/中部保健所管内在住               1\n",
            "2020/3/31まで高知県警察 宿毛警察署                               1\n",
            "京都市210                                               1\n",
            "Name: 備考, Length: 1306, dtype: int64\n",
            "========================\n",
            "\n",
            "罹患者関係_記入済ﾌﾗｸﾞ <class 'str'>\n",
            "0    11592\n",
            "1     4228\n",
            "Name: 罹患者関係_記入済ﾌﾗｸﾞ, dtype: int64\n",
            "========================\n",
            "\n",
            "罹患者トランザクション_記入済ﾌﾗｸﾞ <class 'str'>\n",
            "0    15597\n",
            "1      223\n",
            "Name: 罹患者トランザクション_記入済ﾌﾗｸﾞ, dtype: int64\n",
            "========================\n",
            "\n",
            "Relation1 <class 'str'>\n",
            "          12146\n",
            "1-321        66\n",
            "34-66        56\n",
            "10-31        55\n",
            "1-641        48\n",
            "          ...  \n",
            "40-285        1\n",
            "40-464        1\n",
            "11-592        1\n",
            "27-189        1\n",
            "40-211        1\n",
            "Name: Relation1, Length: 1746, dtype: int64\n",
            "========================\n",
            "\n",
            "Relation2 <class 'str'>\n",
            "          12147\n",
            "20-2         45\n",
            "非公表          36\n",
            "40-49        25\n",
            "40-522       24\n",
            "          ...  \n",
            "11-469        1\n",
            "26-140        1\n",
            "40-630        1\n",
            "34-105        1\n",
            "1-789         1\n",
            "Name: Relation2, Length: 3034, dtype: int64\n",
            "========================\n",
            "\n",
            "Transaction <class 'str'>\n",
            "          13616\n",
            "14-41        42\n",
            "14-24        37\n",
            "14-63        36\n",
            "14-56        27\n",
            "          ...  \n",
            "14-62         1\n",
            "14-69         1\n",
            "13-159        1\n",
            "14-32         1\n",
            "13-148        1\n",
            "Name: Transaction, Length: 229, dtype: int64\n",
            "========================\n",
            "\n"
          ],
          "name": "stdout"
        }
      ]
    },
    {
      "cell_type": "code",
      "metadata": {
        "id": "2lNULT40nIY3",
        "colab_type": "code",
        "colab": {}
      },
      "source": [
        "#性別をencodeする\n",
        "import category_encoders as ce\n",
        "df_gender = df['性別']\n",
        "list_cols = ['性別']\n",
        "ce_ohe = ce.OrdinalEncoder(cols=list_cols,handle_unknown='impute')\n",
        "df['性別'] = ce_ohe.fit_transform(df_gender)"
      ],
      "execution_count": 10,
      "outputs": []
    },
    {
      "cell_type": "code",
      "metadata": {
        "id": "svflU4OO1g0F",
        "colab_type": "code",
        "colab": {}
      },
      "source": [
        "#受診都道府県をencodeする\n",
        "df_city = df['受診都道府県']\n",
        "list_cols = ['受診都道府県']\n",
        "ce_ohe = ce.OrdinalEncoder(cols=list_cols,handle_unknown='impute')\n",
        "df['受診都道府県'] = ce_ohe.fit_transform(df_city)"
      ],
      "execution_count": 11,
      "outputs": []
    },
    {
      "cell_type": "code",
      "metadata": {
        "id": "9j9ULXTR4jZH",
        "colab_type": "code",
        "colab": {}
      },
      "source": [
        "#居住都道府県をencodeする\n",
        "df_city = df['居住都道府県']\n",
        "list_cols = ['居住都道府県']\n",
        "ce_ohe = ce.OrdinalEncoder(cols=list_cols,handle_unknown='impute')\n",
        "df['居住都道府県'] = ce_ohe.fit_transform(df_city)"
      ],
      "execution_count": 12,
      "outputs": []
    },
    {
      "cell_type": "code",
      "metadata": {
        "id": "XmwV5Muv3MSM",
        "colab_type": "code",
        "colab": {}
      },
      "source": [
        "#年代をencodeする\n",
        "df_age = df['年代']\n",
        "list_cols = ['年代']\n",
        "ce_ohe = ce.OrdinalEncoder(cols=list_cols,handle_unknown='impute')\n",
        "df['年代'] = ce_ohe.fit_transform(df_age)"
      ],
      "execution_count": 13,
      "outputs": []
    },
    {
      "cell_type": "code",
      "metadata": {
        "id": "-zkgNU_G76GS",
        "colab_type": "code",
        "colab": {}
      },
      "source": [
        "#ﾀﾞｲﾔﾓﾝﾄﾞﾌﾟﾘﾝｾｽ号乗船ﾌﾗｸﾞをencodeする\n",
        "df_diamond = df['ﾀﾞｲﾔﾓﾝﾄﾞﾌﾟﾘﾝｾｽ号乗船ﾌﾗｸﾞ']\n",
        "list_cols = ['ﾀﾞｲﾔﾓﾝﾄﾞﾌﾟﾘﾝｾｽ号乗船ﾌﾗｸﾞ']\n",
        "ce_ohe = ce.OrdinalEncoder(cols=list_cols,handle_unknown='impute')\n",
        "df['ﾀﾞｲﾔﾓﾝﾄﾞﾌﾟﾘﾝｾｽ号乗船ﾌﾗｸﾞ'] = ce_ohe.fit_transform(df_diamond)"
      ],
      "execution_count": 14,
      "outputs": []
    },
    {
      "cell_type": "code",
      "metadata": {
        "id": "jOg79C1x9jqf",
        "colab_type": "code",
        "colab": {}
      },
      "source": [
        "df_foreign = df['海外渡航歴ﾌﾗｸﾞ']\n",
        "#海外渡航歴ﾌﾗｸﾞをencodeする\n",
        "list_cols = ['海外渡航歴ﾌﾗｸﾞ']\n",
        "ce_ohe = ce.OrdinalEncoder(cols=list_cols,handle_unknown='impute')\n",
        "df['海外渡航歴ﾌﾗｸﾞ'] = ce_ohe.fit_transform(df_foreign)"
      ],
      "execution_count": 15,
      "outputs": []
    },
    {
      "cell_type": "markdown",
      "metadata": {
        "id": "LA0mitSDR8HB",
        "colab_type": "text"
      },
      "source": [
        "# PairPlotで相関を確認する"
      ]
    },
    {
      "cell_type": "code",
      "metadata": {
        "id": "taZLfzjaycil",
        "colab_type": "code",
        "colab": {}
      },
      "source": [
        "# sns.pairplot(df)"
      ],
      "execution_count": 16,
      "outputs": []
    },
    {
      "cell_type": "code",
      "metadata": {
        "id": "clwcewYU-8Mv",
        "colab_type": "code",
        "colab": {}
      },
      "source": [
        "#職業とステータスの関係性\n",
        "job_status_df = df[['職業', 'ステータス']]\n",
        "job_status_df = job_status_df.groupby('職業').filter(lambda x: len(x) > 100)\n",
        "\n",
        "df_status = job_status_df['ステータス']\n",
        "list_cols = ['ステータス']\n",
        "ce_ohe = ce.OrdinalEncoder(cols=list_cols,handle_unknown='impute')\n",
        "job_status_df['ステータス'] = ce_ohe.fit_transform(df_status)\n",
        "\n",
        "job_status_df['ステータス'] = job_status_df['ステータス'].astype(float)"
      ],
      "execution_count": 17,
      "outputs": []
    },
    {
      "cell_type": "code",
      "metadata": {
        "id": "Al5HoO-jZOpy",
        "colab_type": "code",
        "colab": {}
      },
      "source": [
        "# fig, axs = plt.subplots(15, 1, figsize=(10, 10))\n",
        "# for count, (index, value) in enumerate(job_status_df['職業'].value_counts().iteritems(), 1):\n",
        "#   title = str(index) + ' (標本数: ' + str(value) +  \")\"\n",
        "#   dataframe = job_status_df[job_status_df['職業'] == index]\n",
        "#   axs[count].set_title(title)\n",
        "#   axs[count].pie(dataframe[\"ステータス\"])\n",
        "\n",
        "# plt.show()"
      ],
      "execution_count": 18,
      "outputs": []
    },
    {
      "cell_type": "markdown",
      "metadata": {
        "id": "nu9oBd--Q_y6",
        "colab_type": "text"
      },
      "source": [
        "# Xgboostを用いた分析"
      ]
    },
    {
      "cell_type": "markdown",
      "metadata": {
        "id": "ycPhjWnUP-BJ",
        "colab_type": "text"
      },
      "source": [
        "## 症状のデータの読み込み"
      ]
    },
    {
      "cell_type": "code",
      "metadata": {
        "id": "uEZele4LQB0o",
        "colab_type": "code",
        "colab": {}
      },
      "source": [
        "singatecasefilelink='https://docs.google.com/spreadsheets/d/1tnxt17rtmFnG4UNX8DXVXGUhCcL7-cXHE3hhoOpvfsk/edit#gid=577718303'\n",
        "symptom_book = gc.open_by_url(singatecasefilelink)\n",
        "symptom_data = symptom_book.worksheet('症状').get_all_values()\n",
        "symptomdf = pd.DataFrame(symptom_data)"
      ],
      "execution_count": 19,
      "outputs": []
    },
    {
      "cell_type": "code",
      "metadata": {
        "id": "IKZh5wVTQWBU",
        "colab_type": "code",
        "colab": {
          "base_uri": "https://localhost:8080/",
          "height": 204
        },
        "outputId": "906d8e2a-ae54-4f77-8781-7ec7ac421d19"
      },
      "source": [
        "area_dict = dict(zip(symptomdf.index, symptomdf.iloc[0]))\n",
        "renamed_df = symptomdf.rename(columns=area_dict)\n",
        "symptomdf = renamed_df.drop(0)\n",
        "symptomdf =symptomdf.drop_duplicates()\n",
        "symptomdf.drop(symptomdf.index[-1]).tail()"
      ],
      "execution_count": 20,
      "outputs": [
        {
          "output_type": "execute_result",
          "data": {
            "text/html": [
              "<div>\n",
              "<style scoped>\n",
              "    .dataframe tbody tr th:only-of-type {\n",
              "        vertical-align: middle;\n",
              "    }\n",
              "\n",
              "    .dataframe tbody tr th {\n",
              "        vertical-align: top;\n",
              "    }\n",
              "\n",
              "    .dataframe thead th {\n",
              "        text-align: right;\n",
              "    }\n",
              "</style>\n",
              "<table border=\"1\" class=\"dataframe\">\n",
              "  <thead>\n",
              "    <tr style=\"text-align: right;\">\n",
              "      <th></th>\n",
              "      <th>都道府県コード</th>\n",
              "      <th>症例番号</th>\n",
              "      <th>都道府県症例番号</th>\n",
              "      <th>症状・経過</th>\n",
              "      <th>日付</th>\n",
              "      <th>症状</th>\n",
              "      <th>確認済ﾌﾗｸﾞ</th>\n",
              "    </tr>\n",
              "  </thead>\n",
              "  <tbody>\n",
              "    <tr>\n",
              "      <th>53560</th>\n",
              "      <td>27</td>\n",
              "      <td>1804</td>\n",
              "      <td>27-1804</td>\n",
              "      <td>非公表</td>\n",
              "      <td>-</td>\n",
              "      <td>-</td>\n",
              "      <td>-</td>\n",
              "    </tr>\n",
              "    <tr>\n",
              "      <th>53562</th>\n",
              "      <td>27</td>\n",
              "      <td>1805</td>\n",
              "      <td>27-1805</td>\n",
              "      <td>非公表</td>\n",
              "      <td>-</td>\n",
              "      <td>-</td>\n",
              "      <td>-</td>\n",
              "    </tr>\n",
              "    <tr>\n",
              "      <th>53564</th>\n",
              "      <td>27</td>\n",
              "      <td>1806</td>\n",
              "      <td>27-1806</td>\n",
              "      <td>非公表</td>\n",
              "      <td>-</td>\n",
              "      <td>-</td>\n",
              "      <td>-</td>\n",
              "    </tr>\n",
              "    <tr>\n",
              "      <th>53566</th>\n",
              "      <td>27</td>\n",
              "      <td>1807</td>\n",
              "      <td>27-1807</td>\n",
              "      <td>非公表</td>\n",
              "      <td>-</td>\n",
              "      <td>-</td>\n",
              "      <td>-</td>\n",
              "    </tr>\n",
              "    <tr>\n",
              "      <th>53568</th>\n",
              "      <td>27</td>\n",
              "      <td>1808</td>\n",
              "      <td>27-1808</td>\n",
              "      <td>非公表</td>\n",
              "      <td>-</td>\n",
              "      <td>-</td>\n",
              "      <td>-</td>\n",
              "    </tr>\n",
              "  </tbody>\n",
              "</table>\n",
              "</div>"
            ],
            "text/plain": [
              "      都道府県コード  症例番号 都道府県症例番号 症状・経過 日付 症状 確認済ﾌﾗｸﾞ\n",
              "53560      27  1804  27-1804   非公表  -  -       -\n",
              "53562      27  1805  27-1805   非公表  -  -       -\n",
              "53564      27  1806  27-1806   非公表  -  -       -\n",
              "53566      27  1807  27-1807   非公表  -  -       -\n",
              "53568      27  1808  27-1808   非公表  -  -       -"
            ]
          },
          "metadata": {
            "tags": []
          },
          "execution_count": 20
        }
      ]
    },
    {
      "cell_type": "code",
      "metadata": {
        "id": "CiLvrlWgRHgx",
        "colab_type": "code",
        "colab": {}
      },
      "source": [
        "symptomdf = symptomdf[(symptomdf['症状'] != \"-\")]"
      ],
      "execution_count": 21,
      "outputs": []
    },
    {
      "cell_type": "code",
      "metadata": {
        "id": "Qnov5MfsRg-n",
        "colab_type": "code",
        "colab": {
          "base_uri": "https://localhost:8080/",
          "height": 419
        },
        "outputId": "ee01bd21-774e-47e3-c55a-a6c21abd1c74"
      },
      "source": [
        "symptomdf"
      ],
      "execution_count": 22,
      "outputs": [
        {
          "output_type": "execute_result",
          "data": {
            "text/html": [
              "<div>\n",
              "<style scoped>\n",
              "    .dataframe tbody tr th:only-of-type {\n",
              "        vertical-align: middle;\n",
              "    }\n",
              "\n",
              "    .dataframe tbody tr th {\n",
              "        vertical-align: top;\n",
              "    }\n",
              "\n",
              "    .dataframe thead th {\n",
              "        text-align: right;\n",
              "    }\n",
              "</style>\n",
              "<table border=\"1\" class=\"dataframe\">\n",
              "  <thead>\n",
              "    <tr style=\"text-align: right;\">\n",
              "      <th></th>\n",
              "      <th>都道府県コード</th>\n",
              "      <th>症例番号</th>\n",
              "      <th>都道府県症例番号</th>\n",
              "      <th>症状・経過</th>\n",
              "      <th>日付</th>\n",
              "      <th>症状</th>\n",
              "      <th>確認済ﾌﾗｸﾞ</th>\n",
              "    </tr>\n",
              "  </thead>\n",
              "  <tbody>\n",
              "    <tr>\n",
              "      <th>2</th>\n",
              "      <td></td>\n",
              "      <td></td>\n",
              "      <td></td>\n",
              "      <td></td>\n",
              "      <td>2020/01/26</td>\n",
              "      <td>icd=R05;咳</td>\n",
              "      <td>1</td>\n",
              "    </tr>\n",
              "    <tr>\n",
              "      <th>3</th>\n",
              "      <td></td>\n",
              "      <td></td>\n",
              "      <td></td>\n",
              "      <td></td>\n",
              "      <td>2020/01/26</td>\n",
              "      <td>icd=R509;発熱</td>\n",
              "      <td>1</td>\n",
              "    </tr>\n",
              "    <tr>\n",
              "      <th>4</th>\n",
              "      <td></td>\n",
              "      <td></td>\n",
              "      <td></td>\n",
              "      <td></td>\n",
              "      <td>2020/01/27</td>\n",
              "      <td>icd=J189;肺炎</td>\n",
              "      <td>1</td>\n",
              "    </tr>\n",
              "    <tr>\n",
              "      <th>5</th>\n",
              "      <td></td>\n",
              "      <td></td>\n",
              "      <td></td>\n",
              "      <td></td>\n",
              "      <td>2020/01/27</td>\n",
              "      <td>受診</td>\n",
              "      <td>1</td>\n",
              "    </tr>\n",
              "    <tr>\n",
              "      <th>6</th>\n",
              "      <td></td>\n",
              "      <td></td>\n",
              "      <td></td>\n",
              "      <td></td>\n",
              "      <td>2020/01/27</td>\n",
              "      <td>入院</td>\n",
              "      <td>1</td>\n",
              "    </tr>\n",
              "    <tr>\n",
              "      <th>...</th>\n",
              "      <td>...</td>\n",
              "      <td>...</td>\n",
              "      <td>...</td>\n",
              "      <td>...</td>\n",
              "      <td>...</td>\n",
              "      <td>...</td>\n",
              "      <td>...</td>\n",
              "    </tr>\n",
              "    <tr>\n",
              "      <th>52415</th>\n",
              "      <td></td>\n",
              "      <td></td>\n",
              "      <td></td>\n",
              "      <td></td>\n",
              "      <td>3日</td>\n",
              "      <td>入院</td>\n",
              "      <td></td>\n",
              "    </tr>\n",
              "    <tr>\n",
              "      <th>52419</th>\n",
              "      <td></td>\n",
              "      <td></td>\n",
              "      <td></td>\n",
              "      <td></td>\n",
              "      <td>20日</td>\n",
              "      <td>icd=J310;鼻汁</td>\n",
              "      <td></td>\n",
              "    </tr>\n",
              "    <tr>\n",
              "      <th>52455</th>\n",
              "      <td></td>\n",
              "      <td></td>\n",
              "      <td></td>\n",
              "      <td></td>\n",
              "      <td>2020/05/13</td>\n",
              "      <td>icd=J029;咽頭痛</td>\n",
              "      <td></td>\n",
              "    </tr>\n",
              "    <tr>\n",
              "      <th>52458</th>\n",
              "      <td></td>\n",
              "      <td></td>\n",
              "      <td></td>\n",
              "      <td></td>\n",
              "      <td>16日</td>\n",
              "      <td>icd=R431;嗅覚異常</td>\n",
              "      <td></td>\n",
              "    </tr>\n",
              "    <tr>\n",
              "      <th>52462</th>\n",
              "      <td></td>\n",
              "      <td></td>\n",
              "      <td></td>\n",
              "      <td></td>\n",
              "      <td>16日</td>\n",
              "      <td>icd=R99;原因不明の死亡</td>\n",
              "      <td></td>\n",
              "    </tr>\n",
              "  </tbody>\n",
              "</table>\n",
              "<p>5001 rows × 7 columns</p>\n",
              "</div>"
            ],
            "text/plain": [
              "      都道府県コード 症例番号 都道府県症例番号 症状・経過          日付               症状 確認済ﾌﾗｸﾞ\n",
              "2                                  2020/01/26        icd=R05;咳       1\n",
              "3                                  2020/01/26      icd=R509;発熱       1\n",
              "4                                  2020/01/27      icd=J189;肺炎       1\n",
              "5                                  2020/01/27               受診       1\n",
              "6                                  2020/01/27               入院       1\n",
              "...       ...  ...      ...   ...         ...              ...     ...\n",
              "52415                                      3日               入院        \n",
              "52419                                     20日      icd=J310;鼻汁        \n",
              "52455                              2020/05/13     icd=J029;咽頭痛        \n",
              "52458                                     16日    icd=R431;嗅覚異常        \n",
              "52462                                     16日  icd=R99;原因不明の死亡        \n",
              "\n",
              "[5001 rows x 7 columns]"
            ]
          },
          "metadata": {
            "tags": []
          },
          "execution_count": 22
        }
      ]
    },
    {
      "cell_type": "code",
      "metadata": {
        "id": "W1EzMtolRq9x",
        "colab_type": "code",
        "colab": {}
      },
      "source": [
        "symptoms = symptomdf[\"症状\"].unique()\n",
        "symptoms_list = list()\n",
        "for element in symptoms:\n",
        "  elements = re.split('[;，]', element)\n",
        "  symptoms_list.append(elements)"
      ],
      "execution_count": 23,
      "outputs": []
    },
    {
      "cell_type": "code",
      "metadata": {
        "id": "UM94FIp1SCnh",
        "colab_type": "code",
        "colab": {}
      },
      "source": [
        "unique_symptons_list = list(itertools.chain.from_iterable(symptoms_list))\n",
        "unique_symptons_list = list(set(unique_symptons_list))"
      ],
      "execution_count": 24,
      "outputs": []
    },
    {
      "cell_type": "code",
      "metadata": {
        "id": "m5zPRgMtSQ4G",
        "colab_type": "code",
        "colab": {}
      },
      "source": [
        "#不要な要素を取り除く\n",
        "cleaned_symptoms_list = list()\n",
        "for element in unique_symptons_list:\n",
        "  if not (\"icd\" in element or \"受診\" in element or \"退院\" in element):\n",
        "      cleaned_symptoms_list.append(element)"
      ],
      "execution_count": 25,
      "outputs": []
    },
    {
      "cell_type": "code",
      "metadata": {
        "id": "jL5ZbJ5cShDp",
        "colab_type": "code",
        "colab": {
          "base_uri": "https://localhost:8080/",
          "height": 1000
        },
        "outputId": "b92614a2-02ab-491a-b464-9735dceb059f"
      },
      "source": [
        "cleaned_symptoms_list"
      ],
      "execution_count": 26,
      "outputs": [
        {
          "output_type": "execute_result",
          "data": {
            "text/plain": [
              "['',\n",
              " '心不全',\n",
              " 'かぜ',\n",
              " '胸やけ',\n",
              " '腹部不快感',\n",
              " '誤嚥性肺炎',\n",
              " 'くしゃみ',\n",
              " '咳',\n",
              " '前胸部痛',\n",
              " '特発性拡張型心筋症',\n",
              " '口渇症',\n",
              " '腰腹痛',\n",
              " '湿疹',\n",
              " '振戦',\n",
              " '血尿',\n",
              " '微熱',\n",
              " '検診',\n",
              " '胃痛',\n",
              " '四肢しびれ',\n",
              " '心配',\n",
              " '耳痛症',\n",
              " '胸部異常陰影',\n",
              " '関節痛',\n",
              " '下腹痛',\n",
              " '頭重感',\n",
              " '嚥下障害',\n",
              " '胃腸疾患',\n",
              " '頻尿症',\n",
              " '末梢循環障害',\n",
              " '結膜充血',\n",
              " '呼吸促迫',\n",
              " '過剰喀痰',\n",
              " '鼻閉',\n",
              " '倦怠感',\n",
              " '疼痛',\n",
              " '後頭部痛',\n",
              " '筋肉痛',\n",
              " '頚部腫脹',\n",
              " '麻疹',\n",
              " '胆石性急性胆のう炎',\n",
              " 'インフルエンザ',\n",
              " '心肺停止',\n",
              " '口内炎',\n",
              " 'コロナウイルス感染症',\n",
              " '感冒',\n",
              " '悪寒戦慄',\n",
              " '食欲不振',\n",
              " '老衰',\n",
              " 'そう痒',\n",
              " '窒息感',\n",
              " '結膜炎',\n",
              " '鼻炎',\n",
              " '労作時呼吸困難',\n",
              " '咳喘息',\n",
              " '下肢しびれ',\n",
              " '意識消失',\n",
              " 'ウイルス感染症',\n",
              " '頭痛',\n",
              " '乏尿',\n",
              " '高血圧症',\n",
              " 'よう',\n",
              " '摂食障害',\n",
              " '多尿',\n",
              " '肩部痛',\n",
              " '喘鳴',\n",
              " '聴覚異常',\n",
              " 'つかえ感',\n",
              " '鼻閉感',\n",
              " '高熱',\n",
              " '意識障害',\n",
              " '咽喉頭異常感症',\n",
              " '脂質異常症',\n",
              " 'アデノウイルス感染症',\n",
              " '項部腫脹',\n",
              " '背部痛',\n",
              " '嗅覚異常',\n",
              " '扁桃炎',\n",
              " '喉頭痛',\n",
              " '片頭痛',\n",
              " '嗄声',\n",
              " '呼吸不全',\n",
              " '聴覚障害',\n",
              " '筋力低下',\n",
              " '腎不全',\n",
              " '急性鼻炎',\n",
              " '発音障害',\n",
              " '膿性痰',\n",
              " '気管支炎',\n",
              " '鼻痛',\n",
              " '血腫',\n",
              " '花粉症',\n",
              " '腹痛症',\n",
              " '胸内苦悶',\n",
              " 'ほてり',\n",
              " '尿路感染症',\n",
              " '胸部不快感',\n",
              " '乾性咳',\n",
              " '嗅覚障害',\n",
              " '下痢症',\n",
              " '不明熱',\n",
              " '起立性眩暈',\n",
              " '頚部痛',\n",
              " '味覚減退症',\n",
              " '肺野異常陰影',\n",
              " '疲労感',\n",
              " '発汗障害',\n",
              " '鼻汁',\n",
              " '味覚障害',\n",
              " '動悸',\n",
              " '入院',\n",
              " '摂食機能障害',\n",
              " '脱水症',\n",
              " '息切れ',\n",
              " '味覚異常',\n",
              " '歯痛',\n",
              " '神経痛',\n",
              " '発熱',\n",
              " '骨折',\n",
              " '歩行困難',\n",
              " '喀痰',\n",
              " '悪心',\n",
              " '咽頭痛',\n",
              " '血痰',\n",
              " 'アレルギー',\n",
              " '糖尿病',\n",
              " '拡張相肥大型心筋症',\n",
              " '咽頭炎',\n",
              " '腰痛症',\n",
              " '急性肺炎',\n",
              " '全身倦怠感',\n",
              " '上腹部痛',\n",
              " '胸水貯留',\n",
              " '溶連菌感染症',\n",
              " 'ぶどう球菌感染症',\n",
              " 'めまい',\n",
              " '胃腸炎',\n",
              " '肩こり',\n",
              " '肝機能障害',\n",
              " '肺炎',\n",
              " '原因不明の死亡',\n",
              " '眼痛',\n",
              " '敗血症',\n",
              " '項部痛',\n",
              " '呼吸困難',\n",
              " '関節炎',\n",
              " '急性上気道炎',\n",
              " '死亡',\n",
              " '外傷',\n",
              " '貧血',\n",
              " '肋骨痛',\n",
              " '悪寒',\n",
              " '嘔吐症',\n",
              " '健康相談',\n",
              " 'ピリピリ感',\n",
              " 'ブラ',\n",
              " '寝汗',\n",
              " 'ウイルス性肺炎',\n",
              " '咽頭異常感症',\n",
              " '胸痛',\n",
              " '全身痛',\n",
              " '喉頭炎',\n",
              " '嘔気',\n",
              " '腰殿部痛',\n",
              " '吐血',\n",
              " '体力低下',\n",
              " '急性耳痛',\n",
              " '敗血症性ショック',\n",
              " '脱力感',\n",
              " '耳鳴症',\n",
              " '不安障害',\n",
              " '発疹',\n",
              " '鼻漏',\n",
              " '異常喀痰']"
            ]
          },
          "metadata": {
            "tags": []
          },
          "execution_count": 26
        }
      ]
    },
    {
      "cell_type": "markdown",
      "metadata": {
        "id": "s582C54CcpWD",
        "colab_type": "text"
      },
      "source": [
        "## データの整理"
      ]
    },
    {
      "cell_type": "code",
      "metadata": {
        "id": "-cj0uIbm38Uu",
        "colab_type": "code",
        "colab": {
          "base_uri": "https://localhost:8080/",
          "height": 68
        },
        "outputId": "b8918b49-ee2b-4414-fef7-3d1db9f8bcdf"
      },
      "source": [
        "!pip install xgboost\n",
        "import xgboost as xgb\n",
        "from sklearn.model_selection import train_test_split, GridSearchCV, learning_curve\n",
        "from sklearn.metrics import mean_squared_error, mean_absolute_error\n",
        "from IPython.display import clear_output"
      ],
      "execution_count": 27,
      "outputs": [
        {
          "output_type": "stream",
          "text": [
            "Requirement already satisfied: xgboost in /usr/local/lib/python3.6/dist-packages (0.90)\n",
            "Requirement already satisfied: scipy in /usr/local/lib/python3.6/dist-packages (from xgboost) (1.4.1)\n",
            "Requirement already satisfied: numpy in /usr/local/lib/python3.6/dist-packages (from xgboost) (1.18.5)\n"
          ],
          "name": "stdout"
        }
      ]
    },
    {
      "cell_type": "code",
      "metadata": {
        "id": "2ll06d6s55eK",
        "colab_type": "code",
        "colab": {}
      },
      "source": [
        "df_new = df[[\"都道府県コード\", \"年代\", \"性別\", \"ステータス\", \"症状一覧\"]]"
      ],
      "execution_count": 28,
      "outputs": []
    },
    {
      "cell_type": "code",
      "metadata": {
        "id": "B9u9TsuPDHcM",
        "colab_type": "code",
        "colab": {}
      },
      "source": [
        "# ステータスは`非公開`や``をdropし、死亡を４、重症を3、中等症を２、軽症、無症状を1とする\n",
        "df_new = df_new[(df['ステータス'] == \"重症\") | (df['ステータス'] == '軽症') | (df['ステータス'] == '死亡') | (df['ステータス'] == '無症状') | (df['ステータス'] == '中等症')]\n",
        "df_new[\"ステータス\"] = df_new[\"ステータス\"].str.replace(\"重症\", \"3\").str.replace(\"死亡\", \"4\").str.replace(\"中等症\", \"2\").str.replace(\"軽症\", \"1\").str.replace(\"無症状\", \"1\")\n",
        "df_new[\"ステータス\"]  =df_new[\"ステータス\"].astype(int)"
      ],
      "execution_count": 29,
      "outputs": []
    },
    {
      "cell_type": "code",
      "metadata": {
        "id": "KNurNtWeVM4g",
        "colab_type": "code",
        "colab": {
          "base_uri": "https://localhost:8080/",
          "height": 51
        },
        "outputId": "212f80de-8777-4ef9-ffb7-160fc57bcc47"
      },
      "source": [
        "# 症状一覧で`非公開`や``をdropし、発熱・咳・頭痛・倦怠感があるかどうかのフラグを作成する\n",
        "df_new = df_new[(df['症状一覧'] != \"\") & (df['症状一覧'] != '非公表') & (df['症状一覧'] != ' ')]"
      ],
      "execution_count": 30,
      "outputs": [
        {
          "output_type": "stream",
          "text": [
            "/usr/local/lib/python3.6/dist-packages/ipykernel_launcher.py:2: UserWarning: Boolean Series key will be reindexed to match DataFrame index.\n",
            "  \n"
          ],
          "name": "stderr"
        }
      ]
    },
    {
      "cell_type": "code",
      "metadata": {
        "id": "ZvESHD17mn7y",
        "colab_type": "code",
        "colab": {}
      },
      "source": [
        "# 症状の一覧の配列を作成する\n",
        "# dfの症状一覧から作成を試みる\n",
        "import re\n",
        "import itertools\n",
        "symptom_array = df_new[\"症状一覧\"].unique()\n",
        "symptom_list = list()\n",
        "for element in symptom_array:\n",
        "  elements = re.split('[;、・\\n :\\r，,]', element)\n",
        "  symptom_list.append(elements)"
      ],
      "execution_count": 31,
      "outputs": []
    },
    {
      "cell_type": "code",
      "metadata": {
        "id": "veSL-bZbphEV",
        "colab_type": "code",
        "colab": {}
      },
      "source": [
        "unique_symptons = list(itertools.chain.from_iterable(symptom_list))\n",
        "unique_symptons = list(set(unique_symptons))\n",
        "\n",
        "#不要な要素を取り除く\n",
        "cleaned_symptom_list = list()\n",
        "for element in unique_symptons:\n",
        "  if not (\"(\" in element or \")\" in element or \"℃\" in element or \"度\" in element or \"）\" in element or \"（\" in element or \"。\" in element):\n",
        "    if not (\"4\" in element or \"20\" in element or \"～\" in element or \"D\" in element or \"なし\" in element):\n",
        "      cleaned_symptom_list.append(element)"
      ],
      "execution_count": 32,
      "outputs": []
    },
    {
      "cell_type": "code",
      "metadata": {
        "id": "96Vle6eKzNx6",
        "colab_type": "code",
        "colab": {
          "base_uri": "https://localhost:8080/",
          "height": 1000
        },
        "outputId": "a9717653-c48d-4a71-d7ea-e1fc826d0e54"
      },
      "source": [
        "cleaned_symptom_list"
      ],
      "execution_count": 33,
      "outputs": [
        {
          "output_type": "execute_result",
          "data": {
            "text/plain": [
              "['',\n",
              " '無し',\n",
              " '呼吸器症状',\n",
              " '嘔吐',\n",
              " '食欲低下',\n",
              " '喉',\n",
              " '腰痛',\n",
              " '咳',\n",
              " '喉の違和感',\n",
              " '咽喉痛あり',\n",
              " '胸部違和感',\n",
              " '熱',\n",
              " '障害',\n",
              " '意識低下',\n",
              " '微熱',\n",
              " '重篤な肺炎',\n",
              " '上気道炎',\n",
              " 'のどの痛み',\n",
              " '会話可',\n",
              " '肺炎疑い',\n",
              " '異常',\n",
              " '労作時呼吸苦',\n",
              " '苦',\n",
              " '急性呼吸器症状',\n",
              " 'せき',\n",
              " '軽症',\n",
              " '関節痛',\n",
              " '頭重感',\n",
              " '結膜充血',\n",
              " '腹痛',\n",
              " '鼻閉',\n",
              " '倦怠感',\n",
              " '筋肉痛',\n",
              " '肩や足の強い痛み',\n",
              " '嗅',\n",
              " '咽頭違和感',\n",
              " '嗅覚異状',\n",
              " '腹声',\n",
              " '目の痛み',\n",
              " '食欲不振',\n",
              " '声がれ',\n",
              " '鼻炎',\n",
              " '-',\n",
              " '発熱\\u3000咳味覚障害',\n",
              " '鼻水',\n",
              " '意識消失',\n",
              " '吸気時の胸部痛',\n",
              " '頭痛',\n",
              " '喘鳴',\n",
              " '聴覚異常',\n",
              " '呼吸困難感',\n",
              " '席',\n",
              " '感',\n",
              " '鼻閉感',\n",
              " '胸の痛み',\n",
              " '労作時の息切れ',\n",
              " '意識障害',\n",
              " '全身の痛み',\n",
              " '足腰痛',\n",
              " '咳症状',\n",
              " '下痢症状',\n",
              " '症状ない',\n",
              " '寒',\n",
              " '背部痛',\n",
              " '嗅覚異常',\n",
              " '会話不可',\n",
              " '間質性肺炎',\n",
              " '喉頭痛',\n",
              " '嗄声',\n",
              " '呼吸不全',\n",
              " '鼻閉塞感',\n",
              " '寒気',\n",
              " '咳呼吸苦',\n",
              " '咳肺炎',\n",
              " '倦',\n",
              " '痛',\n",
              " '軟便',\n",
              " '胸部不快感',\n",
              " 'ＣＴ肺炎像',\n",
              " 'たん',\n",
              " '嗅覚障害',\n",
              " '下気道炎',\n",
              " '咽頭の違和',\n",
              " '肺炎像',\n",
              " '味覚',\n",
              " '味覚異常のみ',\n",
              " '関節筋肉',\n",
              " '臭覚',\n",
              " '月',\n",
              " '無症状',\n",
              " '解熱',\n",
              " '熱感',\n",
              " '強い倦怠感',\n",
              " '倦怠',\n",
              " '怠',\n",
              " '味覚障害',\n",
              " '鼻汁',\n",
              " '臭覚異常',\n",
              " '鼻づまり',\n",
              " '動悸',\n",
              " '吐気',\n",
              " '胸部圧迫感',\n",
              " '嗅覚',\n",
              " '体の痛み',\n",
              " '左胸部痛',\n",
              " '臭覚障害',\n",
              " '息切れ',\n",
              " '下痢',\n",
              " '味覚異常',\n",
              " '発熱',\n",
              " '歯痛',\n",
              " '眩暈',\n",
              " '喀痰',\n",
              " '味覚低下',\n",
              " '咽頭痛',\n",
              " '血行不良',\n",
              " '血痰',\n",
              " '酸素投与中',\n",
              " '体動困難',\n",
              " '吐き気',\n",
              " 'むかつき',\n",
              " '全身倦怠感',\n",
              " '肺炎倦怠感',\n",
              " '味覚嗅覚障害',\n",
              " '関節',\n",
              " '中等症',\n",
              " 'ふらつき',\n",
              " 'めまい',\n",
              " '痰',\n",
              " '症状無し',\n",
              " '咳嗽',\n",
              " '肺炎',\n",
              " '胸部痛み',\n",
              " '咽頭通',\n",
              " '肺の痛み',\n",
              " '息苦しさ',\n",
              " '敗血症',\n",
              " '死因',\n",
              " '呼吸困難',\n",
              " '寒気あり',\n",
              " '鼻',\n",
              " '死亡',\n",
              " '間接筋肉',\n",
              " '肋骨痛',\n",
              " '悪寒',\n",
              " '関節筋肉痛',\n",
              " '全員倦怠感',\n",
              " '解熱し',\n",
              " '基礎疾患あり',\n",
              " '喉の違和',\n",
              " '嗅覚障害のみ',\n",
              " '呼吸',\n",
              " '覚障害',\n",
              " '胸痛',\n",
              " '全身痛',\n",
              " '嘔気',\n",
              " '肺炎像あり',\n",
              " '間接筋肉痛',\n",
              " '倦怠感咳',\n",
              " '酸素投与',\n",
              " '吐血',\n",
              " '病状は重症',\n",
              " '後頚部痛',\n",
              " '呼吸苦',\n",
              " '：',\n",
              " '持病による発熱',\n",
              " '呼吸困難あり']"
            ]
          },
          "metadata": {
            "tags": []
          },
          "execution_count": 33
        }
      ]
    },
    {
      "cell_type": "code",
      "metadata": {
        "id": "ogdB1ZYn9W-D",
        "colab_type": "code",
        "colab": {}
      },
      "source": [
        "for element in cleaned_symptoms_list:\n",
        "  df_new[element] = df_new[\"症状一覧\"].str.contains(element)"
      ],
      "execution_count": 34,
      "outputs": []
    },
    {
      "cell_type": "code",
      "metadata": {
        "id": "BiMrfJftOrjZ",
        "colab_type": "code",
        "colab": {}
      },
      "source": [
        "# この配列では要素の数が多すぎるので利用できそうなものをピックアップして配列を作成する\n",
        "# 同じものでも書き方が違うものが多いので似たうような要素を一括りにできるように実装する\n",
        "# 発熱,熱,微熱 -> 熱\n",
        "# 味覚,味 -> 味\n",
        "# 喉,のど -> 喉\n",
        "# 嗅覚 -> 嗅覚障害\n",
        "# 肺炎,肺,肺痛,胸 -> 肺\n",
        "# 倦怠,倦怠感 -> 倦怠 \n",
        "# 鼻,鼻水 -> 鼻水\n",
        "# めまい\n",
        "# 嘔吐 -> 嘔吐\n",
        "# 寒気\n",
        "# 腹痛,下痢\n",
        "# 頭痛\n",
        "# 関節痛,筋肉痛\n",
        "# df_new[\"発熱フラグ\"] = df_new[\"症状一覧\"].str.contains(\"熱\")\n",
        "# df_new[\"味覚障害フラグ\"] = df_new[\"症状一覧\"].str.contains(\"味\")\n",
        "# df_new[\"喉フラグ\"] = df_new[\"症状一覧\"].str.contains(\"(喉|のど)\")\n",
        "# df_new[\"肺炎フラグ\"] = df_new[\"症状一覧\"].str.contains(\"肺\")\n",
        "# df_new[\"倦怠感フラグ\"] = df_new[\"症状一覧\"].str.contains(\"倦怠\")\n",
        "# df_new[\"嗅覚障害フラグ\"] = df_new[\"症状一覧\"].str.contains(\"嗅\")\n",
        "# df_new[\"鼻水フラグ\"] = df_new[\"症状一覧\"].str.contains(\"鼻\")\n",
        "# df_new[\"嘔吐フラグ\"] = df_new[\"症状一覧\"].str.contains(\"嘔\")\n",
        "# df_new[\"関節痛/筋肉痛フラグ\"] = df_new[\"症状一覧\"].str.contains(\"(関節|筋肉)\")"
      ],
      "execution_count": 35,
      "outputs": []
    },
    {
      "cell_type": "code",
      "metadata": {
        "id": "SCxZ0M9pEeoV",
        "colab_type": "code",
        "colab": {}
      },
      "source": [
        "df_new[\"都道府県コード\"] = df_new[\"都道府県コード\"].astype(int)"
      ],
      "execution_count": 36,
      "outputs": []
    },
    {
      "cell_type": "code",
      "metadata": {
        "id": "cuL_NNZlDHn7",
        "colab_type": "code",
        "colab": {
          "base_uri": "https://localhost:8080/",
          "height": 221
        },
        "outputId": "0c02a419-450b-48e1-af2a-7df1eee79227"
      },
      "source": [
        "df_new.dtypes"
      ],
      "execution_count": 37,
      "outputs": [
        {
          "output_type": "execute_result",
          "data": {
            "text/plain": [
              "都道府県コード     int64\n",
              "年代          int64\n",
              "性別          int64\n",
              "ステータス       int64\n",
              "症状一覧       object\n",
              "            ...  \n",
              "耳鳴症          bool\n",
              "不安障害         bool\n",
              "発疹           bool\n",
              "鼻漏           bool\n",
              "異常喀痰         bool\n",
              "Length: 178, dtype: object"
            ]
          },
          "metadata": {
            "tags": []
          },
          "execution_count": 37
        }
      ]
    },
    {
      "cell_type": "code",
      "metadata": {
        "id": "6ZUlu7lPZhrQ",
        "colab_type": "code",
        "colab": {}
      },
      "source": [
        "# 症状一覧をdropする\n",
        "df_new = df_new.drop('症状一覧', axis=1)"
      ],
      "execution_count": 38,
      "outputs": []
    },
    {
      "cell_type": "markdown",
      "metadata": {
        "id": "DHS55yPgbb1h",
        "colab_type": "text"
      },
      "source": [
        "## 全体の場合"
      ]
    },
    {
      "cell_type": "code",
      "metadata": {
        "id": "Li0nXvOL7laF",
        "colab_type": "code",
        "colab": {}
      },
      "source": [
        "df_train, df_test = train_test_split(df_new, test_size=0.3, random_state=0)\n",
        "\n",
        "y_train = df_train['ステータス']\n",
        "y_test = df_test['ステータス']\n",
        "x_train = df_train.drop(['ステータス'], axis=1)\n",
        "x_test = df_test.drop(['ステータス'], axis=1)\n",
        "\n",
        "dtrain = xgb.DMatrix(x_train, label=y_train)\n",
        "dtest = xgb.DMatrix(x_test, label=y_test)"
      ],
      "execution_count": 39,
      "outputs": []
    },
    {
      "cell_type": "code",
      "metadata": {
        "id": "vTsicEGW32B0",
        "colab_type": "code",
        "colab": {
          "base_uri": "https://localhost:8080/",
          "height": 102
        },
        "outputId": "ad310ccc-23b5-4945-c62d-81d20e99fa11"
      },
      "source": [
        "df_train['ステータス'].value_counts()"
      ],
      "execution_count": 40,
      "outputs": [
        {
          "output_type": "execute_result",
          "data": {
            "text/plain": [
              "1    1485\n",
              "2     171\n",
              "3      35\n",
              "4      27\n",
              "Name: ステータス, dtype: int64"
            ]
          },
          "metadata": {
            "tags": []
          },
          "execution_count": 40
        }
      ]
    },
    {
      "cell_type": "code",
      "metadata": {
        "id": "999naDqV-aUH",
        "colab_type": "code",
        "colab": {}
      },
      "source": [
        "params = {\n",
        "    'n_estimators': 5000,\n",
        "    'max_depth': 7,\n",
        "    'objective':'reg:linear',\n",
        "    'min_child_weight': 4,\n",
        "    'eta': 0.07,\n",
        "    'eval_metric': 'mae',\n",
        "}\n",
        "evals = [(dtrain, 'train'), (dtest, 'test')]\n",
        "\n",
        "evals_result = {}\n",
        "\n",
        "model = xgb.train(\n",
        "    params,\n",
        "    dtrain,\n",
        "    num_boost_round=5000,\n",
        "    evals=evals,\n",
        "    early_stopping_rounds=30,\n",
        "    evals_result=evals_result,\n",
        "        )\n",
        "clear_output()"
      ],
      "execution_count": 41,
      "outputs": []
    },
    {
      "cell_type": "code",
      "metadata": {
        "id": "nZCBfWda-b_q",
        "colab_type": "code",
        "colab": {
          "base_uri": "https://localhost:8080/",
          "height": 34
        },
        "outputId": "2cf77cf3-4187-4734-b1fa-61d4b0f50077"
      },
      "source": [
        "def mean_error_rate(y_pred, y_test):\n",
        "    mer = np.mean(abs(y_pred-y_true)/y_true * 100)\n",
        "    return mer\n",
        "\n",
        "y_pred = model.predict(dtest)\n",
        "y_true = y_test.values\n",
        "\n",
        "print('誤差率 : {0:.4f} %'.format(mean_error_rate(y_pred, y_test)))"
      ],
      "execution_count": 42,
      "outputs": [
        {
          "output_type": "stream",
          "text": [
            "誤差率 : 14.6719 %\n"
          ],
          "name": "stdout"
        }
      ]
    },
    {
      "cell_type": "code",
      "metadata": {
        "id": "Kb7Qqivw-gUx",
        "colab_type": "code",
        "colab": {
          "base_uri": "https://localhost:8080/",
          "height": 495
        },
        "outputId": "5479ac9a-7714-4a05-d96d-b3b8e23886dd"
      },
      "source": [
        "plt.figure(figsize=(12, 8))\n",
        "train_metric = evals_result['train']['mae']\n",
        "plt.plot(train_metric, label='train mae')\n",
        "eval_metric = evals_result['test']['mae']\n",
        "plt.plot(eval_metric, label='test mae', linestyle='dashed')\n",
        "plt.grid()\n",
        "plt.legend()\n",
        "plt.xlabel('学習回数')\n",
        "plt.ylabel('平均絶対誤差')\n",
        "plt.savefig('kodate_learning_curve.png')\n",
        "plt.show()"
      ],
      "execution_count": 43,
      "outputs": [
        {
          "output_type": "display_data",
          "data": {
            "image/png": "[encoded data removed]",
            "text/plain": [
              "<Figure size 864x576 with 1 Axes>"
            ]
          },
          "metadata": {
            "tags": [],
            "needs_background": "light"
          }
        }
      ]
    },
    {
      "cell_type": "code",
      "metadata": {
        "id": "ZiV9JF-nFPRl",
        "colab_type": "code",
        "colab": {
          "base_uri": "https://localhost:8080/",
          "height": 945
        },
        "outputId": "807d723a-0fff-4ad5-aa03-e8005f6bd17a"
      },
      "source": [
        "_, ax = plt.subplots(figsize=(16, 16))\n",
        "xgb.plot_importance(model, ax=ax,  importance_type='gain', title='項目の重要度',show_values=False)\n",
        "plt.ylabel(\"項目\")\n",
        "plt.savefig('kodate_feature.png')\n",
        "plt.show()"
      ],
      "execution_count": 44,
      "outputs": [
        {
          "output_type": "display_data",
          "data": {
            "image/png": "[encoded data removed]",
            "text/plain": [
              "<Figure size 1152x1152 with 1 Axes>"
            ]
          },
          "metadata": {
            "tags": [],
            "needs_background": "light"
          }
        }
      ]
    },
    {
      "cell_type": "markdown",
      "metadata": {
        "id": "6jnIyQgCaqwW",
        "colab_type": "text"
      },
      "source": [
        "## 東京のみの場合"
      ]
    },
    {
      "cell_type": "code",
      "metadata": {
        "id": "DFmviEoWavb9",
        "colab_type": "code",
        "colab": {}
      },
      "source": [
        "df_new_tokyo = df_new[df_new[\"都道府県コード\"] == 13]"
      ],
      "execution_count": 45,
      "outputs": []
    },
    {
      "cell_type": "code",
      "metadata": {
        "id": "bU59UY-Cc0do",
        "colab_type": "code",
        "colab": {}
      },
      "source": [
        "df_train, df_test = train_test_split(df_new_tokyo, test_size=0.3, random_state=0)\n",
        "\n",
        "y_train = df_train['ステータス']\n",
        "y_test = df_test['ステータス']\n",
        "x_train = df_train.drop(['ステータス'], axis=1)\n",
        "x_test = df_test.drop(['ステータス'], axis=1)\n",
        "\n",
        "dtrain = xgb.DMatrix(x_train, label=y_train)\n",
        "dtest = xgb.DMatrix(x_test, label=y_test)"
      ],
      "execution_count": 46,
      "outputs": []
    },
    {
      "cell_type": "code",
      "metadata": {
        "id": "JTQtUXtWc_yr",
        "colab_type": "code",
        "colab": {
          "base_uri": "https://localhost:8080/",
          "height": 85
        },
        "outputId": "1ea187af-8efd-4937-a4a2-54d04a389e94"
      },
      "source": [
        "df_train['ステータス'].value_counts()"
      ],
      "execution_count": 47,
      "outputs": [
        {
          "output_type": "execute_result",
          "data": {
            "text/plain": [
              "1    135\n",
              "2      5\n",
              "4      3\n",
              "Name: ステータス, dtype: int64"
            ]
          },
          "metadata": {
            "tags": []
          },
          "execution_count": 47
        }
      ]
    },
    {
      "cell_type": "code",
      "metadata": {
        "id": "nNBSOhgzdHaS",
        "colab_type": "code",
        "colab": {}
      },
      "source": [
        "params = {\n",
        "    'n_estimators': 5000,\n",
        "    'max_depth': 7,\n",
        "    'objective':'reg:linear',\n",
        "    'min_child_weight': 4,\n",
        "    'eta': 0.07,\n",
        "    'eval_metric': 'mae',\n",
        "}\n",
        "evals = [(dtrain, 'train'), (dtest, 'test')]\n",
        "\n",
        "evals_result = {}\n",
        "\n",
        "model = xgb.train(\n",
        "    params,\n",
        "    dtrain,\n",
        "    num_boost_round=5000,\n",
        "    evals=evals,\n",
        "    early_stopping_rounds=30,\n",
        "    evals_result=evals_result,\n",
        "        )\n",
        "clear_output()"
      ],
      "execution_count": 48,
      "outputs": []
    },
    {
      "cell_type": "code",
      "metadata": {
        "id": "qH_0Vf7qdUPD",
        "colab_type": "code",
        "colab": {
          "base_uri": "https://localhost:8080/",
          "height": 34
        },
        "outputId": "18077071-ac1d-4d6f-9e5d-863e12bcffb4"
      },
      "source": [
        "y_pred = model.predict(dtest)\n",
        "y_true = y_test.values\n",
        "\n",
        "print('誤差率 : {0:.4f} %'.format(mean_error_rate(y_pred, y_test)))"
      ],
      "execution_count": 49,
      "outputs": [
        {
          "output_type": "stream",
          "text": [
            "誤差率 : 9.3944 %\n"
          ],
          "name": "stdout"
        }
      ]
    },
    {
      "cell_type": "code",
      "metadata": {
        "id": "D8LaN4ILdXA7",
        "colab_type": "code",
        "colab": {
          "base_uri": "https://localhost:8080/",
          "height": 495
        },
        "outputId": "cd3d82e6-a54f-4865-cf32-b78c403385f5"
      },
      "source": [
        "plt.figure(figsize=(12, 8))\n",
        "train_metric = evals_result['train']['mae']\n",
        "plt.plot(train_metric, label='train mae')\n",
        "eval_metric = evals_result['test']['mae']\n",
        "plt.plot(eval_metric, label='test mae', linestyle='dashed')\n",
        "plt.grid()\n",
        "plt.legend()\n",
        "plt.xlabel('学習回数')\n",
        "plt.ylabel('平均絶対誤差')\n",
        "plt.savefig('kodate_learning_curve.png')\n",
        "plt.show()"
      ],
      "execution_count": 50,
      "outputs": [
        {
          "output_type": "display_data",
          "data": {
            "image/png": "[encoded data removed]",
            "text/plain": [
              "<Figure size 864x576 with 1 Axes>"
            ]
          },
          "metadata": {
            "tags": [],
            "needs_background": "light"
          }
        }
      ]
    },
    {
      "cell_type": "code",
      "metadata": {
        "id": "ICzOA5qYdZXk",
        "colab_type": "code",
        "colab": {
          "base_uri": "https://localhost:8080/",
          "height": 945
        },
        "outputId": "c82116bb-f6e4-4c6c-ff92-9f2e9d32c103"
      },
      "source": [
        "_, ax = plt.subplots(figsize=(16, 16))\n",
        "xgb.plot_importance(model, ax=ax,  importance_type='gain', title='項目の重要度',show_values=False)\n",
        "plt.ylabel(\"項目\")\n",
        "plt.savefig('kodate_feature.png')\n",
        "plt.show()"
      ],
      "execution_count": 51,
      "outputs": [
        {
          "output_type": "display_data",
          "data": {
            "image/png": "[encoded data removed]",
            "text/plain": [
              "<Figure size 1152x1152 with 1 Axes>"
            ]
          },
          "metadata": {
            "tags": [],
            "needs_background": "light"
          }
        }
      ]
    },
    {
      "cell_type": "markdown",
      "metadata": {
        "id": "GHQ03o19bMn5",
        "colab_type": "text"
      },
      "source": [
        "## 神奈川のみの場合"
      ]
    },
    {
      "cell_type": "code",
      "metadata": {
        "id": "sjv8Dfo7bU5A",
        "colab_type": "code",
        "colab": {}
      },
      "source": [
        "df_new_kanagawa = df_new[df_new[\"都道府県コード\"] == 14]"
      ],
      "execution_count": 52,
      "outputs": []
    },
    {
      "cell_type": "code",
      "metadata": {
        "id": "tEvvb7NtdzYc",
        "colab_type": "code",
        "colab": {}
      },
      "source": [
        "df_train, df_test = train_test_split(df_new_kanagawa, test_size=0.3, random_state=0)\n",
        "\n",
        "y_train = df_train['ステータス']\n",
        "y_test = df_test['ステータス']\n",
        "x_train = df_train.drop(['ステータス'], axis=1)\n",
        "x_test = df_test.drop(['ステータス'], axis=1)\n",
        "\n",
        "dtrain = xgb.DMatrix(x_train, label=y_train)\n",
        "dtest = xgb.DMatrix(x_test, label=y_test)"
      ],
      "execution_count": 53,
      "outputs": []
    },
    {
      "cell_type": "code",
      "metadata": {
        "id": "H8Ab_ar7d3gQ",
        "colab_type": "code",
        "colab": {
          "base_uri": "https://localhost:8080/",
          "height": 102
        },
        "outputId": "09756caf-8796-4cb2-e8bf-c0f17ceaa677"
      },
      "source": [
        "df_train['ステータス'].value_counts()"
      ],
      "execution_count": 54,
      "outputs": [
        {
          "output_type": "execute_result",
          "data": {
            "text/plain": [
              "1    241\n",
              "2     43\n",
              "3     16\n",
              "4      2\n",
              "Name: ステータス, dtype: int64"
            ]
          },
          "metadata": {
            "tags": []
          },
          "execution_count": 54
        }
      ]
    },
    {
      "cell_type": "code",
      "metadata": {
        "id": "bgYFoFmSd6rK",
        "colab_type": "code",
        "colab": {}
      },
      "source": [
        "params = {\n",
        "    'n_estimators': 5000,\n",
        "    'max_depth': 7,\n",
        "    'objective':'reg:linear',\n",
        "    'min_child_weight': 4,\n",
        "    'eta': 0.07,\n",
        "    'eval_metric': 'mae',\n",
        "}\n",
        "evals = [(dtrain, 'train'), (dtest, 'test')]\n",
        "\n",
        "evals_result = {}\n",
        "\n",
        "model = xgb.train(\n",
        "    params,\n",
        "    dtrain,\n",
        "    num_boost_round=5000,\n",
        "    evals=evals,\n",
        "    early_stopping_rounds=30,\n",
        "    evals_result=evals_result,\n",
        "        )\n",
        "clear_output()"
      ],
      "execution_count": 55,
      "outputs": []
    },
    {
      "cell_type": "code",
      "metadata": {
        "id": "buUPd-3Ld9JK",
        "colab_type": "code",
        "colab": {
          "base_uri": "https://localhost:8080/",
          "height": 34
        },
        "outputId": "fef9fa2d-f758-4afc-cda4-ba60f3d613d6"
      },
      "source": [
        "y_pred = model.predict(dtest)\n",
        "y_true = y_test.values\n",
        "\n",
        "print('誤差率 : {0:.4f} %'.format(mean_error_rate(y_pred, y_test)))"
      ],
      "execution_count": 56,
      "outputs": [
        {
          "output_type": "stream",
          "text": [
            "誤差率 : 22.9770 %\n"
          ],
          "name": "stdout"
        }
      ]
    },
    {
      "cell_type": "code",
      "metadata": {
        "id": "hQ-RgaJVd_Wq",
        "colab_type": "code",
        "colab": {
          "base_uri": "https://localhost:8080/",
          "height": 495
        },
        "outputId": "88634a54-8b1a-4913-bec8-c23fe995ea83"
      },
      "source": [
        "plt.figure(figsize=(12, 8))\n",
        "train_metric = evals_result['train']['mae']\n",
        "plt.plot(train_metric, label='train mae')\n",
        "eval_metric = evals_result['test']['mae']\n",
        "plt.plot(eval_metric, label='test mae', linestyle='dashed')\n",
        "plt.grid()\n",
        "plt.legend()\n",
        "plt.xlabel('学習回数')\n",
        "plt.ylabel('平均絶対誤差')\n",
        "plt.savefig('kodate_learning_curve.png')\n",
        "plt.show()"
      ],
      "execution_count": 57,
      "outputs": [
        {
          "output_type": "display_data",
          "data": {
            "image/png": "[encoded data removed]",
            "text/plain": [
              "<Figure size 864x576 with 1 Axes>"
            ]
          },
          "metadata": {
            "tags": [],
            "needs_background": "light"
          }
        }
      ]
    },
    {
      "cell_type": "code",
      "metadata": {
        "id": "h1O4oPcteBx4",
        "colab_type": "code",
        "colab": {
          "base_uri": "https://localhost:8080/",
          "height": 945
        },
        "outputId": "3e52f715-707f-48b8-bd8b-861cde690c73"
      },
      "source": [
        "_, ax = plt.subplots(figsize=(16, 16))\n",
        "xgb.plot_importance(model, ax=ax,  importance_type='gain', title='項目の重要度',show_values=False)\n",
        "plt.ylabel(\"項目\")\n",
        "plt.savefig('kodate_feature.png')\n",
        "plt.show()"
      ],
      "execution_count": 58,
      "outputs": [
        {
          "output_type": "display_data",
          "data": {
            "image/png": "[encoded data removed]",
            "text/plain": [
              "<Figure size 1152x1152 with 1 Axes>"
            ]
          },
          "metadata": {
            "tags": [],
            "needs_background": "light"
          }
        }
      ]
    },
    {
      "cell_type": "markdown",
      "metadata": {
        "id": "pWWbp5YlbQ3P",
        "colab_type": "text"
      },
      "source": [
        "## 北海道のみの場合"
      ]
    },
    {
      "cell_type": "code",
      "metadata": {
        "id": "xuPuPS9ibUDX",
        "colab_type": "code",
        "colab": {}
      },
      "source": [
        "df_new_hokkaido = df_new[df_new[\"都道府県コード\"] == 1]"
      ],
      "execution_count": 59,
      "outputs": []
    },
    {
      "cell_type": "code",
      "metadata": {
        "id": "fK8KBAikekZh",
        "colab_type": "code",
        "colab": {}
      },
      "source": [
        "df_train, df_test = train_test_split(df_new_hokkaido, test_size=0.3, random_state=0)\n",
        "\n",
        "y_train = df_train['ステータス']\n",
        "y_test = df_test['ステータス']\n",
        "x_train = df_train.drop(['ステータス'], axis=1)\n",
        "x_test = df_test.drop(['ステータス'], axis=1)\n",
        "\n",
        "dtrain = xgb.DMatrix(x_train, label=y_train)\n",
        "dtest = xgb.DMatrix(x_test, label=y_test)"
      ],
      "execution_count": 60,
      "outputs": []
    },
    {
      "cell_type": "code",
      "metadata": {
        "id": "V61IX-MQemru",
        "colab_type": "code",
        "colab": {
          "base_uri": "https://localhost:8080/",
          "height": 102
        },
        "outputId": "c6321642-ea5b-4c06-d29a-ab1d32ebc06e"
      },
      "source": [
        "df_train['ステータス'].value_counts()"
      ],
      "execution_count": 61,
      "outputs": [
        {
          "output_type": "execute_result",
          "data": {
            "text/plain": [
              "1    349\n",
              "2     35\n",
              "3     12\n",
              "4      2\n",
              "Name: ステータス, dtype: int64"
            ]
          },
          "metadata": {
            "tags": []
          },
          "execution_count": 61
        }
      ]
    },
    {
      "cell_type": "code",
      "metadata": {
        "id": "SzVzEQckfj1y",
        "colab_type": "code",
        "colab": {}
      },
      "source": [
        "params = {\n",
        "    'n_estimators': 5000,\n",
        "    'max_depth': 7,\n",
        "    'objective':'reg:linear',\n",
        "    'min_child_weight': 4,\n",
        "    'eta': 0.07,\n",
        "    'eval_metric': 'mae',\n",
        "}\n",
        "evals = [(dtrain, 'train'), (dtest, 'test')]\n",
        "\n",
        "evals_result = {}\n",
        "\n",
        "model = xgb.train(\n",
        "    params,\n",
        "    dtrain,\n",
        "    num_boost_round=5000,\n",
        "    evals=evals,\n",
        "    early_stopping_rounds=30,\n",
        "    evals_result=evals_result,\n",
        "        )\n",
        "clear_output()"
      ],
      "execution_count": 62,
      "outputs": []
    },
    {
      "cell_type": "code",
      "metadata": {
        "id": "ZAksdsQKfmzO",
        "colab_type": "code",
        "colab": {
          "base_uri": "https://localhost:8080/",
          "height": 34
        },
        "outputId": "aa55443a-bb29-49bc-986d-b357c46d5562"
      },
      "source": [
        "y_pred = model.predict(dtest)\n",
        "y_true = y_test.values\n",
        "\n",
        "print('誤差率 : {0:.4f} %'.format(mean_error_rate(y_pred, y_test)))"
      ],
      "execution_count": 63,
      "outputs": [
        {
          "output_type": "stream",
          "text": [
            "誤差率 : 18.0507 %\n"
          ],
          "name": "stdout"
        }
      ]
    },
    {
      "cell_type": "code",
      "metadata": {
        "id": "M1mRRdnjfpLf",
        "colab_type": "code",
        "colab": {
          "base_uri": "https://localhost:8080/",
          "height": 495
        },
        "outputId": "b02fc79b-96aa-4346-df17-958391c85cbd"
      },
      "source": [
        "plt.figure(figsize=(12, 8))\n",
        "train_metric = evals_result['train']['mae']\n",
        "plt.plot(train_metric, label='train mae')\n",
        "eval_metric = evals_result['test']['mae']\n",
        "plt.plot(eval_metric, label='test mae', linestyle='dashed')\n",
        "plt.grid()\n",
        "plt.legend()\n",
        "plt.xlabel('学習回数')\n",
        "plt.ylabel('平均絶対誤差')\n",
        "plt.savefig('kodate_learning_curve.png')\n",
        "plt.show()"
      ],
      "execution_count": 64,
      "outputs": [
        {
          "output_type": "display_data",
          "data": {
            "image/png": "[encoded data removed]",
            "text/plain": [
              "<Figure size 864x576 with 1 Axes>"
            ]
          },
          "metadata": {
            "tags": [],
            "needs_background": "light"
          }
        }
      ]
    },
    {
      "cell_type": "code",
      "metadata": {
        "id": "PBJxOTkofrNE",
        "colab_type": "code",
        "colab": {
          "base_uri": "https://localhost:8080/",
          "height": 945
        },
        "outputId": "a80362e2-2aac-4e71-f4f2-aefa3b31b04c"
      },
      "source": [
        "_, ax = plt.subplots(figsize=(16, 16))\n",
        "xgb.plot_importance(model, ax=ax,  importance_type='gain', title='項目の重要度',show_values=False)\n",
        "plt.ylabel(\"項目\")\n",
        "plt.savefig('kodate_feature.png')\n",
        "plt.show()"
      ],
      "execution_count": 65,
      "outputs": [
        {
          "output_type": "display_data",
          "data": {
            "image/png": "[encoded data removed]",
            "text/plain": [
              "<Figure size 1152x1152 with 1 Axes>"
            ]
          },
          "metadata": {
            "tags": [],
            "needs_background": "light"
          }
        }
      ]
    }
  ]
}