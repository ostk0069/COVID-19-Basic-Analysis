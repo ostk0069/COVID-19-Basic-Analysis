{
  "nbformat": 4,
  "nbformat_minor": 0,
  "metadata": {
    "colab": {
      "name": "signate_phase1_covid19_case_data.ipynb",
      "provenance": [],
      "collapsed_sections": [
        "fpB-BBfORx0E",
        "m7Y4Y7zARRJ8",
        "_gXVTLelRbEO",
        "ycPhjWnUP-BJ"
      ],
      "toc_visible": true,
      "include_colab_link": true
    },
    "kernelspec": {
      "name": "python3",
      "display_name": "Python 3"
    },
    "accelerator": "TPU"
  },
  "cells": [
    {
      "cell_type": "markdown",
      "metadata": {
        "id": "view-in-github",
        "colab_type": "text"
      },
      "source": [
        "<a href=\"https://colab.research.google.com/github/takumaosada/COVID-19-Basic-Analysis/blob/master/signate_phase1_covid19_case_data.ipynb\" target=\"_parent\"><img src=\"https://colab.research.google.com/assets/colab-badge.svg\" alt=\"Open In Colab\"/></a>"
      ]
    },
    {
      "cell_type": "markdown",
      "metadata": {
        "id": "mtmrxiC87dtv",
        "colab_type": "text"
      },
      "source": [
        "# データの確認/読み込み\n"
      ]
    },
    {
      "cell_type": "markdown",
      "metadata": {
        "id": "fpB-BBfORx0E",
        "colab_type": "text"
      },
      "source": [
        "## データの読み込み"
      ]
    },
    {
      "cell_type": "code",
      "metadata": {
        "id": "XF-OZ2xeUVPx",
        "colab_type": "code",
        "colab": {
          "base_uri": "https://localhost:8080/",
          "height": 884
        },
        "outputId": "d5fd42f5-ee77-4f00-b774-996e0326cfbd"
      },
      "source": [
        "!pip install japanize_matplotlib\n",
        "!pip install category_encoders\n",
        "!pip install xgboost\n",
        "!pip install optuna"
      ],
      "execution_count": 1,
      "outputs": [
        {
          "output_type": "stream",
          "text": [
            "Requirement already satisfied: japanize_matplotlib in /usr/local/lib/python3.6/dist-packages (1.1.2)\n",
            "Requirement already satisfied: matplotlib in /usr/local/lib/python3.6/dist-packages (from japanize_matplotlib) (3.2.2)\n",
            "Requirement already satisfied: cycler>=0.10 in /usr/local/lib/python3.6/dist-packages (from matplotlib->japanize_matplotlib) (0.10.0)\n",
            "Requirement already satisfied: python-dateutil>=2.1 in /usr/local/lib/python3.6/dist-packages (from matplotlib->japanize_matplotlib) (2.8.1)\n",
            "Requirement already satisfied: pyparsing!=2.0.4,!=2.1.2,!=2.1.6,>=2.0.1 in /usr/local/lib/python3.6/dist-packages (from matplotlib->japanize_matplotlib) (2.4.7)\n",
            "Requirement already satisfied: numpy>=1.11 in /usr/local/lib/python3.6/dist-packages (from matplotlib->japanize_matplotlib) (1.18.5)\n",
            "Requirement already satisfied: kiwisolver>=1.0.1 in /usr/local/lib/python3.6/dist-packages (from matplotlib->japanize_matplotlib) (1.2.0)\n",
            "Requirement already satisfied: six in /usr/local/lib/python3.6/dist-packages (from cycler>=0.10->matplotlib->japanize_matplotlib) (1.15.0)\n",
            "Requirement already satisfied: category_encoders in /usr/local/lib/python3.6/dist-packages (2.2.2)\n",
            "Requirement already satisfied: scikit-learn>=0.20.0 in /usr/local/lib/python3.6/dist-packages (from category_encoders) (0.22.2.post1)\n",
            "Requirement already satisfied: statsmodels>=0.9.0 in /usr/local/lib/python3.6/dist-packages (from category_encoders) (0.10.2)\n",
            "Requirement already satisfied: numpy>=1.14.0 in /usr/local/lib/python3.6/dist-packages (from category_encoders) (1.18.5)\n",
            "Requirement already satisfied: pandas>=0.21.1 in /usr/local/lib/python3.6/dist-packages (from category_encoders) (1.0.5)\n",
            "Requirement already satisfied: patsy>=0.5.1 in /usr/local/lib/python3.6/dist-packages (from category_encoders) (0.5.1)\n",
            "Requirement already satisfied: scipy>=1.0.0 in /usr/local/lib/python3.6/dist-packages (from category_encoders) (1.4.1)\n",
            "Requirement already satisfied: joblib>=0.11 in /usr/local/lib/python3.6/dist-packages (from scikit-learn>=0.20.0->category_encoders) (0.16.0)\n",
            "Requirement already satisfied: python-dateutil>=2.6.1 in /usr/local/lib/python3.6/dist-packages (from pandas>=0.21.1->category_encoders) (2.8.1)\n",
            "Requirement already satisfied: pytz>=2017.2 in /usr/local/lib/python3.6/dist-packages (from pandas>=0.21.1->category_encoders) (2018.9)\n",
            "Requirement already satisfied: six in /usr/local/lib/python3.6/dist-packages (from patsy>=0.5.1->category_encoders) (1.15.0)\n",
            "Requirement already satisfied: xgboost in /usr/local/lib/python3.6/dist-packages (0.90)\n",
            "Requirement already satisfied: scipy in /usr/local/lib/python3.6/dist-packages (from xgboost) (1.4.1)\n",
            "Requirement already satisfied: numpy in /usr/local/lib/python3.6/dist-packages (from xgboost) (1.18.5)\n",
            "Requirement already satisfied: optuna in /usr/local/lib/python3.6/dist-packages (2.1.0)\n",
            "Requirement already satisfied: scipy!=1.4.0 in /usr/local/lib/python3.6/dist-packages (from optuna) (1.4.1)\n",
            "Requirement already satisfied: numpy in /usr/local/lib/python3.6/dist-packages (from optuna) (1.18.5)\n",
            "Requirement already satisfied: tqdm in /usr/local/lib/python3.6/dist-packages (from optuna) (4.41.1)\n",
            "Requirement already satisfied: colorlog in /usr/local/lib/python3.6/dist-packages (from optuna) (4.2.1)\n",
            "Requirement already satisfied: packaging>=20.0 in /usr/local/lib/python3.6/dist-packages (from optuna) (20.4)\n",
            "Requirement already satisfied: alembic in /usr/local/lib/python3.6/dist-packages (from optuna) (1.4.3)\n",
            "Requirement already satisfied: cmaes>=0.6.0 in /usr/local/lib/python3.6/dist-packages (from optuna) (0.6.1)\n",
            "Requirement already satisfied: cliff in /usr/local/lib/python3.6/dist-packages (from optuna) (3.4.0)\n",
            "Requirement already satisfied: sqlalchemy>=1.1.0 in /usr/local/lib/python3.6/dist-packages (from optuna) (1.3.19)\n",
            "Requirement already satisfied: joblib in /usr/local/lib/python3.6/dist-packages (from optuna) (0.16.0)\n",
            "Requirement already satisfied: pyparsing>=2.0.2 in /usr/local/lib/python3.6/dist-packages (from packaging>=20.0->optuna) (2.4.7)\n",
            "Requirement already satisfied: six in /usr/local/lib/python3.6/dist-packages (from packaging>=20.0->optuna) (1.15.0)\n",
            "Requirement already satisfied: python-editor>=0.3 in /usr/local/lib/python3.6/dist-packages (from alembic->optuna) (1.0.4)\n",
            "Requirement already satisfied: python-dateutil in /usr/local/lib/python3.6/dist-packages (from alembic->optuna) (2.8.1)\n",
            "Requirement already satisfied: Mako in /usr/local/lib/python3.6/dist-packages (from alembic->optuna) (1.1.3)\n",
            "Requirement already satisfied: PrettyTable<0.8,>=0.7.2 in /usr/local/lib/python3.6/dist-packages (from cliff->optuna) (0.7.2)\n",
            "Requirement already satisfied: PyYAML>=3.12 in /usr/local/lib/python3.6/dist-packages (from cliff->optuna) (3.13)\n",
            "Requirement already satisfied: pbr!=2.1.0,>=2.0.0 in /usr/local/lib/python3.6/dist-packages (from cliff->optuna) (5.5.0)\n",
            "Requirement already satisfied: cmd2!=0.8.3,>=0.8.0 in /usr/local/lib/python3.6/dist-packages (from cliff->optuna) (1.3.10)\n",
            "Requirement already satisfied: stevedore>=2.0.1 in /usr/local/lib/python3.6/dist-packages (from cliff->optuna) (3.2.2)\n",
            "Requirement already satisfied: MarkupSafe>=0.9.2 in /usr/local/lib/python3.6/dist-packages (from Mako->alembic->optuna) (1.1.1)\n",
            "Requirement already satisfied: attrs>=16.3.0 in /usr/local/lib/python3.6/dist-packages (from cmd2!=0.8.3,>=0.8.0->cliff->optuna) (20.2.0)\n",
            "Requirement already satisfied: setuptools>=34.4 in /usr/local/lib/python3.6/dist-packages (from cmd2!=0.8.3,>=0.8.0->cliff->optuna) (50.3.0)\n",
            "Requirement already satisfied: importlib-metadata>=1.6.0; python_version < \"3.8\" in /usr/local/lib/python3.6/dist-packages (from cmd2!=0.8.3,>=0.8.0->cliff->optuna) (1.7.0)\n",
            "Requirement already satisfied: colorama>=0.3.7 in /usr/local/lib/python3.6/dist-packages (from cmd2!=0.8.3,>=0.8.0->cliff->optuna) (0.4.3)\n",
            "Requirement already satisfied: wcwidth>=0.1.7 in /usr/local/lib/python3.6/dist-packages (from cmd2!=0.8.3,>=0.8.0->cliff->optuna) (0.2.5)\n",
            "Requirement already satisfied: pyperclip>=1.6 in /usr/local/lib/python3.6/dist-packages (from cmd2!=0.8.3,>=0.8.0->cliff->optuna) (1.8.0)\n",
            "Requirement already satisfied: zipp>=0.5 in /usr/local/lib/python3.6/dist-packages (from importlib-metadata>=1.6.0; python_version < \"3.8\"->cmd2!=0.8.3,>=0.8.0->cliff->optuna) (3.1.0)\n"
          ],
          "name": "stdout"
        }
      ]
    },
    {
      "cell_type": "code",
      "metadata": {
        "id": "9YHwYlTy6t0e",
        "colab_type": "code",
        "colab": {
          "base_uri": "https://localhost:8080/",
          "height": 258
        },
        "outputId": "c770fcae-f486-40f8-d6ae-ba8d75884713"
      },
      "source": [
        "from IPython.core.interactiveshell import InteractiveShell\n",
        "InteractiveShell.ast_node_interactivity = \"all\"\n",
        "import pandas as pd\n",
        "import numpy as np \n",
        "import matplotlib.pyplot as plt\n",
        "import seaborn as sns\n",
        "%matplotlib inline\n",
        "import japanize_matplotlib\n",
        "import category_encoders as ce\n",
        "import gspread\n",
        "import re\n",
        "import itertools\n",
        "from sklearn.model_selection import KFold, StratifiedKFold, cross_val_score, train_test_split, GridSearchCV, learning_curve, BaseCrossValidator\n",
        "from sklearn import metrics\n",
        "from sklearn.metrics import accuracy_score, mean_squared_error, mean_absolute_error, roc_curve\n",
        "from sklearn.calibration import calibration_curve\n",
        "from sklearn.linear_model import LogisticRegression\n",
        "from oauth2client.client import GoogleCredentials\n",
        "from google.colab import auth\n",
        "import warnings\n",
        "import xgboost as xgb\n",
        "from IPython.display import clear_output\n",
        "import optuna\n",
        "import functools\n",
        "import lightgbm as lgb\n",
        "from imblearn.under_sampling import RandomUnderSampler\n",
        "from imblearn.over_sampling import SMOTE\n",
        "auth.authenticate_user()"
      ],
      "execution_count": 2,
      "outputs": [
        {
          "output_type": "stream",
          "text": [
            "/usr/local/lib/python3.6/dist-packages/statsmodels/tools/_testing.py:19: FutureWarning: pandas.util.testing is deprecated. Use the functions in the public API at pandas.testing instead.\n",
            "  import pandas.util.testing as tm\n",
            "/usr/local/lib/python3.6/dist-packages/japanize_matplotlib/japanize_matplotlib.py:15: MatplotlibDeprecationWarning: \n",
            "The createFontList function was deprecated in Matplotlib 3.2 and will be removed two minor releases later. Use FontManager.addfont instead.\n",
            "  font_list = font_manager.createFontList(font_files)\n",
            "/usr/local/lib/python3.6/dist-packages/sklearn/externals/six.py:31: FutureWarning:\n",
            "\n",
            "The module is deprecated in version 0.21 and will be removed in version 0.23 since we've dropped support for Python 2.7. Please rely on the official version of six (https://pypi.org/project/six/).\n",
            "\n",
            "/usr/local/lib/python3.6/dist-packages/sklearn/utils/deprecation.py:144: FutureWarning:\n",
            "\n",
            "The sklearn.neighbors.base module is  deprecated in version 0.22 and will be removed in version 0.24. The corresponding classes / functions should instead be imported from sklearn.neighbors. Anything that cannot be imported from sklearn.neighbors is now part of the private API.\n",
            "\n"
          ],
          "name": "stderr"
        }
      ]
    },
    {
      "cell_type": "code",
      "metadata": {
        "id": "Mr2Pj73q69xp",
        "colab_type": "code",
        "colab": {}
      },
      "source": [
        "gc = gspread.authorize(GoogleCredentials.get_application_default())"
      ],
      "execution_count": 3,
      "outputs": []
    },
    {
      "cell_type": "code",
      "metadata": {
        "id": "eIMlXaj-7GOe",
        "colab_type": "code",
        "colab": {}
      },
      "source": [
        "singatecasefilelink='https://docs.google.com/spreadsheets/d/1VLSA8q2zPCbaTDXXcMsxK0HRZlFRVH7_x0rLd4Z7Jk8/edit#gid=960903158'\n",
        "book = gc.open_by_url(singatecasefilelink)\n",
        "casedata = book.worksheet('罹患者').get_all_values()\n",
        "casedf = pd.DataFrame(casedata)"
      ],
      "execution_count": 4,
      "outputs": []
    },
    {
      "cell_type": "code",
      "metadata": {
        "id": "3cJajGPe7Vdt",
        "colab_type": "code",
        "colab": {
          "base_uri": "https://localhost:8080/",
          "height": 901
        },
        "outputId": "eeac89fa-ef77-4db9-b302-b34a3972d841"
      },
      "source": [
        "#データフレームを整理していく\n",
        "area_dict = dict(zip(casedf.index, casedf.iloc[0]))\n",
        "renamed_df = casedf.rename(columns=area_dict)\n",
        "df = renamed_df.drop(0)\n",
        "df =df.drop_duplicates()\n",
        "df.drop(df.index[-1]).tail()"
      ],
      "execution_count": 5,
      "outputs": [
        {
          "output_type": "execute_result",
          "data": {
            "text/html": [
              "<div>\n",
              "<style scoped>\n",
              "    .dataframe tbody tr th:only-of-type {\n",
              "        vertical-align: middle;\n",
              "    }\n",
              "\n",
              "    .dataframe tbody tr th {\n",
              "        vertical-align: top;\n",
              "    }\n",
              "\n",
              "    .dataframe thead th {\n",
              "        text-align: right;\n",
              "    }\n",
              "</style>\n",
              "<table border=\"1\" class=\"dataframe\">\n",
              "  <thead>\n",
              "    <tr style=\"text-align: right;\">\n",
              "      <th></th>\n",
              "      <th>都道府県コード</th>\n",
              "      <th>症例番号</th>\n",
              "      <th>都道府県症例番号</th>\n",
              "      <th>発症日</th>\n",
              "      <th>確定日</th>\n",
              "      <th>公表日</th>\n",
              "      <th>受診都道府県</th>\n",
              "      <th>居住都道府県</th>\n",
              "      <th>居住市区町村</th>\n",
              "      <th>年代</th>\n",
              "      <th>性別</th>\n",
              "      <th>職業</th>\n",
              "      <th>ステータス</th>\n",
              "      <th>退院済ﾌﾗｸﾞ</th>\n",
              "      <th>基礎疾患ﾌﾗｸﾞ</th>\n",
              "      <th>症状・経過</th>\n",
              "      <th>症状一覧</th>\n",
              "      <th>行動歴</th>\n",
              "      <th>濃厚接触者状況</th>\n",
              "      <th>濃厚接触場所</th>\n",
              "      <th>海外渡航歴ﾌﾗｸﾞ</th>\n",
              "      <th>ﾀﾞｲﾔﾓﾝﾄﾞﾌﾟﾘﾝｾｽ号乗船ﾌﾗｸﾞ</th>\n",
              "      <th>情報源</th>\n",
              "      <th>備考</th>\n",
              "      <th>罹患者関係_記入済ﾌﾗｸﾞ</th>\n",
              "      <th>罹患者トランザクション_記入済ﾌﾗｸﾞ</th>\n",
              "      <th>Relation1</th>\n",
              "      <th>Relation2</th>\n",
              "      <th>Transaction</th>\n",
              "    </tr>\n",
              "  </thead>\n",
              "  <tbody>\n",
              "    <tr>\n",
              "      <th>16156</th>\n",
              "      <td>50</td>\n",
              "      <td>1</td>\n",
              "      <td>50-1</td>\n",
              "      <td></td>\n",
              "      <td></td>\n",
              "      <td></td>\n",
              "      <td>中部国際空港</td>\n",
              "      <td></td>\n",
              "      <td></td>\n",
              "      <td></td>\n",
              "      <td></td>\n",
              "      <td></td>\n",
              "      <td></td>\n",
              "      <td></td>\n",
              "      <td></td>\n",
              "      <td></td>\n",
              "      <td></td>\n",
              "      <td></td>\n",
              "      <td></td>\n",
              "      <td></td>\n",
              "      <td></td>\n",
              "      <td></td>\n",
              "      <td></td>\n",
              "      <td></td>\n",
              "      <td>0</td>\n",
              "      <td>0</td>\n",
              "      <td></td>\n",
              "      <td></td>\n",
              "      <td></td>\n",
              "    </tr>\n",
              "    <tr>\n",
              "      <th>16157</th>\n",
              "      <td>51</td>\n",
              "      <td>27</td>\n",
              "      <td>51-27</td>\n",
              "      <td></td>\n",
              "      <td>2020/03/27</td>\n",
              "      <td></td>\n",
              "      <td>関西国際空港</td>\n",
              "      <td>不明</td>\n",
              "      <td></td>\n",
              "      <td>20 - 29</td>\n",
              "      <td>男性</td>\n",
              "      <td></td>\n",
              "      <td>無症状</td>\n",
              "      <td>0</td>\n",
              "      <td></td>\n",
              "      <td></td>\n",
              "      <td></td>\n",
              "      <td></td>\n",
              "      <td></td>\n",
              "      <td></td>\n",
              "      <td></td>\n",
              "      <td></td>\n",
              "      <td>https://www.mhlw.go.jp/stf/newpage_10539.html</td>\n",
              "      <td></td>\n",
              "      <td>0</td>\n",
              "      <td>0</td>\n",
              "      <td></td>\n",
              "      <td></td>\n",
              "      <td></td>\n",
              "    </tr>\n",
              "    <tr>\n",
              "      <th>16158</th>\n",
              "      <td>51</td>\n",
              "      <td>28</td>\n",
              "      <td>51-28</td>\n",
              "      <td></td>\n",
              "      <td>2020/03/27</td>\n",
              "      <td></td>\n",
              "      <td>関西国際空港</td>\n",
              "      <td>兵庫県</td>\n",
              "      <td></td>\n",
              "      <td>非公表</td>\n",
              "      <td>男性</td>\n",
              "      <td></td>\n",
              "      <td>無症状</td>\n",
              "      <td>0</td>\n",
              "      <td></td>\n",
              "      <td></td>\n",
              "      <td></td>\n",
              "      <td></td>\n",
              "      <td></td>\n",
              "      <td></td>\n",
              "      <td></td>\n",
              "      <td></td>\n",
              "      <td>https://www.mhlw.go.jp/stf/newpage_10539.html</td>\n",
              "      <td></td>\n",
              "      <td>0</td>\n",
              "      <td>0</td>\n",
              "      <td></td>\n",
              "      <td></td>\n",
              "      <td></td>\n",
              "    </tr>\n",
              "    <tr>\n",
              "      <th>16159</th>\n",
              "      <td>51</td>\n",
              "      <td>52</td>\n",
              "      <td>51-52</td>\n",
              "      <td></td>\n",
              "      <td>2020/03/30</td>\n",
              "      <td></td>\n",
              "      <td>関西国際空港</td>\n",
              "      <td>不明</td>\n",
              "      <td></td>\n",
              "      <td>30 - 39</td>\n",
              "      <td>男性</td>\n",
              "      <td></td>\n",
              "      <td>無症状</td>\n",
              "      <td>0</td>\n",
              "      <td></td>\n",
              "      <td></td>\n",
              "      <td></td>\n",
              "      <td></td>\n",
              "      <td></td>\n",
              "      <td></td>\n",
              "      <td></td>\n",
              "      <td></td>\n",
              "      <td>https://www.mhlw.go.jp/stf/newpage_10638.html</td>\n",
              "      <td>3/29ドイツから帰国</td>\n",
              "      <td>0</td>\n",
              "      <td>0</td>\n",
              "      <td></td>\n",
              "      <td></td>\n",
              "      <td></td>\n",
              "    </tr>\n",
              "    <tr>\n",
              "      <th>16160</th>\n",
              "      <td>51</td>\n",
              "      <td>53</td>\n",
              "      <td>51-53</td>\n",
              "      <td></td>\n",
              "      <td>2020/03/30</td>\n",
              "      <td></td>\n",
              "      <td>関西国際空港</td>\n",
              "      <td>不明</td>\n",
              "      <td></td>\n",
              "      <td>40 - 49</td>\n",
              "      <td>男性</td>\n",
              "      <td></td>\n",
              "      <td>無症状</td>\n",
              "      <td>0</td>\n",
              "      <td></td>\n",
              "      <td></td>\n",
              "      <td></td>\n",
              "      <td></td>\n",
              "      <td></td>\n",
              "      <td></td>\n",
              "      <td></td>\n",
              "      <td></td>\n",
              "      <td>https://www.mhlw.go.jp/stf/newpage_10638.html</td>\n",
              "      <td>3/29オランダから帰国</td>\n",
              "      <td>0</td>\n",
              "      <td>0</td>\n",
              "      <td></td>\n",
              "      <td></td>\n",
              "      <td></td>\n",
              "    </tr>\n",
              "  </tbody>\n",
              "</table>\n",
              "</div>"
            ],
            "text/plain": [
              "      都道府県コード 症例番号 都道府県症例番号  ... Relation1 Relation2 Transaction\n",
              "16156      50    1     50-1  ...                                \n",
              "16157      51   27    51-27  ...                                \n",
              "16158      51   28    51-28  ...                                \n",
              "16159      51   52    51-52  ...                                \n",
              "16160      51   53    51-53  ...                                \n",
              "\n",
              "[5 rows x 29 columns]"
            ]
          },
          "metadata": {
            "tags": []
          },
          "execution_count": 5
        }
      ]
    },
    {
      "cell_type": "markdown",
      "metadata": {
        "id": "m7Y4Y7zARRJ8",
        "colab_type": "text"
      },
      "source": [
        "## データの確認"
      ]
    },
    {
      "cell_type": "code",
      "metadata": {
        "id": "VC8p_XOR9tpy",
        "colab_type": "code",
        "colab": {
          "base_uri": "https://localhost:8080/",
          "height": 0
        },
        "outputId": "22000c1a-46f7-4669-91c3-69fa2c3d9e97"
      },
      "source": [
        "df.describe()"
      ],
      "execution_count": 6,
      "outputs": [
        {
          "output_type": "execute_result",
          "data": {
            "text/html": [
              "<div>\n",
              "<style scoped>\n",
              "    .dataframe tbody tr th:only-of-type {\n",
              "        vertical-align: middle;\n",
              "    }\n",
              "\n",
              "    .dataframe tbody tr th {\n",
              "        vertical-align: top;\n",
              "    }\n",
              "\n",
              "    .dataframe thead th {\n",
              "        text-align: right;\n",
              "    }\n",
              "</style>\n",
              "<table border=\"1\" class=\"dataframe\">\n",
              "  <thead>\n",
              "    <tr style=\"text-align: right;\">\n",
              "      <th></th>\n",
              "      <th>都道府県コード</th>\n",
              "      <th>症例番号</th>\n",
              "      <th>都道府県症例番号</th>\n",
              "      <th>発症日</th>\n",
              "      <th>確定日</th>\n",
              "      <th>公表日</th>\n",
              "      <th>受診都道府県</th>\n",
              "      <th>居住都道府県</th>\n",
              "      <th>居住市区町村</th>\n",
              "      <th>年代</th>\n",
              "      <th>性別</th>\n",
              "      <th>職業</th>\n",
              "      <th>ステータス</th>\n",
              "      <th>退院済ﾌﾗｸﾞ</th>\n",
              "      <th>基礎疾患ﾌﾗｸﾞ</th>\n",
              "      <th>症状・経過</th>\n",
              "      <th>症状一覧</th>\n",
              "      <th>行動歴</th>\n",
              "      <th>濃厚接触者状況</th>\n",
              "      <th>濃厚接触場所</th>\n",
              "      <th>海外渡航歴ﾌﾗｸﾞ</th>\n",
              "      <th>ﾀﾞｲﾔﾓﾝﾄﾞﾌﾟﾘﾝｾｽ号乗船ﾌﾗｸﾞ</th>\n",
              "      <th>情報源</th>\n",
              "      <th>備考</th>\n",
              "      <th>罹患者関係_記入済ﾌﾗｸﾞ</th>\n",
              "      <th>罹患者トランザクション_記入済ﾌﾗｸﾞ</th>\n",
              "      <th>Relation1</th>\n",
              "      <th>Relation2</th>\n",
              "      <th>Transaction</th>\n",
              "    </tr>\n",
              "  </thead>\n",
              "  <tbody>\n",
              "    <tr>\n",
              "      <th>count</th>\n",
              "      <td>16161</td>\n",
              "      <td>16161</td>\n",
              "      <td>16161</td>\n",
              "      <td>16161</td>\n",
              "      <td>16161</td>\n",
              "      <td>16161</td>\n",
              "      <td>16161</td>\n",
              "      <td>16161</td>\n",
              "      <td>16161</td>\n",
              "      <td>16161</td>\n",
              "      <td>16161</td>\n",
              "      <td>16161</td>\n",
              "      <td>16161</td>\n",
              "      <td>16161</td>\n",
              "      <td>16161</td>\n",
              "      <td>16161</td>\n",
              "      <td>16161</td>\n",
              "      <td>16161</td>\n",
              "      <td>16161</td>\n",
              "      <td>16161</td>\n",
              "      <td>16161</td>\n",
              "      <td>16161</td>\n",
              "      <td>16161</td>\n",
              "      <td>16161</td>\n",
              "      <td>16161</td>\n",
              "      <td>16161</td>\n",
              "      <td>16161</td>\n",
              "      <td>16161</td>\n",
              "      <td>16161</td>\n",
              "    </tr>\n",
              "    <tr>\n",
              "      <th>unique</th>\n",
              "      <td>51</td>\n",
              "      <td>5175</td>\n",
              "      <td>16158</td>\n",
              "      <td>218</td>\n",
              "      <td>176</td>\n",
              "      <td>178</td>\n",
              "      <td>51</td>\n",
              "      <td>73</td>\n",
              "      <td>791</td>\n",
              "      <td>12</td>\n",
              "      <td>6</td>\n",
              "      <td>121</td>\n",
              "      <td>8</td>\n",
              "      <td>6</td>\n",
              "      <td>6</td>\n",
              "      <td>5995</td>\n",
              "      <td>1812</td>\n",
              "      <td>2907</td>\n",
              "      <td>3984</td>\n",
              "      <td>226</td>\n",
              "      <td>9</td>\n",
              "      <td>4</td>\n",
              "      <td>3232</td>\n",
              "      <td>1336</td>\n",
              "      <td>2</td>\n",
              "      <td>2</td>\n",
              "      <td>1810</td>\n",
              "      <td>3164</td>\n",
              "      <td>229</td>\n",
              "    </tr>\n",
              "    <tr>\n",
              "      <th>top</th>\n",
              "      <td>13</td>\n",
              "      <td>1</td>\n",
              "      <td>12-621</td>\n",
              "      <td>非公表</td>\n",
              "      <td></td>\n",
              "      <td>2020/04/11</td>\n",
              "      <td>東京都</td>\n",
              "      <td>東京都</td>\n",
              "      <td></td>\n",
              "      <td>50 - 59</td>\n",
              "      <td>男性</td>\n",
              "      <td></td>\n",
              "      <td></td>\n",
              "      <td></td>\n",
              "      <td></td>\n",
              "      <td></td>\n",
              "      <td></td>\n",
              "      <td></td>\n",
              "      <td></td>\n",
              "      <td></td>\n",
              "      <td></td>\n",
              "      <td></td>\n",
              "      <td></td>\n",
              "      <td></td>\n",
              "      <td>0</td>\n",
              "      <td>0</td>\n",
              "      <td></td>\n",
              "      <td></td>\n",
              "      <td></td>\n",
              "    </tr>\n",
              "    <tr>\n",
              "      <th>freq</th>\n",
              "      <td>5162</td>\n",
              "      <td>47</td>\n",
              "      <td>2</td>\n",
              "      <td>5205</td>\n",
              "      <td>4784</td>\n",
              "      <td>674</td>\n",
              "      <td>5162</td>\n",
              "      <td>3836</td>\n",
              "      <td>4638</td>\n",
              "      <td>2636</td>\n",
              "      <td>8682</td>\n",
              "      <td>6541</td>\n",
              "      <td>9412</td>\n",
              "      <td>8836</td>\n",
              "      <td>11928</td>\n",
              "      <td>8179</td>\n",
              "      <td>10814</td>\n",
              "      <td>9974</td>\n",
              "      <td>8403</td>\n",
              "      <td>12728</td>\n",
              "      <td>10125</td>\n",
              "      <td>10885</td>\n",
              "      <td>4091</td>\n",
              "      <td>12960</td>\n",
              "      <td>11871</td>\n",
              "      <td>15934</td>\n",
              "      <td>12343</td>\n",
              "      <td>12344</td>\n",
              "      <td>13890</td>\n",
              "    </tr>\n",
              "  </tbody>\n",
              "</table>\n",
              "</div>"
            ],
            "text/plain": [
              "       都道府県コード   症例番号 都道府県症例番号  ... Relation1 Relation2 Transaction\n",
              "count    16161  16161    16161  ...     16161     16161       16161\n",
              "unique      51   5175    16158  ...      1810      3164         229\n",
              "top         13      1   12-621  ...                                \n",
              "freq      5162     47        2  ...     12343     12344       13890\n",
              "\n",
              "[4 rows x 29 columns]"
            ]
          },
          "metadata": {
            "tags": []
          },
          "execution_count": 6
        }
      ]
    },
    {
      "cell_type": "markdown",
      "metadata": {
        "id": "_gXVTLelRbEO",
        "colab_type": "text"
      },
      "source": [
        "## データクリーニング\n"
      ]
    },
    {
      "cell_type": "code",
      "metadata": {
        "id": "uzIOpZYtpe5j",
        "colab_type": "code",
        "colab": {}
      },
      "source": [
        "#性別でのデータクリーニングを行う\n",
        "df = df[(df['性別'] == \"男性\") | (df['性別'] == '女性')]\n",
        "#年代でのデータクリーニングを行う\n",
        "df = df[(df['年代'] != \"51 - 59\") & (df['年代'] != '非公表') & (df['年代'] != '')]"
      ],
      "execution_count": 7,
      "outputs": []
    },
    {
      "cell_type": "code",
      "metadata": {
        "id": "2lNULT40nIY3",
        "colab_type": "code",
        "colab": {}
      },
      "source": [
        "#性別をencodeする\n",
        "import category_encoders as ce\n",
        "df_gender = df['性別']\n",
        "list_cols = ['性別']\n",
        "ce_ohe = ce.OrdinalEncoder(cols=list_cols,handle_unknown='impute')\n",
        "df['性別'] = ce_ohe.fit_transform(df_gender)"
      ],
      "execution_count": 8,
      "outputs": []
    },
    {
      "cell_type": "code",
      "metadata": {
        "id": "XmwV5Muv3MSM",
        "colab_type": "code",
        "colab": {}
      },
      "source": [
        "#年代をencodeする\n",
        "df_age = df['年代']\n",
        "list_cols = ['年代']\n",
        "ce_ohe = ce.OrdinalEncoder(cols=list_cols,handle_unknown='impute')\n",
        "df['年代'] = ce_ohe.fit_transform(df_age)"
      ],
      "execution_count": 9,
      "outputs": []
    },
    {
      "cell_type": "markdown",
      "metadata": {
        "id": "ycPhjWnUP-BJ",
        "colab_type": "text"
      },
      "source": [
        "## 症状のデータの読み込み"
      ]
    },
    {
      "cell_type": "code",
      "metadata": {
        "id": "uEZele4LQB0o",
        "colab_type": "code",
        "colab": {}
      },
      "source": [
        "singatecasefilelink='https://docs.google.com/spreadsheets/d/1tnxt17rtmFnG4UNX8DXVXGUhCcL7-cXHE3hhoOpvfsk/edit#gid=577718303'\n",
        "symptom_book = gc.open_by_url(singatecasefilelink)\n",
        "symptom_data = symptom_book.worksheet('症状').get_all_values()\n",
        "symptomdf = pd.DataFrame(symptom_data)"
      ],
      "execution_count": 10,
      "outputs": []
    },
    {
      "cell_type": "code",
      "metadata": {
        "id": "IKZh5wVTQWBU",
        "colab_type": "code",
        "colab": {
          "base_uri": "https://localhost:8080/",
          "height": 0
        },
        "outputId": "3b26f7a8-7c05-488f-e3f7-2f854cd8ce10"
      },
      "source": [
        "area_dict = dict(zip(symptomdf.index, symptomdf.iloc[0]))\n",
        "renamed_df = symptomdf.rename(columns=area_dict)\n",
        "symptomdf = renamed_df.drop(0)\n",
        "symptomdf =symptomdf.drop_duplicates()\n",
        "symptomdf.drop(symptomdf.index[-1]).tail()"
      ],
      "execution_count": 11,
      "outputs": [
        {
          "output_type": "execute_result",
          "data": {
            "text/html": [
              "<div>\n",
              "<style scoped>\n",
              "    .dataframe tbody tr th:only-of-type {\n",
              "        vertical-align: middle;\n",
              "    }\n",
              "\n",
              "    .dataframe tbody tr th {\n",
              "        vertical-align: top;\n",
              "    }\n",
              "\n",
              "    .dataframe thead th {\n",
              "        text-align: right;\n",
              "    }\n",
              "</style>\n",
              "<table border=\"1\" class=\"dataframe\">\n",
              "  <thead>\n",
              "    <tr style=\"text-align: right;\">\n",
              "      <th></th>\n",
              "      <th>都道府県コード</th>\n",
              "      <th>症例番号</th>\n",
              "      <th>都道府県症例番号</th>\n",
              "      <th>症状・経過</th>\n",
              "      <th>日付</th>\n",
              "      <th>症状</th>\n",
              "      <th>確認済ﾌﾗｸﾞ</th>\n",
              "    </tr>\n",
              "  </thead>\n",
              "  <tbody>\n",
              "    <tr>\n",
              "      <th>111834</th>\n",
              "      <td></td>\n",
              "      <td></td>\n",
              "      <td></td>\n",
              "      <td></td>\n",
              "      <td>2020/07/30</td>\n",
              "      <td>icd=R448;鼻閉</td>\n",
              "      <td></td>\n",
              "    </tr>\n",
              "    <tr>\n",
              "      <th>111836</th>\n",
              "      <td>16</td>\n",
              "      <td>242</td>\n",
              "      <td>16-242</td>\n",
              "      <td>７月２９日 発熱が出現\\r\\n７月３０日 嘔吐\\r\\n７月３１日 医療機関を受診し、ＰＣＲ検...</td>\n",
              "      <td>-</td>\n",
              "      <td>-</td>\n",
              "      <td>-</td>\n",
              "    </tr>\n",
              "    <tr>\n",
              "      <th>111838</th>\n",
              "      <td></td>\n",
              "      <td></td>\n",
              "      <td></td>\n",
              "      <td></td>\n",
              "      <td>2020/07/30</td>\n",
              "      <td>icd=R11;嘔吐症</td>\n",
              "      <td></td>\n",
              "    </tr>\n",
              "    <tr>\n",
              "      <th>111840</th>\n",
              "      <td></td>\n",
              "      <td></td>\n",
              "      <td></td>\n",
              "      <td></td>\n",
              "      <td>2020/08/01</td>\n",
              "      <td>icd=M2559;関節痛</td>\n",
              "      <td></td>\n",
              "    </tr>\n",
              "    <tr>\n",
              "      <th>111842</th>\n",
              "      <td>16</td>\n",
              "      <td>243</td>\n",
              "      <td>16-243</td>\n",
              "      <td>７月２５日（土）、２６日（日）三重県事例と接触\\r\\n７月２６日（日） 三重県事例が発症\\r...</td>\n",
              "      <td>-</td>\n",
              "      <td>-</td>\n",
              "      <td>-</td>\n",
              "    </tr>\n",
              "  </tbody>\n",
              "</table>\n",
              "</div>"
            ],
            "text/plain": [
              "       都道府県コード 症例番号 都道府県症例番号  ...          日付             症状 確認済ﾌﾗｸﾞ\n",
              "111834                        ...  2020/07/30    icd=R448;鼻閉        \n",
              "111836      16  242   16-242  ...           -              -       -\n",
              "111838                        ...  2020/07/30    icd=R11;嘔吐症        \n",
              "111840                        ...  2020/08/01  icd=M2559;関節痛        \n",
              "111842      16  243   16-243  ...           -              -       -\n",
              "\n",
              "[5 rows x 7 columns]"
            ]
          },
          "metadata": {
            "tags": []
          },
          "execution_count": 11
        }
      ]
    },
    {
      "cell_type": "code",
      "metadata": {
        "id": "CiLvrlWgRHgx",
        "colab_type": "code",
        "colab": {}
      },
      "source": [
        "symptomdf = symptomdf[(symptomdf['症状'] != \"-\")]"
      ],
      "execution_count": 12,
      "outputs": []
    },
    {
      "cell_type": "code",
      "metadata": {
        "id": "W1EzMtolRq9x",
        "colab_type": "code",
        "colab": {}
      },
      "source": [
        "symptoms = symptomdf[\"症状\"].unique()\n",
        "symptoms_list = list()\n",
        "for element in symptoms:\n",
        "  elements = re.split('[;，]', element)\n",
        "  symptoms_list.append(elements)"
      ],
      "execution_count": 13,
      "outputs": []
    },
    {
      "cell_type": "code",
      "metadata": {
        "id": "UM94FIp1SCnh",
        "colab_type": "code",
        "colab": {}
      },
      "source": [
        "unique_symptons_list = list(itertools.chain.from_iterable(symptoms_list))\n",
        "unique_symptons_list = list(set(unique_symptons_list))"
      ],
      "execution_count": 14,
      "outputs": []
    },
    {
      "cell_type": "code",
      "metadata": {
        "id": "m5zPRgMtSQ4G",
        "colab_type": "code",
        "colab": {}
      },
      "source": [
        "#不要な要素を取り除く\n",
        "# 検査しないとわからない項目は取り除く\n",
        "# 今回は死亡、受診、入院、退院、肺炎を取り除く\n",
        "# 追加で呼吸困難は影響が大きすぎるので排除する\n",
        "cleaned_symptoms_list = list()\n",
        "for element in unique_symptons_list:\n",
        "  if not (\"icd\" in element or \"受診\" in element or \"死亡\" in element):\n",
        "    if not (\"入院\" in element or \"肺炎\" in element or \"退院\" in element or \"呼吸困難\" in element):\n",
        "        cleaned_symptoms_list.append(element)"
      ],
      "execution_count": 15,
      "outputs": []
    },
    {
      "cell_type": "code",
      "metadata": {
        "id": "jL5ZbJ5cShDp",
        "colab_type": "code",
        "colab": {
          "base_uri": "https://localhost:8080/",
          "height": 0
        },
        "outputId": "a2c09f00-c01e-42b8-dd7d-2749ebfeeac3"
      },
      "source": [
        "cleaned_symptoms_list"
      ],
      "execution_count": 16,
      "outputs": [
        {
          "output_type": "execute_result",
          "data": {
            "text/plain": [
              "['',\n",
              " '腰殿部痛',\n",
              " '急性鼻炎',\n",
              " '異常喀痰',\n",
              " '咳喘息',\n",
              " '口渇症',\n",
              " '敗血症性ショック',\n",
              " '湿疹',\n",
              " '発疹',\n",
              " '摂食障害',\n",
              " '乾性咳',\n",
              " '寝汗',\n",
              " '歯痛',\n",
              " '検診',\n",
              " '頭重感',\n",
              " '咽頭発赤',\n",
              " '鼻閉感',\n",
              " '肝機能障害',\n",
              " 'ぶどう球菌感染症',\n",
              " '腹部不快感',\n",
              " '感冒',\n",
              " '腰痛症',\n",
              " '発汗障害',\n",
              " '四肢しびれ',\n",
              " '胸部不快感',\n",
              " '乏尿',\n",
              " '急性耳痛',\n",
              " '拡張相肥大型心筋症',\n",
              " '喉頭痛',\n",
              " '全身倦怠感',\n",
              " '糖尿病',\n",
              " '脱水症',\n",
              " '腎不全',\n",
              " '上腹部痛',\n",
              " '肩こり',\n",
              " '溶連菌感染症',\n",
              " '歩行困難',\n",
              " '胃腸疾患',\n",
              " '嚥下障害',\n",
              " '胸やけ',\n",
              " '疼痛',\n",
              " '発熱',\n",
              " 'くしゃみ',\n",
              " '胸痛',\n",
              " '鼻汁',\n",
              " '咽頭炎',\n",
              " 'ピリピリ感',\n",
              " '吐血',\n",
              " '胸部異常陰影',\n",
              " 'アデノウイルス感染症',\n",
              " '呼吸促迫',\n",
              " '気管支炎',\n",
              " '喀痰',\n",
              " '扁桃炎',\n",
              " '骨折',\n",
              " '頭痛',\n",
              " '後頭部痛',\n",
              " 'ほてり',\n",
              " '肩部痛',\n",
              " '不明熱',\n",
              " '心不全',\n",
              " 'ブラ',\n",
              " '嘔吐症',\n",
              " '味覚異常',\n",
              " 'コロナウイルス感染症',\n",
              " '前胸部痛',\n",
              " '窒息感',\n",
              " '振戦',\n",
              " '聴覚異常',\n",
              " '尿路感染症',\n",
              " '肺野異常陰影',\n",
              " '神経痛',\n",
              " '鼻閉',\n",
              " '倦怠感',\n",
              " '頚部痛',\n",
              " '腹痛症',\n",
              " '高血圧症',\n",
              " '多尿',\n",
              " '結膜充血',\n",
              " '鼻炎',\n",
              " '筋力低下',\n",
              " '動悸',\n",
              " '膿性痰',\n",
              " '胃腸炎',\n",
              " '胸水貯留',\n",
              " '血尿',\n",
              " '敗血症',\n",
              " '咽頭痛',\n",
              " 'そう痒',\n",
              " '悪心',\n",
              " '高熱',\n",
              " '味覚減退症',\n",
              " '健康相談',\n",
              " '眼精疲労',\n",
              " '悪寒',\n",
              " '鼻漏',\n",
              " '麻疹',\n",
              " 'アレルギー',\n",
              " '息切れ',\n",
              " '咽喉頭異常感症',\n",
              " '胃痛',\n",
              " '意識障害',\n",
              " '結膜炎',\n",
              " '微熱',\n",
              " '紅斑症',\n",
              " '意識消失',\n",
              " '下腹痛',\n",
              " '脂質異常症',\n",
              " '筋肉痛',\n",
              " '心配',\n",
              " '悪寒戦慄',\n",
              " 'めまい',\n",
              " '疲労感',\n",
              " '背部痛',\n",
              " '耳痛症',\n",
              " '頻尿症',\n",
              " 'かぜ',\n",
              " '不安障害',\n",
              " 'インフルエンザ',\n",
              " '片頭痛',\n",
              " '血腫',\n",
              " '眼痛',\n",
              " '喉頭炎',\n",
              " '老衰',\n",
              " '嘔気',\n",
              " '花粉症',\n",
              " '鼻痛',\n",
              " '発音障害',\n",
              " '喘鳴',\n",
              " '外傷',\n",
              " '咳',\n",
              " '血痰',\n",
              " 'つかえ感',\n",
              " '貧血',\n",
              " '過剰喀痰',\n",
              " 'ウイルス感染症',\n",
              " '脱力感',\n",
              " '関節痛',\n",
              " '心肺停止',\n",
              " '呼吸不全',\n",
              " '全身痛',\n",
              " '肋骨痛',\n",
              " '聴覚障害',\n",
              " '胆石性急性胆のう炎',\n",
              " '嗅覚異常',\n",
              " '耳鳴症',\n",
              " '味覚障害',\n",
              " '関節炎',\n",
              " '急性上気道炎',\n",
              " '口内炎',\n",
              " '項部腫脹',\n",
              " '末梢循環障害',\n",
              " '項部痛',\n",
              " '摂食機能障害',\n",
              " '体力低下',\n",
              " '下肢しびれ',\n",
              " '起立性眩暈',\n",
              " '嗄声',\n",
              " '頚部腫脹',\n",
              " '食欲不振',\n",
              " '特発性拡張型心筋症',\n",
              " 'よう',\n",
              " '咽頭異常感症',\n",
              " '胸内苦悶',\n",
              " '嗅覚障害',\n",
              " '腰腹痛',\n",
              " '下痢症']"
            ]
          },
          "metadata": {
            "tags": []
          },
          "execution_count": 16
        }
      ]
    },
    {
      "cell_type": "markdown",
      "metadata": {
        "id": "nu9oBd--Q_y6",
        "colab_type": "text"
      },
      "source": [
        "# 勾配ブースティング法を用いたモデルの作成\n"
      ]
    },
    {
      "cell_type": "markdown",
      "metadata": {
        "id": "s582C54CcpWD",
        "colab_type": "text"
      },
      "source": [
        "## データの整理"
      ]
    },
    {
      "cell_type": "code",
      "metadata": {
        "id": "2ll06d6s55eK",
        "colab_type": "code",
        "colab": {}
      },
      "source": [
        "df_new = df[[\"都道府県コード\", \"年代\", \"性別\", \"ステータス\", \"症状一覧\"]]"
      ],
      "execution_count": 17,
      "outputs": []
    },
    {
      "cell_type": "code",
      "metadata": {
        "id": "B9u9TsuPDHcM",
        "colab_type": "code",
        "colab": {}
      },
      "source": [
        "# ステータスは`非公開`や``をdropし、死亡を４、重症を3、中等症を２、軽症、無症状を1とする\n",
        "df_new = df_new[(df['ステータス'] == \"重症\") | (df['ステータス'] == '軽症') | (df['ステータス'] == '死亡') | (df['ステータス'] == '無症状') | (df['ステータス'] == '中等症')]\n",
        "df_new[\"ステータス\"] = df_new[\"ステータス\"].str.replace(\"重症\", \"1\").str.replace(\"死亡\", \"1\").str.replace(\"中等症\", \"0\").str.replace(\"軽症\", \"0\").str.replace(\"無症状\", \"0\")\n",
        "df_new[\"ステータス\"] = df_new[\"ステータス\"].astype(int)"
      ],
      "execution_count": 18,
      "outputs": []
    },
    {
      "cell_type": "code",
      "metadata": {
        "id": "ogdB1ZYn9W-D",
        "colab_type": "code",
        "colab": {}
      },
      "source": [
        "for element in cleaned_symptoms_list:\n",
        "  df_new[element] = df_new[\"症状一覧\"].str.contains(element)"
      ],
      "execution_count": 19,
      "outputs": []
    },
    {
      "cell_type": "code",
      "metadata": {
        "id": "SCxZ0M9pEeoV",
        "colab_type": "code",
        "colab": {}
      },
      "source": [
        "df_new[\"都道府県コード\"] = df_new[\"都道府県コード\"].astype(int)"
      ],
      "execution_count": 20,
      "outputs": []
    },
    {
      "cell_type": "code",
      "metadata": {
        "id": "6ZUlu7lPZhrQ",
        "colab_type": "code",
        "colab": {}
      },
      "source": [
        "# 症状一覧をdropする\n",
        "df_new = df_new.drop('症状一覧', axis=1)"
      ],
      "execution_count": 21,
      "outputs": []
    },
    {
      "cell_type": "markdown",
      "metadata": {
        "id": "iAMOHevCWEy2",
        "colab_type": "text"
      },
      "source": [
        "## XGBoostを用いるケース"
      ]
    },
    {
      "cell_type": "code",
      "metadata": {
        "id": "wSFY7oKwlPmc",
        "colab_type": "code",
        "colab": {}
      },
      "source": [
        "params1 = {\n",
        "    'n_estimators': 5000,\n",
        "    'max_depth': 7,\n",
        "    'objective':'reg:linear',\n",
        "    'min_child_weight': 4,\n",
        "    'eta': 0.07,\n",
        "    'eval_metric': 'mae',\n",
        "}\n",
        "\n",
        "params2 = {\n",
        "    'n_estimators': 5000,\n",
        "    'max_depth': 7,\n",
        "    'objective':'reg:linear',\n",
        "    'min_child_weight': 4,\n",
        "    'eta': 0.07,\n",
        "    'eval_metric': 'auc',\n",
        "}"
      ],
      "execution_count": 22,
      "outputs": []
    },
    {
      "cell_type": "code",
      "metadata": {
        "id": "kIJq80komhVp",
        "colab_type": "code",
        "colab": {}
      },
      "source": [
        "def plot_xgboost_result(df):\n",
        "  # モデルの作成(xgboost)\n",
        "  x_train, x_test, y_train, y_test = train_test_split(df.drop('都道府県コード', axis=1).drop(['ステータス'], axis=1), df['ステータス'], stratify=df['ステータス'], test_size=0.3, random_state=0)\n",
        "\n",
        "  dtrain = xgb.DMatrix(x_train, label=y_train)\n",
        "  dtest = xgb.DMatrix(x_test, label=y_test)\n",
        "\n",
        "  evals = [(dtrain, 'train'), (dtest, 'test')]\n",
        "\n",
        "  evals_result = {}\n",
        "\n",
        "  model1= xgb.train(\n",
        "      params1,\n",
        "      dtrain,\n",
        "      num_boost_round=5000,\n",
        "      evals=evals,\n",
        "      early_stopping_rounds=30,\n",
        "      evals_result=evals_result,\n",
        "          )\n",
        "  clear_output()\n",
        "\n",
        "  y_pred = model1.predict(dtest)\n",
        "  y_true = y_test.values\n",
        "\n",
        "  train_metric = evals_result['train']['mae']\n",
        "  eval_metric = evals_result['test']['mae']\n",
        "  fig, axes = plt.subplots(nrows=2,ncols=2,figsize=(24,15))\n",
        "  axes[0,0].plot(train_metric, label='train mae')\n",
        "  axes[0,0].plot(eval_metric, label='test mae', linestyle='dashed')\n",
        "  axes[0,0].grid()\n",
        "  axes[0,0].legend()\n",
        "  axes[0,0].set_xlabel('学習回数')\n",
        "  axes[0,0].set_ylabel('平均絶対誤差')\n",
        "\n",
        "  xgb.plot_importance(model1, ax=axes[0,1], importance_type='gain', title='項目の重要度', show_values=False)\n",
        "  axes[0,1].set_ylabel(\"項目\")\n",
        "\n",
        "  evals = [(dtrain, 'train'), (dtest, 'test')]\n",
        "\n",
        "  evals_result = {}\n",
        "\n",
        "  # モデルの作成(AUC)\n",
        "  model2 = xgb.train(\n",
        "      params2,\n",
        "      dtrain,\n",
        "      num_boost_round=5000,\n",
        "      evals=evals,\n",
        "      early_stopping_rounds=30,\n",
        "      evals_result=evals_result,\n",
        "          )\n",
        "  clear_output()\n",
        "\n",
        "  check = model2.predict(dtest)\n",
        "  fpr, tpr, thresholds = roc_curve(y_true, check)\n",
        "  axes[1,0].plot(fpr, tpr, marker='o')\n",
        "  axes[1,0].set_xlabel('FPR: False positive rate')\n",
        "  axes[1,0].set_ylabel('TPR: True positive rate')\n",
        "  axes[1,0].grid()\n",
        "\n",
        "  history = xgb.cv(params1, dtrain, num_boost_round=200, early_stopping_rounds=10, nfold=10, verbose_eval=False, stratified=True)\n",
        "  train_metric = history['train-mae-mean']\n",
        "  eval_metric = history['test-mae-mean']\n",
        "  axes[1,1].plot(train_metric, label='train mae')\n",
        "  axes[1,1].plot(eval_metric, label='eval mae', linestyle='dashed')\n",
        "  axes[1,1].grid()\n",
        "  axes[1,1].legend()\n",
        "  axes[1,1].set_xlabel('round')\n",
        "  axes[1,1].set_ylabel('mae')\n",
        "  print(\"重症,死亡の患者の数\", df['ステータス'].value_counts()[1], '-', df['ステータス'].value_counts()[0])\n",
        "  print(\"AUCのベストスコア\", model2.best_score)"
      ],
      "execution_count": 23,
      "outputs": []
    },
    {
      "cell_type": "code",
      "metadata": {
        "id": "bicplIro7usA",
        "colab_type": "code",
        "colab": {}
      },
      "source": [
        "def cross_validation(df, random_state = 0):\n",
        "  x = df.drop('都道府県コード', axis=1).drop(['ステータス'], axis=1)\n",
        "  y = df['ステータス']\n",
        "  x_train, x_test, y_train, y_test = train_test_split(x, y, stratify=y, test_size=0.3, random_state=random_state)\n",
        "  model = LogisticRegression().fit(x_train, y_train)\n",
        "  kf_with_shuffle = KFold(n_splits = 10, shuffle = True, random_state = random_state)\n",
        "  kf_without_shuffle = KFold(n_splits = 10, shuffle = False, random_state = random_state)\n",
        "  strat_kf_with_shuffle = StratifiedKFold(n_splits=10, shuffle=True, random_state= random_state)\n",
        "  strat_kf_withøut_shuffle = StratifiedKFold(n_splits=10, shuffle=True, random_state= random_state)\n",
        "  test_data_score = model.score(x_test, y_test)\n",
        "  kfold_scores_with_shuffle = cross_val_score(model, x, y, cv=kf_with_shuffle)\n",
        "  kfold_scores_without_shuffle = cross_val_score(model, x, y, cv=kf_without_shuffle)\n",
        "  strat_kfold_score_with_shuffle = cross_val_score(model, x, y, cv=strat_kf_with_shuffle)\n",
        "  strat_kfold_score_without_shuffle = cross_val_score(model, x, y, cv=strat_kf_withøut_shuffle)\n",
        "  print(\"random_stateの値\", random_state)\n",
        "  print(\"テストデータのスコア\", test_data_score)\n",
        "  print(\"交差検証のスコア平均(シャッフルあり)\", kfold_scores_with_shuffle.mean())\n",
        "  print(\"交差検証のスコア平均(シャッフルなし)\", kfold_scores_without_shuffle.mean())\n",
        "  print(\"層化k分割交差検証のスコア平均(シャッフルあり)\", strat_kfold_score_with_shuffle.mean())\n",
        "  print(\"層化k分割交差検証のスコア平均(シャッフルなし)\", strat_kfold_score_without_shuffle.mean())"
      ],
      "execution_count": 24,
      "outputs": []
    },
    {
      "cell_type": "code",
      "metadata": {
        "id": "u1SU41jLylli",
        "colab_type": "code",
        "colab": {}
      },
      "source": [
        "# 重症患者の割合が少ないことから予測値が全て軽傷患者である判定をしてしまっている\n",
        "# そのため不均衡データ分析を行う必要がある\n",
        "# 今回はオーバーサンプリングとアンダーサンプリングの２種類を用いて不均衡なデータでも十分な分析ができるようにする"
      ],
      "execution_count": 25,
      "outputs": []
    },
    {
      "cell_type": "markdown",
      "metadata": {
        "id": "LbJj8EC45_iG",
        "colab_type": "text"
      },
      "source": [
        "## LightGBMを用いるケース"
      ]
    },
    {
      "cell_type": "code",
      "metadata": {
        "id": "-_s6u-jzK7BM",
        "colab_type": "code",
        "colab": {}
      },
      "source": [
        "# サンプリングレートを元に確率を補正する\n",
        "def probability_calibration(y_proba, beta):\n",
        "    calibrated_proba = y_proba / (y_proba + (1 - y_proba) / beta)\n",
        "    return calibrated_proba"
      ],
      "execution_count": 26,
      "outputs": []
    },
    {
      "cell_type": "code",
      "metadata": {
        "id": "2B0ZPABDF3ch",
        "colab_type": "code",
        "colab": {}
      },
      "source": [
        "def check_classification(df):\n",
        "  x = df.drop('都道府県コード', axis=1).drop(['ステータス'], axis=1)\n",
        "  y = df['ステータス']\n",
        "  X_train, X_test, y_train, y_test = train_test_split(x, y, test_size=0.2, random_state=42)\n",
        "\n",
        "  # まずは不均衡データのままロジスティック回帰モデルを学習させる\n",
        "  clf = LogisticRegression(random_state=42, solver='lbfgs')\n",
        "  clf.fit(X_train, y_train)\n",
        "  # 検証用データを予測させる\n",
        "  y_pred_proba_base = clf.predict_proba(X_test)[:, 1]\n",
        "  y_pred_base = np.where(y_pred_proba_base > 0.5, 1, 0)\n",
        "\n",
        "  # Recallを指定した時のprecisionを調べる\n",
        "  for percentage in [round(i * 0.1, 1) for i in range(1, 10)]:\n",
        "    calcurate_precision(y_test, y_pred_proba_base, percentage)\n",
        "\n",
        "  # Under-sampling で均衡データにする\n",
        "  sampler = RandomUnderSampler(random_state=42)\n",
        "  X_train_sampled, y_train_sampled = sampler.fit_sample(X_train, y_train)\n",
        "\n",
        "  # Over-sampling で均衡データにする\n",
        "  over_sampler = SMOTE(random_state=42)\n",
        "  X_train_over_sampled, y_train_over_sampled = over_sampler.fit_sample(X_train, y_train)\n",
        "\n",
        "  # Under-samplingの均衡データでロジスティック回帰モデルを学習させる\n",
        "  clf = LogisticRegression(random_state=42, solver='lbfgs')\n",
        "  clf.fit(X_train_sampled, y_train_sampled)\n",
        "  # Under-samplingの検証用データを予測させる\n",
        "  y_pred_proba_us = clf.predict_proba(X_test)[:, 1]\n",
        "  y_pred_us = np.where(y_pred_proba_us > 0.5, 1, 0)\n",
        "\n",
        "\n",
        "  # Over-samplingの均衡データでロジスティック回帰モデルを学習させる\n",
        "  clf = LogisticRegression(random_state=42, solver='lbfgs')\n",
        "  clf.fit(X_train_over_sampled, y_train_over_sampled)\n",
        "  # Over-samplingの検証用データを予測させる\n",
        "  y_pred_proba_os = clf.predict_proba(X_test)[:, 1]\n",
        "  y_pred_os = np.where(y_pred_proba_os > 0.5, 1, 0)\n",
        "\n",
        "  # サンプリングレートを元に確率を補正する\n",
        "  y_train_zero_len = np.count_nonzero(y_train_sampled == 0)\n",
        "  beta = y_train_zero_len / len(y_train)\n",
        "  y_pred_proba_cb = probability_calibration(y_pred_proba_us, beta)\n",
        "  y_pred_cb = np.where(y_pred_proba_cb > 0.5, 1, 0)\n",
        "\n",
        "  # Recallを指定した時のprecisionを調べる\n",
        "  for percentage in [round(i * 0.1, 1) for i in range(1, 10)]:\n",
        "    calcurate_precision(y_test, y_pred_proba_cb, percentage)\n",
        "\n",
        "  # 各種評価指標を出力する\n",
        "  # 精度\n",
        "  print('precision (base): ', metrics.precision_score(y_test, y_pred_base))\n",
        "  print('precision (under-sampling): ', metrics.precision_score(y_test, y_pred_us))\n",
        "  print('precision (over-sampling): ', metrics.precision_score(y_test, y_pred_os))\n",
        "  print('precision (calibrated): ', metrics.precision_score(y_test, y_pred_cb))\n",
        "  # 検出率\n",
        "  print('recall (base): ', metrics.recall_score(y_test, y_pred_base))\n",
        "  print('recall (under-sampling): ', metrics.recall_score(y_test, y_pred_us))\n",
        "  print('recall (over-sampling): ', metrics.recall_score(y_test, y_pred_os))\n",
        "  print('recall (calibrated): ', metrics.recall_score(y_test, y_pred_cb))\n",
        "  # F値\n",
        "  print('F1 (base): ', metrics.f1_score(y_test, y_pred_base))\n",
        "  print('F1 (under-sampling): ', metrics.f1_score(y_test, y_pred_us))\n",
        "  print('F1 (over-sampling): ', metrics.f1_score(y_test, y_pred_os))\n",
        "  print('F1 (calibrated): ', metrics.f1_score(y_test, y_pred_cb))\n",
        "  # ROC\n",
        "  print('ROC AUC (base): ', metrics.roc_auc_score(y_test, y_pred_base))\n",
        "  print('ROC AUC (under-sampling): ', metrics.roc_auc_score(y_test, y_pred_us))\n",
        "  print('ROC AUC (over-sampling): ', metrics.roc_auc_score(y_test, y_pred_os))\n",
        "  print('ROC AUC (calibrated): ', metrics.roc_auc_score(y_test, y_pred_cb))\n",
        "\n",
        "  # 各モデルが予測した内容の統計量\n",
        "  print('y_test mean', y_test.mean())\n",
        "  print('y_proba mean (base)', y_pred_proba_base.mean())\n",
        "  print('y_proba mean (under-sampling)', y_pred_proba_us.mean())\n",
        "  print('y_proba mean (over-sampling)', y_pred_proba_os.mean())\n",
        "  print('y_proba mean (calibrated)', y_pred_proba_cb.mean())\n",
        "\n",
        "  # キャリブレーションカーブを計算する\n",
        "  base_curve = calibration_curve(y_test, y_pred_proba_base, n_bins=10)\n",
        "  undersampling_curve = calibration_curve(y_test, y_pred_proba_us, n_bins=10)\n",
        "  oversampling_curve = calibration_curve(y_test, y_pred_proba_os, n_bins=10)\n",
        "  calibrated_curve = calibration_curve(y_test, y_pred_proba_cb, n_bins=10)\n",
        "\n",
        "  # プロットする\n",
        "  fig, axes = plt.subplots(2, 1, figsize=(8, 7))\n",
        "\n",
        "  ax1 = axes[0]\n",
        "  ax1.plot([0, 1], [0, 1], 'k:', label='Perfectly calibrated')\n",
        "  ax1.plot(base_curve[0], base_curve[1], label='base')\n",
        "  ax1.plot(undersampling_curve[0], undersampling_curve[1], label='under-sampling')\n",
        "  ax1.plot(oversampling_curve[0], oversampling_curve[1], label='over-sampling')\n",
        "  ax1.plot(calibrated_curve[0], calibrated_curve[1], label='calibrated')\n",
        "\n",
        "  ax1.grid()\n",
        "  ax1.set_ylabel('Fraction of positives')\n",
        "  ax1.set_xlabel('Prediction probability')\n",
        "  ax1.set_ylim([-0.05, 1.05])\n",
        "  ax1.legend(loc='lower right')\n",
        "\n",
        "  ax2 = axes[1]\n",
        "  ax2.hist(y_pred_proba_base, bins=144, alpha=0.5, color='red', label='y_pred_proba (base)')\n",
        "  ax2.hist(y_pred_proba_us, bins=144, alpha=0.5, color='orange', label='y_pred_proba (under-sampling)')\n",
        "  ax2.hist(y_pred_proba_os, bins=144, alpha=0.5, color='blue', label='y_pred_proba (over-sampling)')\n",
        "  ax2.hist(y_pred_proba_cb, bins=144, alpha=0.5, color='green', label='y_pred_proba (calibrated)')\n",
        "  ax2.axvline(x=y_test.mean(), color='blue', label='y_test mean')\n",
        "  ax2.axvline(x=y_pred_proba_base.mean(), color='red', label='y_proba mean (base)')\n",
        "  ax2.axvline(x=y_pred_proba_us.mean(), color='orange', label='y_proba mean (under-sampling)')\n",
        "  ax2.axvline(x=y_pred_proba_os.mean(), color='blue', label='y_proba mean (over-sampling)')\n",
        "  ax2.axvline(x=y_pred_proba_cb.mean(), color='green', label='y_proba mean (calibrated)')\n",
        "\n",
        "  ax2.set_xlabel('Prediction Probability')\n",
        "  ax2.set_ylabel('Frequency')\n",
        "\n",
        "  plt.legend()\n",
        "  plt.show()"
      ],
      "execution_count": 47,
      "outputs": []
    },
    {
      "cell_type": "code",
      "metadata": {
        "id": "-JeSB5MjKnBK",
        "colab_type": "code",
        "colab": {
          "base_uri": "https://localhost:8080/",
          "height": 1000
        },
        "outputId": "15da1a3d-5f39-4029-bd77-4d2479ffe2c3"
      },
      "source": [
        "check_classification(df_new)"
      ],
      "execution_count": 28,
      "outputs": [
        {
          "output_type": "stream",
          "text": [
            "/usr/local/lib/python3.6/dist-packages/sklearn/utils/deprecation.py:87: FutureWarning:\n",
            "\n",
            "Function safe_indexing is deprecated; safe_indexing is deprecated in version 0.22 and will be removed in version 0.24.\n",
            "\n",
            "/usr/local/lib/python3.6/dist-packages/sklearn/utils/deprecation.py:87: FutureWarning:\n",
            "\n",
            "Function safe_indexing is deprecated; safe_indexing is deprecated in version 0.22 and will be removed in version 0.24.\n",
            "\n",
            "/usr/local/lib/python3.6/dist-packages/sklearn/linear_model/_logistic.py:940: ConvergenceWarning:\n",
            "\n",
            "lbfgs failed to converge (status=1):\n",
            "STOP: TOTAL NO. of ITERATIONS REACHED LIMIT.\n",
            "\n",
            "Increase the number of iterations (max_iter) or scale the data as shown in:\n",
            "    https://scikit-learn.org/stable/modules/preprocessing.html\n",
            "Please also refer to the documentation for alternative solver options:\n",
            "    https://scikit-learn.org/stable/modules/linear_model.html#logistic-regression\n",
            "\n",
            "/usr/local/lib/python3.6/dist-packages/sklearn/linear_model/_logistic.py:940: ConvergenceWarning:\n",
            "\n",
            "lbfgs failed to converge (status=1):\n",
            "STOP: TOTAL NO. of ITERATIONS REACHED LIMIT.\n",
            "\n",
            "Increase the number of iterations (max_iter) or scale the data as shown in:\n",
            "    https://scikit-learn.org/stable/modules/preprocessing.html\n",
            "Please also refer to the documentation for alternative solver options:\n",
            "    https://scikit-learn.org/stable/modules/linear_model.html#logistic-regression\n",
            "\n",
            "/usr/local/lib/python3.6/dist-packages/sklearn/metrics/_classification.py:1272: UndefinedMetricWarning:\n",
            "\n",
            "Precision is ill-defined and being set to 0.0 due to no predicted samples. Use `zero_division` parameter to control this behavior.\n",
            "\n"
          ],
          "name": "stderr"
        },
        {
          "output_type": "stream",
          "text": [
            "precision (base):  0.0\n",
            "precision (under-sampling):  0.08565737051792828\n",
            "precision (over-sampling):  0.08565737051792828\n",
            "precision (calibrated):  0.0\n",
            "recall (base):  0.0\n",
            "recall (under-sampling):  0.6231884057971014\n",
            "recall (over-sampling):  0.6231884057971014\n",
            "recall (calibrated):  0.0\n",
            "F1 (base):  0.0\n",
            "F1 (under-sampling):  0.15061295971978983\n",
            "F1 (over-sampling):  0.15061295971978983\n",
            "F1 (calibrated):  0.0\n",
            "ROC AUC (base):  0.5\n",
            "ROC AUC (under-sampling):  0.6004626481607402\n",
            "ROC AUC (over-sampling):  0.6004626481607402\n",
            "ROC AUC (calibrated):  0.5\n",
            "y_test mean 0.05968858131487889\n",
            "y_proba mean (base) 0.05268249742823592\n",
            "y_proba mean (under-sampling) 0.47772978944324956\n",
            "y_proba mean (over-sampling) 0.45607712668794215\n",
            "y_proba mean (calibrated) 0.05155216048035965\n"
          ],
          "name": "stdout"
        },
        {
          "output_type": "display_data",
          "data": {
            "image/png": "[encoded data removed]",
            "text/plain": [
              "<Figure size 576x504 with 2 Axes>"
            ]
          },
          "metadata": {
            "tags": [],
            "needs_background": "light"
          }
        }
      ]
    },
    {
      "cell_type": "code",
      "metadata": {
        "id": "dheVJur0WI2y",
        "colab_type": "code",
        "colab": {}
      },
      "source": [
        "renamed_df = df_new\n",
        "renamed_df.columns = list(range(171))"
      ],
      "execution_count": 29,
      "outputs": []
    },
    {
      "cell_type": "code",
      "metadata": {
        "id": "bO-4wvMZSaL0",
        "colab_type": "code",
        "colab": {
          "base_uri": "https://localhost:8080/",
          "height": 1000
        },
        "outputId": "996ac573-48ed-451c-8104-dae9d682e2c6"
      },
      "source": [
        "class UnderBaggingKFold(BaseCrossValidator):\n",
        "    '''CV に使うだけで UnderBagging できるKFold実装(少ないクラスのデータは各 Fold で重複して選択される)'''\n",
        "\n",
        "    def __init__(self, n_splits=5, shuffle=True, random_states=None, test_size=0.2, whole_testing=False):\n",
        "        '''\n",
        "        :param n_splits: Fold の分割数\n",
        "        :param shuffle: 分割時にデータをシャッフルするか\n",
        "        :param random_states: 各 Fold の乱数シード\n",
        "        :param test_size: Under-sampling された中でテスト用データとして使う割合\n",
        "        :param whole_testing: Under-sampling で選ばれなかった全てのデータをテスト用データに追加するか\n",
        "        '''\n",
        "        self.n_splits = n_splits\n",
        "        self.shuffle = shuffle\n",
        "        self.random_states = random_states\n",
        "        self.test_size = test_size\n",
        "        self.whole_testing = whole_testing\n",
        "\n",
        "        self.sample_indices_ = []\n",
        "\n",
        "        if random_states is not None:\n",
        "            # 各 Fold の乱数シードが指定されているなら分割数をそれに合わせる\n",
        "            self.n_splits = len(random_states)\n",
        "        else:\n",
        "            # 乱数シードが指定されていないときは分割数だけ None で埋めておく\n",
        "            self.random_states = [None] * self.n_splits\n",
        "\n",
        "        # 分割数だけ Under-sampling 用のインスタンスを作っておく\n",
        "        self.samplers_ = [\n",
        "            RandomUnderSampler(random_state=random_state)\n",
        "            for random_state in self.random_states\n",
        "        ]\n",
        "\n",
        "    def split(self, X, y=None, groups=None):\n",
        "        '''データを学習用とテスト用に分割する'''\n",
        "        if X.ndim < 2:\n",
        "            # RandomUnderSampler#fit_resample() は X が 1d-array だと文句を言う\n",
        "            X = np.vstack(X)\n",
        "\n",
        "        for i in range(self.n_splits):\n",
        "            # データを Under-sampling して均衡データにする\n",
        "            sampler = self.samplers_[i]\n",
        "            _, y_sampled = sampler.fit_resample(X, y)\n",
        "            # 選ばれたデータのインデックスを取り出す\n",
        "            sampled_indices = sampler.sample_indices_\n",
        "\n",
        "            # 選ばれたデータのインデックスを記録しておく\n",
        "            self.sample_indices_ = sampled_indices\n",
        "\n",
        "            # 選ばれたデータを学習用とテスト用に分割する\n",
        "            split_data = train_test_split(sampled_indices, shuffle=self.shuffle, test_size=self.test_size, stratify=y_sampled, random_state=self.random_states[i],)\n",
        "            train_indices, test_indices = split_data\n",
        "\n",
        "            if self.whole_testing:\n",
        "                # Under-sampling で選ばれなかったデータをテスト用に追加する\n",
        "                mask = np.ones(len(X), dtype=np.bool)\n",
        "                mask[sampled_indices] = False\n",
        "                X_indices = np.arange(len(X))\n",
        "                non_sampled_indices = X_indices[mask]\n",
        "                test_indices = np.concatenate([test_indices, non_sampled_indices])\n",
        "\n",
        "            yield train_indices, test_indices\n",
        "\n",
        "    def get_n_splits(self, X=None, y=None, groups=None):\n",
        "        return self.n_splits\n",
        "\n",
        "\n",
        "class ModelExtractionCallback(object):\n",
        "    # lightgbm.cv() から学習済みモデルを取り出すためのコールバックに使うクラス\n",
        "\n",
        "    def __init__(self):\n",
        "        self._model = None\n",
        "\n",
        "    def __call__(self, env):\n",
        "        # _CVBooster の参照を保持する\n",
        "        self._model = env.model\n",
        "\n",
        "    def _assert_called_cb(self):\n",
        "        if self._model is None:\n",
        "            # コールバックが呼ばれていないときは例外にする\n",
        "            raise RuntimeError('callback has not called yet')\n",
        "\n",
        "    @property\n",
        "    def boosters_proxy(self):\n",
        "        self._assert_called_cb()\n",
        "        # Booster へのプロキシオブジェクトを返す\n",
        "        return self._model\n",
        "\n",
        "    @property\n",
        "    def raw_boosters(self):\n",
        "        self._assert_called_cb()\n",
        "        # Booster のリストを返す\n",
        "        return self._model.boosters\n",
        "\n",
        "    @property\n",
        "    def best_iteration(self):\n",
        "        self._assert_called_cb()\n",
        "        # Early stop したときの boosting round を返す\n",
        "        return self._model.best_iteration\n",
        "\n",
        "def calcurate_precision(test_data, data, percentage):\n",
        "  p_1 = np.array(data)[test_data == 1]\n",
        "  cal_percentage = 1 - percentage\n",
        "  p_1_q = np.quantile(p_1,cal_percentage)\n",
        "  y_q = test_data[np.array(data)>p_1_q]\n",
        "  if sum(y_q) != 0:\n",
        "    print('recallが', percentage, 'の割合で指定された時のprecision', sum(y_q)/len(y_q))\n",
        "\n",
        "def main():\n",
        "    df = renamed_df\n",
        "    X = df.drop(0, axis=1).drop(3, axis=1)\n",
        "    y = df[3]\n",
        "\n",
        "    # 学習用データと検証用データに分割する (Hold-out)\n",
        "    X_train, X_test, y_train, y_test = train_test_split(X, y, test_size=0.2, random_state=42)\n",
        "\n",
        "    # まずは不均衡データのまま学習させる\n",
        "    lgb_params = {\n",
        "        'objective': 'binary',\n",
        "        'metric': 'binary_logloss',\n",
        "    }\n",
        "    X_tr, X_ev, y_tr, y_ev = train_test_split(X_train, y_train, test_size=0.2, random_state=42)\n",
        "    lgb_train = lgb.Dataset(X_tr, y_tr)\n",
        "    lgb_eval = lgb.Dataset(X_ev, y_ev, reference=lgb_train)\n",
        "    booster = lgb.train(lgb_params, lgb_train, valid_sets=lgb_eval, num_boost_round=1000, early_stopping_rounds=10, verbose_eval=10)\n",
        "\n",
        "    # 検証用データを予測させる\n",
        "    y_pred_proba_base = booster.predict(X_test)\n",
        "    y_pred_base = np.where(y_pred_proba_base > 0.163, 1, 0)\n",
        "\n",
        "    # Recallを指定した時のprecisionを調べる\n",
        "    for percentage in [round(i * 0.1, 1) for i in range(1, 10)]:\n",
        "      calcurate_precision(y_test, y_pred_proba_base, percentage)\n",
        "\n",
        "    # 均衡データで学習させる (UnderBagging)\n",
        "    folds = UnderBaggingKFold(random_states=range(42, 42 + 5))\n",
        "    lgb_train = lgb.Dataset(X_train, y_train)\n",
        "    extraction_cb = ModelExtractionCallback()\n",
        "    callbacks = [\n",
        "        extraction_cb,\n",
        "    ]\n",
        "    lgb.cv(lgb_params, lgb_train,\n",
        "           num_boost_round=1000,\n",
        "           early_stopping_rounds=10,\n",
        "           folds=folds,\n",
        "           callbacks=callbacks,\n",
        "           verbose_eval=10)\n",
        "    cv_booster = extraction_cb.boosters_proxy\n",
        "    # 検証用データを予測させる\n",
        "    y_pred_proba_ub_list = cv_booster.predict(X_test)\n",
        "    y_pred_proba_ub = np.array(y_pred_proba_ub_list).mean(axis=0)\n",
        "    y_pred_ub = np.where(y_pred_proba_ub > 0.163, 1, 0)\n",
        "\n",
        "    # サンプリングレートを元に確率を補正する\n",
        "    y_sampled = y_train.reindex(folds.sample_indices_)\n",
        "    y_sampled_negative_len = np.count_nonzero(y_sampled == 0)\n",
        "    beta = y_sampled_negative_len / len(y_train)\n",
        "    y_pred_proba_cb = probability_calibration(y_pred_proba_ub, beta)\n",
        "    y_pred_cb = np.where(y_pred_proba_cb > 0.163, 1, 0)\n",
        "\n",
        "    # Recallを指定した時のprecisionを調べる\n",
        "    for percentage in [round(i * 0.1, 1) for i in range(1, 10)]:\n",
        "      calcurate_precision(y_test, y_pred_proba_cb, percentage)\n",
        "\n",
        "    # 各種評価指標を出力する\n",
        "    print('precision (base): ', metrics.precision_score(y_test, y_pred_base))\n",
        "    print('precision (under-bagging): ', metrics.precision_score(y_test, y_pred_ub))\n",
        "    print('precision (calibrated): ', metrics.precision_score(y_test, y_pred_cb))\n",
        "    print('recall (base): ', metrics.recall_score(y_test, y_pred_base))\n",
        "    print('recall (under-bagging): ', metrics.recall_score(y_test, y_pred_ub))\n",
        "    print('recall (calibrated): ', metrics.recall_score(y_test, y_pred_cb))\n",
        "    print('F1 (base): ', metrics.f1_score(y_test, y_pred_base))\n",
        "    print('F1 (under-bagging): ', metrics.f1_score(y_test, y_pred_ub))\n",
        "    print('F1 (calibrated): ', metrics.f1_score(y_test, y_pred_cb))\n",
        "    print('ROC AUC (base): ', metrics.roc_auc_score(y_test, y_pred_base))\n",
        "    print('ROC AUC (under-bagging): ', metrics.roc_auc_score(y_test, y_pred_ub))\n",
        "    print('ROC AUC (calibrated): ', metrics.roc_auc_score(y_test, y_pred_cb))\n",
        "\n",
        "    # 各モデルが予測した内容の統計量\n",
        "    print('y_test mean', y_test.mean())\n",
        "    print('y_proba mean (base)', y_pred_proba_base.mean())\n",
        "    print('y_proba mean (under-sampling)', y_pred_proba_ub.mean())\n",
        "    print('y_proba mean (calibrated)', y_pred_proba_cb.mean())\n",
        "\n",
        "    # キャリブレーションカーブを計算する\n",
        "    base_curve = calibration_curve(y_test, y_pred_proba_base, n_bins=10)\n",
        "    underbagging_curve = calibration_curve(y_test, y_pred_proba_ub, n_bins=10)\n",
        "    calibrated_curve = calibration_curve(y_test, y_pred_proba_cb, n_bins=10)\n",
        "\n",
        "    # プロットする\n",
        "    fig, axes = plt.subplots(2, 1, figsize=(8, 7))\n",
        "\n",
        "    ax1 = axes[0]\n",
        "    ax1.plot([0, 1], [0, 1], 'k:', label='Perfectly calibrated')\n",
        "    ax1.plot(base_curve[0], base_curve[1], label='base')\n",
        "    ax1.plot(underbagging_curve[0], underbagging_curve[1], label='under-bagging')\n",
        "    ax1.plot(calibrated_curve[0], calibrated_curve[1], label='calibrated')\n",
        "\n",
        "    ax1.grid()\n",
        "    ax1.set_ylabel('Fraction of positives')\n",
        "    ax1.set_xlabel('Prediction probability')\n",
        "    ax1.set_ylim([-0.05, 1.05])\n",
        "    ax1.legend(loc='lower right')\n",
        "\n",
        "    ax2 = axes[1]\n",
        "    ax2.hist(y_pred_proba_base, bins=144, alpha=0.5, color='red', label='y_pred_proba (base)')\n",
        "    ax2.hist(y_pred_proba_ub, bins=144, alpha=0.5, color='orange', label='y_pred_proba (under-bagging)')\n",
        "    ax2.hist(y_pred_proba_cb, bins=144, alpha=0.5, color='green', label='y_pred_proba (calibrated)')\n",
        "    ax2.axvline(x=y_test.mean(), color='blue', label='y_test mean')\n",
        "    ax2.axvline(x=y_pred_proba_base.mean(), color='red', label='y_proba mean (base)')\n",
        "    ax2.axvline(x=y_pred_proba_ub.mean(), color='orange', label='y_proba mean (under-bagging)')\n",
        "    ax2.axvline(x=y_pred_proba_cb.mean(), color='green', label='y_proba mean (calibrated)')\n",
        "\n",
        "    ax2.set_xlabel('Prediction Probability')\n",
        "    ax2.set_ylabel('Frequency')\n",
        "\n",
        "    plt.legend()\n",
        "    plt.show()\n",
        "\n",
        "\n",
        "if __name__ == '__main__':\n",
        "    main()"
      ],
      "execution_count": 45,
      "outputs": [
        {
          "output_type": "stream",
          "text": [
            "Training until validation scores don't improve for 10 rounds.\n",
            "[10]\tvalid_0's binary_logloss: 0.174072\n",
            "[20]\tvalid_0's binary_logloss: 0.168207\n",
            "[30]\tvalid_0's binary_logloss: 0.16662\n",
            "[40]\tvalid_0's binary_logloss: 0.167392\n",
            "Early stopping, best iteration is:\n",
            "[32]\tvalid_0's binary_logloss: 0.166484\n",
            "recallが 0.2 の割合で指定された時のprecision 0.2826086956521739\n",
            "recallが 0.3 の割合で指定された時のprecision 0.2826086956521739\n",
            "recallが 0.4 の割合で指定された時のprecision 0.2708333333333333\n",
            "recallが 0.5 の割合で指定された時のprecision 0.19653179190751446\n",
            "recallが 0.6 の割合で指定された時のprecision 0.17857142857142858\n",
            "recallが 0.7 の割合で指定された時のprecision 0.14814814814814814\n",
            "recallが 0.8 の割合で指定された時のprecision 0.13829787234042554\n",
            "recallが 0.9 の割合で指定された時のprecision 0.10777385159010601\n"
          ],
          "name": "stdout"
        },
        {
          "output_type": "stream",
          "text": [
            "/usr/local/lib/python3.6/dist-packages/sklearn/utils/deprecation.py:87: FutureWarning:\n",
            "\n",
            "Function safe_indexing is deprecated; safe_indexing is deprecated in version 0.22 and will be removed in version 0.24.\n",
            "\n",
            "/usr/local/lib/python3.6/dist-packages/sklearn/utils/deprecation.py:87: FutureWarning:\n",
            "\n",
            "Function safe_indexing is deprecated; safe_indexing is deprecated in version 0.22 and will be removed in version 0.24.\n",
            "\n",
            "/usr/local/lib/python3.6/dist-packages/sklearn/utils/deprecation.py:87: FutureWarning:\n",
            "\n",
            "Function safe_indexing is deprecated; safe_indexing is deprecated in version 0.22 and will be removed in version 0.24.\n",
            "\n",
            "/usr/local/lib/python3.6/dist-packages/sklearn/utils/deprecation.py:87: FutureWarning:\n",
            "\n",
            "Function safe_indexing is deprecated; safe_indexing is deprecated in version 0.22 and will be removed in version 0.24.\n",
            "\n",
            "/usr/local/lib/python3.6/dist-packages/sklearn/utils/deprecation.py:87: FutureWarning:\n",
            "\n",
            "Function safe_indexing is deprecated; safe_indexing is deprecated in version 0.22 and will be removed in version 0.24.\n",
            "\n"
          ],
          "name": "stderr"
        },
        {
          "output_type": "stream",
          "text": [
            "[10]\tcv_agg's binary_logloss: 0.548794 + 0.0342739\n",
            "[20]\tcv_agg's binary_logloss: 0.525735 + 0.046926\n",
            "[30]\tcv_agg's binary_logloss: 0.518289 + 0.0525071\n",
            "[40]\tcv_agg's binary_logloss: 0.516524 + 0.0555879\n",
            "[50]\tcv_agg's binary_logloss: 0.516443 + 0.0552117\n",
            "recallが 0.2 の割合で指定された時のprecision 0.3125\n",
            "recallが 0.3 の割合で指定された時のprecision 0.2923076923076923\n",
            "recallが 0.4 の割合で指定された時のprecision 0.24347826086956523\n",
            "recallが 0.5 の割合で指定された時のprecision 0.2125\n",
            "recallが 0.6 の割合で指定された時のprecision 0.1872146118721461\n",
            "recallが 0.7 の割合で指定された時のprecision 0.16725978647686832\n",
            "recallが 0.8 の割合で指定された時のprecision 0.13866666666666666\n",
            "recallが 0.9 の割合で指定された時のprecision 0.113345521023766\n",
            "precision (base):  0.28205128205128205\n",
            "precision (under-bagging):  0.09117221418234443\n"
          ],
          "name": "stdout"
        },
        {
          "output_type": "stream",
          "text": [
            "/usr/local/lib/python3.6/dist-packages/sklearn/metrics/_classification.py:1272: UndefinedMetricWarning:\n",
            "\n",
            "Precision is ill-defined and being set to 0.0 due to no predicted samples. Use `zero_division` parameter to control this behavior.\n",
            "\n"
          ],
          "name": "stderr"
        },
        {
          "output_type": "stream",
          "text": [
            "precision (calibrated):  0.0\n",
            "recall (base):  0.3188405797101449\n",
            "recall (under-bagging):  0.9130434782608695\n",
            "recall (calibrated):  0.0\n",
            "F1 (base):  0.29931972789115646\n",
            "F1 (under-bagging):  0.16578947368421051\n",
            "F1 (calibrated):  0.0\n",
            "ROC AUC (base):  0.6336613202138581\n",
            "ROC AUC (under-bagging):  0.6676532938682453\n",
            "ROC AUC (calibrated):  0.5\n",
            "y_test mean 0.05968858131487889\n",
            "y_proba mean (base) 0.050340096789828655\n",
            "y_proba mean (under-sampling) 0.35463544578235906\n",
            "y_proba mean (calibrated) 0.032504783867680395\n"
          ],
          "name": "stdout"
        },
        {
          "output_type": "display_data",
          "data": {
            "image/png": "[encoded data removed]",
            "text/plain": [
              "<Figure size 576x504 with 2 Axes>"
            ]
          },
          "metadata": {
            "tags": [],
            "needs_background": "light"
          }
        }
      ]
    },
    {
      "cell_type": "markdown",
      "metadata": {
        "id": "6AmSN2n268Xb",
        "colab_type": "text"
      },
      "source": [
        "# 各地域に対してモデルの適用"
      ]
    },
    {
      "cell_type": "markdown",
      "metadata": {
        "id": "DHS55yPgbb1h",
        "colab_type": "text"
      },
      "source": [
        "## 全体(重傷者312人/全体5465人)"
      ]
    },
    {
      "cell_type": "code",
      "metadata": {
        "id": "8bD8T8pGwjYz",
        "colab_type": "code",
        "colab": {}
      },
      "source": [
        "# 都道府県の項目は外す\n",
        "# plot_xgboost_result(df_new)"
      ],
      "execution_count": 32,
      "outputs": []
    },
    {
      "cell_type": "code",
      "metadata": {
        "id": "15iI_XZU9shA",
        "colab_type": "code",
        "colab": {}
      },
      "source": [
        "warnings.filterwarnings('ignore')\n",
        "cross_validation(df_new)"
      ],
      "execution_count": null,
      "outputs": []
    },
    {
      "cell_type": "markdown",
      "metadata": {
        "id": "6jnIyQgCaqwW",
        "colab_type": "text"
      },
      "source": [
        "## 東京のみ(重傷者4人/全体222人)"
      ]
    },
    {
      "cell_type": "code",
      "metadata": {
        "id": "DFmviEoWavb9",
        "colab_type": "code",
        "colab": {}
      },
      "source": [
        "# df_new_tokyo = df_new[df_new[\"都道府県コード\"] == 13]\n",
        "# plot_xgboost_result(df_new_tokyo)"
      ],
      "execution_count": null,
      "outputs": []
    },
    {
      "cell_type": "code",
      "metadata": {
        "id": "tWYZs2Zd-4jl",
        "colab_type": "code",
        "colab": {}
      },
      "source": [
        "# warnings.filterwarnings('ignore')\n",
        "# cross_validation(df_new_tokyo)"
      ],
      "execution_count": null,
      "outputs": []
    },
    {
      "cell_type": "markdown",
      "metadata": {
        "id": "GHQ03o19bMn5",
        "colab_type": "text"
      },
      "source": [
        "## 神奈川のみ(重傷者56人/全体806人)"
      ]
    },
    {
      "cell_type": "code",
      "metadata": {
        "id": "sjv8Dfo7bU5A",
        "colab_type": "code",
        "colab": {}
      },
      "source": [
        "# df_new_kanagawa = df_new[df_new[\"都道府県コード\"] == 14]\n",
        "# plot_xgboost_result(df_new_kanagawa)"
      ],
      "execution_count": null,
      "outputs": []
    },
    {
      "cell_type": "code",
      "metadata": {
        "id": "BXnMV3lW-7kA",
        "colab_type": "code",
        "colab": {}
      },
      "source": [
        "# warnings.filterwarnings('ignore')\n",
        "# cross_validation(df_new_kanagawa)"
      ],
      "execution_count": null,
      "outputs": []
    },
    {
      "cell_type": "markdown",
      "metadata": {
        "id": "pWWbp5YlbQ3P",
        "colab_type": "text"
      },
      "source": [
        "## 北海道のみ(重傷者34人/全体924人)"
      ]
    },
    {
      "cell_type": "code",
      "metadata": {
        "id": "xuPuPS9ibUDX",
        "colab_type": "code",
        "colab": {}
      },
      "source": [
        "# df_new_hokkaido = df_new[df_new[\"都道府県コード\"] == 1]\n",
        "# plot_xgboost_result(df_new_hokkaido)"
      ],
      "execution_count": null,
      "outputs": []
    },
    {
      "cell_type": "code",
      "metadata": {
        "id": "GRkPPMgo-9rl",
        "colab_type": "code",
        "colab": {}
      },
      "source": [
        "# warnings.filterwarnings('ignore')\n",
        "# cross_validation(df_new_hokkaido)"
      ],
      "execution_count": null,
      "outputs": []
    },
    {
      "cell_type": "markdown",
      "metadata": {
        "id": "4B4dSoH-22fO",
        "colab_type": "text"
      },
      "source": [
        "## 近畿地方(重傷者169人/全体1878人)"
      ]
    },
    {
      "cell_type": "code",
      "metadata": {
        "id": "u-mCWn1T25-d",
        "colab_type": "code",
        "colab": {}
      },
      "source": [
        "# df_new_kinki = df_new[(df_new[\"都道府県コード\"] == 24) | (df_new[\"都道府県コード\"] == 25) | (df_new[\"都道府県コード\"] == 26) | (df_new[\"都道府県コード\"] == 27) | (df_new[\"都道府県コード\"] == 28) | (df_new[\"都道府県コード\"] == 29) | (df_new[\"都道府県コード\"] == 30)]\n",
        "# plot_xgboost_result(df_new_kinki)"
      ],
      "execution_count": null,
      "outputs": []
    },
    {
      "cell_type": "code",
      "metadata": {
        "id": "x1z5j3BB-_fa",
        "colab_type": "code",
        "colab": {}
      },
      "source": [
        "# warnings.filterwarnings('ignore')\n",
        "# cross_validation(df_new_kinki)"
      ],
      "execution_count": null,
      "outputs": []
    },
    {
      "cell_type": "markdown",
      "metadata": {
        "id": "qE2hXgZNhAux",
        "colab_type": "text"
      },
      "source": [
        "## 関東地方(重傷者72人/全体1552人)"
      ]
    },
    {
      "cell_type": "code",
      "metadata": {
        "id": "cr8qGSPlhMFk",
        "colab_type": "code",
        "colab": {}
      },
      "source": [
        "# df_new_kanto = df_new[(df_new[\"都道府県コード\"] == 8) | (df_new[\"都道府県コード\"] == 9) | (df_new[\"都道府県コード\"] == 10) | (df_new[\"都道府県コード\"] == 11) | (df_new[\"都道府県コード\"] == 12) | (df_new[\"都道府県コード\"] == 13) | (df_new[\"都道府県コード\"] == 14)]\n",
        "# plot_xgboost_result(df_new_kanto)"
      ],
      "execution_count": null,
      "outputs": []
    },
    {
      "cell_type": "code",
      "metadata": {
        "id": "ZRi6aNIh_Cvh",
        "colab_type": "code",
        "colab": {}
      },
      "source": [
        "# warnings.filterwarnings('ignore')\n",
        "# cross_validation(df_new_kanto)"
      ],
      "execution_count": null,
      "outputs": []
    },
    {
      "cell_type": "markdown",
      "metadata": {
        "id": "ATtvANkQj-_e",
        "colab_type": "text"
      },
      "source": [
        "## 中部地方(重傷者33人/全体651人)"
      ]
    },
    {
      "cell_type": "code",
      "metadata": {
        "id": "MIBXm7AakCvX",
        "colab_type": "code",
        "colab": {}
      },
      "source": [
        "# df_new_chubu = df_new[(df_new[\"都道府県コード\"] == 15) | (df_new[\"都道府県コード\"] == 16) | (df_new[\"都道府県コード\"] == 17) | (df_new[\"都道府県コード\"] == 18) | (df_new[\"都道府県コード\"] == 19) | (df_new[\"都道府県コード\"] == 20) | (df_new[\"都道府県コード\"] == 21) | (df_new[\"都道府県コード\"] == 22) | (df_new[\"都道府県コード\"] == 23)]\n",
        "# plot_xgboost_result(df_new_chubu)"
      ],
      "execution_count": null,
      "outputs": []
    },
    {
      "cell_type": "code",
      "metadata": {
        "id": "2xOzmi28_EUy",
        "colab_type": "code",
        "colab": {}
      },
      "source": [
        "# warnings.filterwarnings('ignore')\n",
        "# cross_validation(df_new_chubu)"
      ],
      "execution_count": null,
      "outputs": []
    },
    {
      "cell_type": "markdown",
      "metadata": {
        "id": "oes0OAcU3jAP",
        "colab_type": "text"
      },
      "source": [
        "## その他"
      ]
    },
    {
      "cell_type": "markdown",
      "metadata": {
        "id": "j5Rz0ccN2zhB",
        "colab_type": "text"
      },
      "source": [
        "九州地方、四国地方、東北地方、中国地方に関してはデータが不十分なので今回は分析を行わない。\n",
        "```\n",
        "# df_new_kyushu = df_new[(df_new[\"都道府県コード\"] == 40) | (df_new[\"都道府県コード\"] == 41) | (df_new[\"都道府県コード\"] == 42) | (df_new[\"都道府県コード\"] == 43) | (df_new[\"都道府県コード\"] == 44) | (df_new[\"都道府県コード\"] == 45) | (df_new[\"都道府県コード\"] == 46) | (df_new[\"都道府県コード\"] == 47)]\n",
        "# plot_xgboost_result(df_new_kyushu)\n",
        "```\n",
        "```\n",
        "# df_new_shikoku = df_new[(df_new[\"都道府県コード\"] == 36) | (df_new[\"都道府県コード\"] == 37) | (df_new[\"都道府県コード\"] == 38) | (df_new[\"都道府県コード\"] == 39)]\n",
        "# plot_xgboost_result(df_new_shikoku)\n",
        "```\n",
        "```\n",
        "# df_new_tohoku = df_new[(df_new[\"都道府県コード\"] == 2) | (df_new[\"都道府県コード\"] == 3) | (df_new[\"都道府県コード\"] == 4) | (df_new[\"都道府県コード\"] == 5) | (df_new[\"都道府県コード\"] == 6) | (df_new[\"都道府県コード\"] == 7)]\n",
        "# plot_xgboost_result(df_new_tohoku)\n",
        "```\n",
        "```\n",
        "# df_new_chugoku = df_new[(df_new[\"都道府県コード\"] == 31) | (df_new[\"都道府県コード\"] == 32) | (df_new[\"都道府県コード\"] == 33) | (df_new[\"都道府県コード\"] == 34) | (df_new[\"都道府県コード\"] == 35)]\n",
        "# plot_xgboost_result(df_new_chugoku)\n",
        "```"
      ]
    },
    {
      "cell_type": "markdown",
      "metadata": {
        "id": "1asmeB45kF8z",
        "colab_type": "text"
      },
      "source": [
        ""
      ]
    }
  ]
}